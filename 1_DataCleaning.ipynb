{
 "cells": [
  {
   "cell_type": "code",
   "execution_count": 1,
   "metadata": {},
   "outputs": [
    {
     "name": "stderr",
     "output_type": "stream",
     "text": [
      "[nltk_data] Downloading package stopwords to /home/ubuntu/nltk_data...\n",
      "[nltk_data]   Package stopwords is already up-to-date!\n"
     ]
    }
   ],
   "source": [
    "import pandas as pd\n",
    "import numpy as np\n",
    "import pickle\n",
    "from IPython.display import display\n",
    "import nltk\n",
    "nltk.download('stopwords')\n",
    "\n",
    "pd.options.display.max_columns = None\n",
    "pd.options.display.max_rows = 100"
   ]
  },
  {
   "cell_type": "markdown",
   "metadata": {},
   "source": [
    "# Data Cleaning\n",
    "\n",
    "This notebook contains the code to apply usual cleaning techniques to the data. The steps are as follows:\n",
    "\n",
    "    + The columns with the most missing values are omitted.\n",
    "    \n",
    "    + The variables like balcony_avaliable, investment_rent_active, and construction_yearfinished are attempted to impute via text mining and locations.\n",
    "    \n",
    "    + Severe outliers which inhibit visualising histograms are removed.\n",
    "    \n",
    "    + Data specific to postal code regions are integrated.\n",
    "    \n",
    "    + Repeated listings are removed by choosing only the first advertised listing among them. They are called \"censored\" and marked by the status column, which is 0 for censored observations. In the cases when the date variable expose_offline_since is null, the record is count as censored, too.\n",
    "    \n",
    "   \n",
    "    + Restricting the latest date by July 2019 to avoid from data collection bias (which could lead to an illusion as if the latest collected data sell faster).\n",
    "    \n",
    "    + The data from cities with less than 100 records are removed.\n",
    "     \n",
    "    + Further restrictions to the construction year to keep it between 1850 and 2030.\n",
    "    \n",
    "    + Ordinal encoding of the date variable (corresponds to \"Date of First Advertisement\" in the paper)\n",
    "\n",
    "\n",
    "    + Ordinal encoding for the variable object_type (corresponds to \"Property Type\" in the paper)\n",
    "\n",
    "\n",
    "\n",
    "\n"
   ]
  },
  {
   "cell_type": "markdown",
   "metadata": {},
   "source": [
    "# Select variables"
   ]
  },
  {
   "cell_type": "code",
   "execution_count": 45,
   "metadata": {},
   "outputs": [],
   "source": [
    "all_cities_buy_new = pd.read_pickle(\"data_final/all_cities_buy_new.pkl\")"
   ]
  },
  {
   "cell_type": "code",
   "execution_count": 46,
   "metadata": {},
   "outputs": [],
   "source": [
    "all_cities_buy_new = all_cities_buy_new[~all_cities_buy_new.expose_price_sqm.isna()]"
   ]
  },
  {
   "cell_type": "code",
   "execution_count": 47,
   "metadata": {},
   "outputs": [],
   "source": [
    "all_cities_buy_new = all_cities_buy_new[~all_cities_buy_new.address_geocoded_city.isna()]"
   ]
  },
  {
   "cell_type": "code",
   "execution_count": 48,
   "metadata": {},
   "outputs": [],
   "source": [
    "selected_columns = ['source_record_id'\n",
    "    ,'obj_unique_id_clus',\n",
    "                   'address_geocoded_city', \n",
    "                    'address_geocoded_postalcode',\n",
    "                    'address_lat',\n",
    "                    'address_lng',\n",
    "                   'balcony_available',\n",
    "                    'construction_yearfinished',\n",
    "                    'investment_rent_active',\n",
    "                    'object_category',\n",
    "                    'parking_available',\n",
    "                   'structure_area_living',\n",
    "                    'structure_rooms_living',\n",
    "                    'expose_price_sqm',\n",
    "                    'offline_corrected',\n",
    "                    'online_corrected',\n",
    "                    'weeks_on_market',\n",
    "                    'expose_content_text_tokens'\n",
    "                   ]\n"
   ]
  },
  {
   "cell_type": "code",
   "execution_count": 49,
   "metadata": {},
   "outputs": [],
   "source": [
    "all_cities_buy_new = all_cities_buy_new[selected_columns]"
   ]
  },
  {
   "cell_type": "markdown",
   "metadata": {},
   "source": [
    "# Missing Values"
   ]
  },
  {
   "cell_type": "code",
   "execution_count": 50,
   "metadata": {},
   "outputs": [],
   "source": [
    "nans=[]\n",
    "col_name=[]\n",
    "for column in all_cities_buy_new.columns:\n",
    "    nans.append(np.sum(pd.isna(all_cities_buy_new[[column]]))[0] / all_cities_buy_new.shape[0] )\n",
    "    col_name.append(column)\n",
    "\n",
    "missing = pd.DataFrame(np.array([col_name,nans]).T, columns = [\"column\", \"miss_ratio\"])\n",
    "missing.miss_ratio = missing.miss_ratio.astype(\"float\")"
   ]
  },
  {
   "cell_type": "code",
   "execution_count": 51,
   "metadata": {},
   "outputs": [
    {
     "data": {
      "text/html": [
       "<div>\n",
       "<style scoped>\n",
       "    .dataframe tbody tr th:only-of-type {\n",
       "        vertical-align: middle;\n",
       "    }\n",
       "\n",
       "    .dataframe tbody tr th {\n",
       "        vertical-align: top;\n",
       "    }\n",
       "\n",
       "    .dataframe thead th {\n",
       "        text-align: right;\n",
       "    }\n",
       "</style>\n",
       "<table border=\"1\" class=\"dataframe\">\n",
       "  <thead>\n",
       "    <tr style=\"text-align: right;\">\n",
       "      <th></th>\n",
       "      <th>column</th>\n",
       "      <th>miss_ratio</th>\n",
       "    </tr>\n",
       "  </thead>\n",
       "  <tbody>\n",
       "    <tr>\n",
       "      <th>6</th>\n",
       "      <td>balcony_available</td>\n",
       "      <td>0.603753</td>\n",
       "    </tr>\n",
       "    <tr>\n",
       "      <th>8</th>\n",
       "      <td>investment_rent_active</td>\n",
       "      <td>0.567076</td>\n",
       "    </tr>\n",
       "    <tr>\n",
       "      <th>7</th>\n",
       "      <td>construction_yearfinished</td>\n",
       "      <td>0.168778</td>\n",
       "    </tr>\n",
       "  </tbody>\n",
       "</table>\n",
       "</div>"
      ],
      "text/plain": [
       "                      column  miss_ratio\n",
       "6          balcony_available    0.603753\n",
       "8     investment_rent_active    0.567076\n",
       "7  construction_yearfinished    0.168778"
      ]
     },
     "execution_count": 51,
     "metadata": {},
     "output_type": "execute_result"
    }
   ],
   "source": [
    "missing[missing.miss_ratio > 0.0].sort_values(by=['miss_ratio'],ascending =False)"
   ]
  },
  {
   "cell_type": "markdown",
   "metadata": {},
   "source": [
    "# Missing investment_rent_active"
   ]
  },
  {
   "cell_type": "code",
   "execution_count": 52,
   "metadata": {},
   "outputs": [],
   "source": [
    "def vermietet_finder(text):\n",
    "    try:\n",
    "        if len(re.findall(\"vermiet\",text)) > 0:\n",
    "            return(True)\n",
    "        else:\n",
    "            return(False)\n",
    "    except:\n",
    "            return(False)"
   ]
  },
  {
   "cell_type": "code",
   "execution_count": 53,
   "metadata": {},
   "outputs": [
    {
     "data": {
      "application/vnd.jupyter.widget-view+json": {
       "model_id": "dece7fec72b34f92b62cbed5c7fdbd67",
       "version_major": 2,
       "version_minor": 0
      },
      "text/plain": [
       "HBox(children=(IntProgress(value=0, max=1493289), HTML(value='')))"
      ]
     },
     "metadata": {},
     "output_type": "display_data"
    }
   ],
   "source": [
    "import re\n",
    "from tqdm.auto import tqdm\n",
    "tqdm.pandas()\n",
    "vermietet = all_cities_buy_new.expose_content_text_tokens.progress_apply(lambda x:vermietet_finder(x))\n"
   ]
  },
  {
   "cell_type": "code",
   "execution_count": 54,
   "metadata": {},
   "outputs": [
    {
     "data": {
      "text/plain": [
       "False    0.339438\n",
       "True     0.093486\n",
       "Name: investment_rent_active, dtype: float64"
      ]
     },
     "execution_count": 54,
     "metadata": {},
     "output_type": "execute_result"
    }
   ],
   "source": [
    "all_cities_buy_new.investment_rent_active.value_counts()/all_cities_buy_new.shape[0]"
   ]
  },
  {
   "cell_type": "code",
   "execution_count": 55,
   "metadata": {},
   "outputs": [],
   "source": [
    "all_cities_buy_new.loc[:,\"investment_rent_active\"] = all_cities_buy_new[\"investment_rent_active\"].fillna(vermietet)"
   ]
  },
  {
   "cell_type": "code",
   "execution_count": 56,
   "metadata": {},
   "outputs": [
    {
     "data": {
      "text/plain": [
       "False    0.8217\n",
       "True     0.1783\n",
       "Name: investment_rent_active, dtype: float64"
      ]
     },
     "execution_count": 56,
     "metadata": {},
     "output_type": "execute_result"
    }
   ],
   "source": [
    "all_cities_buy_new.investment_rent_active.value_counts()/all_cities_buy_new.shape[0]"
   ]
  },
  {
   "cell_type": "markdown",
   "metadata": {},
   "source": [
    "# Missing Balkon"
   ]
  },
  {
   "cell_type": "code",
   "execution_count": 57,
   "metadata": {},
   "outputs": [],
   "source": [
    "def balkon_finder(text):\n",
    "    try:\n",
    "        if len(re.findall(\"balkon|terras|teras\",text)) > 0:\n",
    "            return(True)\n",
    "        else:\n",
    "            return(False)\n",
    "    except:\n",
    "            return(False)"
   ]
  },
  {
   "cell_type": "code",
   "execution_count": 58,
   "metadata": {},
   "outputs": [
    {
     "data": {
      "application/vnd.jupyter.widget-view+json": {
       "model_id": "eb0d8903639a4a8584ee7166a809762f",
       "version_major": 2,
       "version_minor": 0
      },
      "text/plain": [
       "HBox(children=(IntProgress(value=0, max=1493289), HTML(value='')))"
      ]
     },
     "metadata": {},
     "output_type": "display_data"
    }
   ],
   "source": [
    "import re\n",
    "from tqdm.auto import tqdm\n",
    "tqdm.pandas()\n",
    "balkon_ext = all_cities_buy_new.expose_content_text_tokens.progress_apply(lambda x:balkon_finder(x))"
   ]
  },
  {
   "cell_type": "code",
   "execution_count": 59,
   "metadata": {},
   "outputs": [
    {
     "data": {
      "text/plain": [
       "True     0.266881\n",
       "False    0.129366\n",
       "Name: balcony_available, dtype: float64"
      ]
     },
     "execution_count": 59,
     "metadata": {},
     "output_type": "execute_result"
    }
   ],
   "source": [
    "all_cities_buy_new.balcony_available.value_counts()/all_cities_buy_new.shape[0]"
   ]
  },
  {
   "cell_type": "code",
   "execution_count": 60,
   "metadata": {},
   "outputs": [],
   "source": [
    "all_cities_buy_new.loc[:,\"balcony_available\"] = all_cities_buy_new[\"balcony_available\"].fillna(balkon_ext)"
   ]
  },
  {
   "cell_type": "code",
   "execution_count": 61,
   "metadata": {},
   "outputs": [
    {
     "data": {
      "text/plain": [
       "True     0.543238\n",
       "False    0.456762\n",
       "Name: balcony_available, dtype: float64"
      ]
     },
     "execution_count": 61,
     "metadata": {},
     "output_type": "execute_result"
    }
   ],
   "source": [
    "all_cities_buy_new.balcony_available.value_counts()/all_cities_buy_new.shape[0]"
   ]
  },
  {
   "cell_type": "markdown",
   "metadata": {},
   "source": [
    "# Missing Construction Year\n",
    "\n",
    "\n",
    "The approach:\n",
    "\n",
    "1. Text mining: Take the words surrounding years. Build a predictive model to regress TF-IDF representation on the binary variable whether or not the year is a construction year.\n",
    "\n",
    "2. Construction years, which are still missing, are imputed by the postal code average.\n",
    "\n",
    "\n",
    "\n",
    "\n",
    "\n"
   ]
  },
  {
   "cell_type": "code",
   "execution_count": 62,
   "metadata": {},
   "outputs": [],
   "source": [
    "constr_data = all_cities_buy_new.copy()\n",
    "constr_data=constr_data[[\"source_record_id\",\"expose_content_text_tokens\",\"construction_yearfinished\"]]\n",
    "constr_data = constr_data.iloc[np.where([1 if s != [] else 0 for s in constr_data.expose_content_text_tokens])[0],]\n",
    "constr_data = constr_data[~constr_data.expose_content_text_tokens.isna()]\n",
    "constr_data[\"year_extracted\"] = constr_data.expose_content_text_tokens.apply(lambda x: re.findall(\"(?i)((?:19|20)[0-9]{2})\",x))"
   ]
  },
  {
   "cell_type": "code",
   "execution_count": 63,
   "metadata": {},
   "outputs": [],
   "source": [
    "constr_data = constr_data.iloc[np.where([1 if s != [] else 0 for s in constr_data.year_extracted])[0],]"
   ]
  },
  {
   "cell_type": "code",
   "execution_count": 64,
   "metadata": {},
   "outputs": [],
   "source": [
    "def surrounding_getter(year, text, context_length =3):\n",
    "    \n",
    "    context = []\n",
    "    for y in year:\n",
    "                  \n",
    "        year_ext = re.findall(\"(?:[a-zA-Z-]+[^a-zA-Z-]+){0,\"  +str(context_length)+ \"}\" + str(y) +\n",
    "           \"(?:[^a-zA-Z-]+|$)(?:[a-zA-Z-]+[^a-zA-Z-]*){0,\"  +str(context_length)+ \"}\",text)\n",
    "        if len(year_ext) > 0:\n",
    "            context.append(year_ext[0])\n",
    "        else:\n",
    "            context.append(\"\")\n",
    "            \n",
    "    return context"
   ]
  },
  {
   "cell_type": "code",
   "execution_count": 65,
   "metadata": {},
   "outputs": [
    {
     "data": {
      "application/vnd.jupyter.widget-view+json": {
       "model_id": "a35b2b583b814b4bb2519ac8d8775568",
       "version_major": 2,
       "version_minor": 0
      },
      "text/plain": [
       "HBox(children=(IntProgress(value=0, max=873088), HTML(value='')))"
      ]
     },
     "metadata": {},
     "output_type": "display_data"
    }
   ],
   "source": [
    "from tqdm.auto import tqdm\n",
    "tqdm.pandas()\n",
    "constr_data[\"stems\"] =constr_data.progress_apply(lambda x: surrounding_getter(x[\"year_extracted\"],\n",
    "                                                                      x[\"expose_content_text_tokens\"]),axis=1)"
   ]
  },
  {
   "cell_type": "code",
   "execution_count": 66,
   "metadata": {},
   "outputs": [],
   "source": [
    "from tqdm import tqdm\n",
    "def reshape_data(s1wf):\n",
    "\n",
    "    s1wf = s1wf.iloc[np.where([1 if s != [] else 0 for s in s1wf.stems])[0],]\n",
    "    s1wf = s1wf.iloc[np.where([1 if s != [] else 0 for s in s1wf.year_extracted])[0],]\n",
    "\n",
    "\n",
    "    source = []\n",
    "    stems=[]\n",
    "    year=[]\n",
    "    const=[]\n",
    "    \n",
    "    for idx in tqdm(range(s1wf.shape[0])):\n",
    "        stems += s1wf.iloc[idx][\"stems\"]\n",
    "        year += s1wf.iloc[idx][\"year_extracted\"]\n",
    "        source += [s1wf.iloc[idx][\"source_record_id\"]] * len(s1wf.iloc[idx][\"stems\"])\n",
    "        const +=  [s1wf.iloc[idx][\"construction_yearfinished\"]] * len(s1wf.iloc[idx][\"stems\"])\n",
    "        \n",
    "    df_dict = {'source_record_id': source, \n",
    "               'stems': stems,\n",
    "               'year_extracted': year,\n",
    "              'construction_yearfinished': const\n",
    "            }  \n",
    "\n",
    "    clean_data = pd.DataFrame(df_dict)\n",
    "\n",
    "    clean_data.year_extracted=clean_data.year_extracted.astype(float)\n",
    "    clean_data[\"constr_true\"] = np.where(np.abs(clean_data.construction_yearfinished-clean_data.year_extracted ) <= 5.0,1,0)\n",
    "    return(clean_data)"
   ]
  },
  {
   "cell_type": "code",
   "execution_count": 67,
   "metadata": {},
   "outputs": [
    {
     "name": "stderr",
     "output_type": "stream",
     "text": [
      "100%|██████████| 873088/873088 [19:05<00:00, 762.49it/s]\n"
     ]
    }
   ],
   "source": [
    "constr_data = reshape_data(constr_data)"
   ]
  },
  {
   "cell_type": "code",
   "execution_count": 68,
   "metadata": {},
   "outputs": [],
   "source": [
    "constr_data.year_extracted=constr_data.year_extracted.astype(float)"
   ]
  },
  {
   "cell_type": "code",
   "execution_count": 69,
   "metadata": {},
   "outputs": [],
   "source": [
    "constr_data[\"constr_true\"] = np.where(np.abs(constr_data.construction_yearfinished-constr_data.year_extracted ) <= 5.0,1,0)"
   ]
  },
  {
   "cell_type": "code",
   "execution_count": 70,
   "metadata": {},
   "outputs": [],
   "source": [
    "def tfidf_getter(tokens):\n",
    "    from sklearn.feature_extraction.text import TfidfVectorizer\n",
    "\n",
    "    tfidf_vectorizer = TfidfVectorizer(use_idf=True,min_df=0.001)\n",
    "    X = tfidf_vectorizer.fit_transform(tokens)\n",
    "    \n",
    "    return(X,tfidf_vectorizer)\n",
    "\n",
    "\n",
    "\n",
    "X,tfidf_vectorizer = tfidf_getter(constr_data.stems)\n",
    "idx_constr = np.where(~pd.isna(constr_data.construction_yearfinished))[0] "
   ]
  },
  {
   "cell_type": "code",
   "execution_count": 71,
   "metadata": {},
   "outputs": [
    {
     "name": "stdout",
     "output_type": "stream",
     "text": [
      "Construction Year 1:  900789\n",
      "Construction Year 0:  1015548 \n",
      "\n"
     ]
    },
    {
     "data": {
      "text/plain": [
       "(2083749, 724)"
      ]
     },
     "execution_count": 71,
     "metadata": {},
     "output_type": "execute_result"
    }
   ],
   "source": [
    "idx_impute = np.where(constr_data.construction_yearfinished.isna())[0]\n",
    "data_constr = constr_data.iloc[idx_constr,:]\n",
    "target_constr = np.array(constr_data[\"constr_true\"].iloc[idx_constr])\n",
    "print(\"Construction Year 1: \", target_constr[target_constr==1].shape[0])\n",
    "print(\"Construction Year 0: \", target_constr[target_constr==0].shape[0],\"\\n\")\n",
    "X_constr = X[idx_constr]\n",
    "X.shape"
   ]
  },
  {
   "cell_type": "code",
   "execution_count": 72,
   "metadata": {},
   "outputs": [],
   "source": [
    "from sklearn.model_selection import train_test_split\n",
    "\n",
    "(X_train_constr, X_test_constr,\n",
    " y_train_constr, y_test_constr,\n",
    "idx_train_constr, idx_test_constr) = train_test_split(X_constr,\n",
    "                                                   target_constr,\n",
    "                                                   idx_constr,                                        \n",
    "                                                   test_size = 0.15, \n",
    "                                                   random_state = 42)"
   ]
  },
  {
   "cell_type": "code",
   "execution_count": 73,
   "metadata": {},
   "outputs": [
    {
     "name": "stderr",
     "output_type": "stream",
     "text": [
      "/home/ubuntu/anaconda3/envs/batuhanc/lib/python3.6/site-packages/sklearn/linear_model/_logistic.py:939: ConvergenceWarning: lbfgs failed to converge (status=1):\n",
      "STOP: TOTAL NO. of ITERATIONS REACHED LIMIT.\n",
      "\n",
      "Increase the number of iterations (max_iter) or scale the data as shown in:\n",
      "    https://scikit-learn.org/stable/modules/preprocessing.html.\n",
      "Please also refer to the documentation for alternative solver options:\n",
      "    https://scikit-learn.org/stable/modules/linear_model.html#logistic-regression\n",
      "  extra_warning_msg=_LOGISTIC_SOLVER_CONVERGENCE_MSG)\n"
     ]
    },
    {
     "data": {
      "text/plain": [
       "LogisticRegression(C=100, class_weight=None, dual=False, fit_intercept=True,\n",
       "                   intercept_scaling=1, l1_ratio=None, max_iter=100,\n",
       "                   multi_class='auto', n_jobs=None, penalty='l2',\n",
       "                   random_state=0, solver='lbfgs', tol=0.0001, verbose=0,\n",
       "                   warm_start=False)"
      ]
     },
     "execution_count": 73,
     "metadata": {},
     "output_type": "execute_result"
    }
   ],
   "source": [
    "from sklearn.linear_model import LogisticRegression\n",
    "lr_model_constr = LogisticRegression(C = 100,random_state = 0)\n",
    "lr_model_constr.fit(X_train_constr, y_train_constr)"
   ]
  },
  {
   "cell_type": "code",
   "execution_count": 74,
   "metadata": {},
   "outputs": [],
   "source": [
    "pred_train_constr = lr_model_constr.predict(X_train_constr)\n",
    "pred_test_constr = lr_model_constr.predict(X_test_constr)"
   ]
  },
  {
   "cell_type": "code",
   "execution_count": 75,
   "metadata": {},
   "outputs": [
    {
     "name": "stdout",
     "output_type": "stream",
     "text": [
      "Construction Accuracy Train:  0.8821298728087785\n",
      "Construction AUC Train     :  0.8816522718349444\n",
      "Construction Accuracy Test :  0.8819868429749766\n",
      "Construction AUC Test      :  0.8815319775317765\n",
      "              precision    recall  f1-score   support\n",
      "\n",
      "           0       0.89      0.89      0.89    151581\n",
      "           1       0.88      0.87      0.87    135870\n",
      "\n",
      "    accuracy                           0.88    287451\n",
      "   macro avg       0.88      0.88      0.88    287451\n",
      "weighted avg       0.88      0.88      0.88    287451\n",
      "\n"
     ]
    }
   ],
   "source": [
    "from sklearn.metrics import accuracy_score, roc_auc_score, classification_report\n",
    "\n",
    "print(\"Construction Accuracy Train: \", accuracy_score(pred_train_constr,y_train_constr))\n",
    "print(\"Construction AUC Train     : \", roc_auc_score(pred_train_constr,y_train_constr))\n",
    "print(\"Construction Accuracy Test : \", accuracy_score(pred_test_constr,y_test_constr))\n",
    "print(\"Construction AUC Test      : \", roc_auc_score(pred_test_constr,y_test_constr))\n",
    "\n",
    "print(classification_report(pred_test_constr,y_test_constr))"
   ]
  },
  {
   "cell_type": "code",
   "execution_count": 76,
   "metadata": {},
   "outputs": [
    {
     "name": "stderr",
     "output_type": "stream",
     "text": [
      "/home/ubuntu/anaconda3/envs/batuhanc/lib/python3.6/site-packages/sklearn/linear_model/_logistic.py:939: ConvergenceWarning: lbfgs failed to converge (status=1):\n",
      "STOP: TOTAL NO. of ITERATIONS REACHED LIMIT.\n",
      "\n",
      "Increase the number of iterations (max_iter) or scale the data as shown in:\n",
      "    https://scikit-learn.org/stable/modules/preprocessing.html.\n",
      "Please also refer to the documentation for alternative solver options:\n",
      "    https://scikit-learn.org/stable/modules/linear_model.html#logistic-regression\n",
      "  extra_warning_msg=_LOGISTIC_SOLVER_CONVERGENCE_MSG)\n"
     ]
    },
    {
     "data": {
      "text/plain": [
       "LogisticRegression(C=100, class_weight=None, dual=False, fit_intercept=True,\n",
       "                   intercept_scaling=1, l1_ratio=None, max_iter=100,\n",
       "                   multi_class='auto', n_jobs=None, penalty='l2',\n",
       "                   random_state=0, solver='lbfgs', tol=0.0001, verbose=0,\n",
       "                   warm_start=False)"
      ]
     },
     "execution_count": 76,
     "metadata": {},
     "output_type": "execute_result"
    }
   ],
   "source": [
    "from sklearn.linear_model import LogisticRegression\n",
    "lr_model_constr_final = LogisticRegression(C = 100,random_state = 0)\n",
    "lr_model_constr_final.fit(X_constr, target_constr)"
   ]
  },
  {
   "cell_type": "code",
   "execution_count": 77,
   "metadata": {},
   "outputs": [],
   "source": [
    "X_constr_impute = X[idx_impute]"
   ]
  },
  {
   "cell_type": "code",
   "execution_count": 78,
   "metadata": {},
   "outputs": [
    {
     "name": "stderr",
     "output_type": "stream",
     "text": [
      "/home/ubuntu/anaconda3/envs/batuhanc/lib/python3.6/site-packages/ipykernel/__main__.py:2: SettingWithCopyWarning: \n",
      "A value is trying to be set on a copy of a slice from a DataFrame\n",
      "\n",
      "See the caveats in the documentation: http://pandas.pydata.org/pandas-docs/stable/indexing.html#indexing-view-versus-copy\n",
      "  from ipykernel import kernelapp as app\n"
     ]
    }
   ],
   "source": [
    "constr_data.loc[:,\"prediction\"] = 0\n",
    "constr_data.loc[:,\"prediction\"][constr_data.construction_yearfinished.isna()] = lr_model_constr_final.predict(X_constr_impute)"
   ]
  },
  {
   "cell_type": "code",
   "execution_count": 79,
   "metadata": {},
   "outputs": [
    {
     "data": {
      "text/html": [
       "<div>\n",
       "<style scoped>\n",
       "    .dataframe tbody tr th:only-of-type {\n",
       "        vertical-align: middle;\n",
       "    }\n",
       "\n",
       "    .dataframe tbody tr th {\n",
       "        vertical-align: top;\n",
       "    }\n",
       "\n",
       "    .dataframe thead th {\n",
       "        text-align: right;\n",
       "    }\n",
       "</style>\n",
       "<table border=\"1\" class=\"dataframe\">\n",
       "  <thead>\n",
       "    <tr style=\"text-align: right;\">\n",
       "      <th></th>\n",
       "      <th>source_record_id</th>\n",
       "      <th>stems</th>\n",
       "      <th>year_extracted</th>\n",
       "      <th>construction_yearfinished</th>\n",
       "      <th>constr_true</th>\n",
       "      <th>prediction</th>\n",
       "    </tr>\n",
       "  </thead>\n",
       "  <tbody>\n",
       "    <tr>\n",
       "      <th>0</th>\n",
       "      <td>2074824</td>\n",
       "      <td>energieausweis vorgeschrieb baujahr 1902 haus ...</td>\n",
       "      <td>1902.0</td>\n",
       "      <td>NaN</td>\n",
       "      <td>0</td>\n",
       "      <td>1</td>\n",
       "    </tr>\n",
       "    <tr>\n",
       "      <th>1</th>\n",
       "      <td>2074824</td>\n",
       "      <td>energieausweis vorgeschrieb baujahr 1902 haus ...</td>\n",
       "      <td>1902.0</td>\n",
       "      <td>NaN</td>\n",
       "      <td>0</td>\n",
       "      <td>1</td>\n",
       "    </tr>\n",
       "    <tr>\n",
       "      <th>2</th>\n",
       "      <td>1789908</td>\n",
       "      <td>energieausweis vorgeschrieb baujahr 1902 haus ...</td>\n",
       "      <td>1902.0</td>\n",
       "      <td>NaN</td>\n",
       "      <td>0</td>\n",
       "      <td>1</td>\n",
       "    </tr>\n",
       "    <tr>\n",
       "      <th>3</th>\n",
       "      <td>1789908</td>\n",
       "      <td>energieausweis vorgeschrieb baujahr 1902 haus ...</td>\n",
       "      <td>1902.0</td>\n",
       "      <td>NaN</td>\n",
       "      <td>0</td>\n",
       "      <td>1</td>\n",
       "    </tr>\n",
       "    <tr>\n",
       "      <th>4</th>\n",
       "      <td>5616102</td>\n",
       "      <td>nam im jahr 1900 in leisnig bank</td>\n",
       "      <td>1900.0</td>\n",
       "      <td>NaN</td>\n",
       "      <td>0</td>\n",
       "      <td>1</td>\n",
       "    </tr>\n",
       "  </tbody>\n",
       "</table>\n",
       "</div>"
      ],
      "text/plain": [
       "  source_record_id                                              stems  \\\n",
       "0          2074824  energieausweis vorgeschrieb baujahr 1902 haus ...   \n",
       "1          2074824  energieausweis vorgeschrieb baujahr 1902 haus ...   \n",
       "2          1789908  energieausweis vorgeschrieb baujahr 1902 haus ...   \n",
       "3          1789908  energieausweis vorgeschrieb baujahr 1902 haus ...   \n",
       "4          5616102                  nam im jahr 1900 in leisnig bank    \n",
       "\n",
       "   year_extracted  construction_yearfinished  constr_true  prediction  \n",
       "0          1902.0                        NaN            0           1  \n",
       "1          1902.0                        NaN            0           1  \n",
       "2          1902.0                        NaN            0           1  \n",
       "3          1902.0                        NaN            0           1  \n",
       "4          1900.0                        NaN            0           1  "
      ]
     },
     "execution_count": 79,
     "metadata": {},
     "output_type": "execute_result"
    }
   ],
   "source": [
    "constr_data[constr_data.construction_yearfinished.isna()].head()"
   ]
  },
  {
   "cell_type": "code",
   "execution_count": 80,
   "metadata": {},
   "outputs": [
    {
     "data": {
      "text/plain": [
       "(62674, 6)"
      ]
     },
     "execution_count": 80,
     "metadata": {},
     "output_type": "execute_result"
    }
   ],
   "source": [
    "constr_data[constr_data.construction_yearfinished.isna() & (constr_data.prediction==1)].shape"
   ]
  },
  {
   "cell_type": "code",
   "execution_count": 81,
   "metadata": {},
   "outputs": [],
   "source": [
    "imputed_constr_years = constr_data[[\"source_record_id\",\"year_extracted\"]][constr_data.prediction == 1]"
   ]
  },
  {
   "cell_type": "code",
   "execution_count": 83,
   "metadata": {},
   "outputs": [],
   "source": [
    "imputed_constr_years.drop_duplicates(subset =\"source_record_id\", \n",
    "                     keep = False, inplace = True) "
   ]
  },
  {
   "cell_type": "code",
   "execution_count": 84,
   "metadata": {},
   "outputs": [],
   "source": [
    "all_cities_buy_new = pd.merge(all_cities_buy_new,imputed_constr_years,\n",
    "                         how = \"left\", on = \"source_record_id\")"
   ]
  },
  {
   "cell_type": "code",
   "execution_count": 85,
   "metadata": {},
   "outputs": [],
   "source": [
    "all_cities_buy_new.construction_yearfinished = all_cities_buy_new.construction_yearfinished.fillna(all_cities_buy_new.year_extracted)"
   ]
  },
  {
   "cell_type": "code",
   "execution_count": 86,
   "metadata": {},
   "outputs": [],
   "source": [
    "#all_cities_buy_new.to_pickle(\"data_final/selected_data_imp_prg.pkl\")"
   ]
  },
  {
   "cell_type": "code",
   "execution_count": 2,
   "metadata": {},
   "outputs": [],
   "source": [
    "all_cities_buy_new = pd.read_pickle(\"data_final/selected_data_imp_prg.pkl\")"
   ]
  },
  {
   "cell_type": "code",
   "execution_count": 3,
   "metadata": {},
   "outputs": [],
   "source": [
    "all_cities_buy_new.construction_yearfinished = all_cities_buy_new.construction_yearfinished.astype(float)"
   ]
  },
  {
   "cell_type": "code",
   "execution_count": 4,
   "metadata": {},
   "outputs": [],
   "source": [
    "baujahr_df=all_cities_buy_new[[\"address_geocoded_postalcode\",\"construction_yearfinished\"]].groupby(\"address_geocoded_postalcode\").mean()"
   ]
  },
  {
   "cell_type": "code",
   "execution_count": 5,
   "metadata": {},
   "outputs": [],
   "source": [
    "baujahr_df=baujahr_df.reset_index(\"address_geocoded_postalcode\")"
   ]
  },
  {
   "cell_type": "code",
   "execution_count": 6,
   "metadata": {},
   "outputs": [],
   "source": [
    "baujahr_df.columns =[\"address_geocoded_postalcode\",\"construction_yearfinished_plz\"]"
   ]
  },
  {
   "cell_type": "code",
   "execution_count": 7,
   "metadata": {},
   "outputs": [],
   "source": [
    "all_cities_buy_new = pd.merge(all_cities_buy_new,baujahr_df,how=\"left\", on =\"address_geocoded_postalcode\" )"
   ]
  },
  {
   "cell_type": "code",
   "execution_count": 8,
   "metadata": {},
   "outputs": [],
   "source": [
    "all_cities_buy_new.construction_yearfinished = all_cities_buy_new.construction_yearfinished.fillna(all_cities_buy_new.construction_yearfinished_plz)"
   ]
  },
  {
   "cell_type": "code",
   "execution_count": 9,
   "metadata": {},
   "outputs": [
    {
     "data": {
      "text/plain": [
       "58"
      ]
     },
     "execution_count": 9,
     "metadata": {},
     "output_type": "execute_result"
    }
   ],
   "source": [
    "all_cities_buy_new.construction_yearfinished.isna().sum()"
   ]
  },
  {
   "cell_type": "code",
   "execution_count": 10,
   "metadata": {},
   "outputs": [],
   "source": [
    "all_cities_buy_new = all_cities_buy_new[~all_cities_buy_new.construction_yearfinished.isna()]"
   ]
  },
  {
   "cell_type": "code",
   "execution_count": 11,
   "metadata": {},
   "outputs": [
    {
     "data": {
      "text/plain": [
       "(1493231, 20)"
      ]
     },
     "execution_count": 11,
     "metadata": {},
     "output_type": "execute_result"
    }
   ],
   "source": [
    "all_cities_buy_new.shape"
   ]
  },
  {
   "cell_type": "markdown",
   "metadata": {},
   "source": [
    "# Outlier Removal"
   ]
  },
  {
   "cell_type": "markdown",
   "metadata": {},
   "source": [
    "### Construction Year"
   ]
  },
  {
   "cell_type": "code",
   "execution_count": null,
   "metadata": {},
   "outputs": [],
   "source": [
    "all_cities_buy_clean = all_cities_buy_clean[all_cities_buy_clean.construction_yearfinished >= 1000]\n",
    "\n",
    "all_cities_buy_clean = all_cities_buy_clean[all_cities_buy_clean.construction_yearfinished <= 2030]"
   ]
  },
  {
   "cell_type": "markdown",
   "metadata": {},
   "source": [
    "### Price per Square Meter\n",
    "\n",
    "The old histogram\n",
    "\n",
    "\n",
    "\n"
   ]
  },
  {
   "cell_type": "code",
   "execution_count": 13,
   "metadata": {},
   "outputs": [
    {
     "data": {
      "text/plain": [
       "<matplotlib.axes._subplots.AxesSubplot at 0x7fbb8499edd8>"
      ]
     },
     "execution_count": 13,
     "metadata": {},
     "output_type": "execute_result"
    },
    {
     "data": {
      "image/png": "[encoded data removed]",
      "text/plain": [
       "<Figure size 432x288 with 1 Axes>"
      ]
     },
     "metadata": {},
     "output_type": "display_data"
    }
   ],
   "source": [
    "all_cities_buy_new.expose_price_sqm.hist()"
   ]
  },
  {
   "cell_type": "code",
   "execution_count": 14,
   "metadata": {},
   "outputs": [
    {
     "data": {
      "text/plain": [
       "array([8.66666687e+02, 1.41483445e+03, 2.20370361e+03, 3.29904487e+03,\n",
       "       4.66627979e+03, 2.56250214e+09])"
      ]
     },
     "execution_count": 14,
     "metadata": {},
     "output_type": "execute_result"
    }
   ],
   "source": [
    "np.quantile(all_cities_buy_new.expose_price_sqm,[0.1,0.25,0.5,0.75,0.9,1.0])"
   ]
  },
  {
   "cell_type": "markdown",
   "metadata": {},
   "source": [
    "### Price per Square Meter\n",
    "\n",
    "Histogram after outlier removal:\n"
   ]
  },
  {
   "cell_type": "code",
   "execution_count": 16,
   "metadata": {},
   "outputs": [
    {
     "data": {
      "text/plain": [
       "<matplotlib.axes._subplots.AxesSubplot at 0x7fbb848a9ac8>"
      ]
     },
     "execution_count": 16,
     "metadata": {},
     "output_type": "execute_result"
    },
    {
     "data": {
      "image/png": "[encoded data removed]",
      "text/plain": [
       "<Figure size 432x288 with 1 Axes>"
      ]
     },
     "metadata": {},
     "output_type": "display_data"
    }
   ],
   "source": [
    "all_cities_buy_new[(all_cities_buy_new.expose_price_sqm <=10000) & (all_cities_buy_new.expose_price_sqm >= 500) ].expose_price_sqm.hist()"
   ]
  },
  {
   "cell_type": "code",
   "execution_count": 17,
   "metadata": {},
   "outputs": [],
   "source": [
    "all_cities_buy_new = all_cities_buy_new[(all_cities_buy_new.expose_price_sqm <=10000) & (all_cities_buy_new.expose_price_sqm >= 500) ]"
   ]
  },
  {
   "cell_type": "code",
   "execution_count": 18,
   "metadata": {},
   "outputs": [
    {
     "data": {
      "text/plain": [
       "(1425073, 20)"
      ]
     },
     "execution_count": 18,
     "metadata": {},
     "output_type": "execute_result"
    }
   ],
   "source": [
    "all_cities_buy_new.shape"
   ]
  },
  {
   "cell_type": "markdown",
   "metadata": {},
   "source": [
    "### Living Area\n",
    "The old histogram of living area\n",
    "\n"
   ]
  },
  {
   "cell_type": "code",
   "execution_count": 19,
   "metadata": {},
   "outputs": [
    {
     "data": {
      "text/plain": [
       "<matplotlib.axes._subplots.AxesSubplot at 0x7fbb625acda0>"
      ]
     },
     "execution_count": 19,
     "metadata": {},
     "output_type": "execute_result"
    },
    {
     "data": {
      "image/png": "[encoded data removed]",
      "text/plain": [
       "<Figure size 432x288 with 1 Axes>"
      ]
     },
     "metadata": {},
     "output_type": "display_data"
    }
   ],
   "source": [
    "all_cities_buy_new.structure_area_living.hist()"
   ]
  },
  {
   "cell_type": "markdown",
   "metadata": {},
   "source": [
    "### Living Area\n",
    "The histogram after outlier removal:\n"
   ]
  },
  {
   "cell_type": "code",
   "execution_count": 24,
   "metadata": {
    "scrolled": true
   },
   "outputs": [
    {
     "data": {
      "text/plain": [
       "<matplotlib.axes._subplots.AxesSubplot at 0x7fbb626d1828>"
      ]
     },
     "execution_count": 24,
     "metadata": {},
     "output_type": "execute_result"
    },
    {
     "data": {
      "image/png": "[encoded data removed]",
      "text/plain": [
       "<Figure size 432x288 with 1 Axes>"
      ]
     },
     "metadata": {},
     "output_type": "display_data"
    }
   ],
   "source": [
    "all_cities_buy_new.structure_area_living[all_cities_buy_new.structure_area_living <= 1000 ].hist()"
   ]
  },
  {
   "cell_type": "markdown",
   "metadata": {},
   "source": [
    "# Number of Rooms\n",
    "\n",
    "\n",
    "The histogram after removing listings with room numbers greater or equal than 20.\n",
    "\n",
    "\n",
    "\n"
   ]
  },
  {
   "cell_type": "code",
   "execution_count": 21,
   "metadata": {},
   "outputs": [],
   "source": [
    "all_cities_buy_new = all_cities_buy_new[all_cities_buy_new.structure_rooms_living < 20]"
   ]
  },
  {
   "cell_type": "code",
   "execution_count": 22,
   "metadata": {},
   "outputs": [
    {
     "data": {
      "text/plain": [
       "(1414388, 20)"
      ]
     },
     "execution_count": 22,
     "metadata": {},
     "output_type": "execute_result"
    }
   ],
   "source": [
    "all_cities_buy_new.shape"
   ]
  },
  {
   "cell_type": "code",
   "execution_count": 20,
   "metadata": {
    "scrolled": true
   },
   "outputs": [
    {
     "data": {
      "text/plain": [
       "<matplotlib.axes._subplots.AxesSubplot at 0x7fbb84998d30>"
      ]
     },
     "execution_count": 20,
     "metadata": {},
     "output_type": "execute_result"
    },
    {
     "data": {
      "image/png": "[encoded data removed]",
      "text/plain": [
       "<Figure size 432x288 with 1 Axes>"
      ]
     },
     "metadata": {},
     "output_type": "display_data"
    }
   ],
   "source": [
    "all_cities_buy_new[all_cities_buy_new.structure_rooms_living < 20].structure_rooms_living.hist()"
   ]
  },
  {
   "cell_type": "code",
   "execution_count": 25,
   "metadata": {},
   "outputs": [],
   "source": [
    "all_cities_buy_new = all_cities_buy_new[all_cities_buy_new.structure_area_living <= 1000 ]"
   ]
  },
  {
   "cell_type": "code",
   "execution_count": 26,
   "metadata": {},
   "outputs": [
    {
     "data": {
      "text/plain": [
       "(1413973, 20)"
      ]
     },
     "execution_count": 26,
     "metadata": {},
     "output_type": "execute_result"
    }
   ],
   "source": [
    "all_cities_buy_new.shape"
   ]
  },
  {
   "cell_type": "code",
   "execution_count": 27,
   "metadata": {},
   "outputs": [
    {
     "data": {
      "text/plain": [
       "Index(['source_record_id', 'obj_unique_id_clus', 'address_geocoded_city',\n",
       "       'address_geocoded_postalcode', 'address_lat', 'address_lng',\n",
       "       'balcony_available', 'construction_yearfinished',\n",
       "       'investment_rent_active', 'object_category', 'parking_available',\n",
       "       'structure_area_living', 'structure_rooms_living', 'expose_price_sqm',\n",
       "       'offline_corrected', 'online_corrected', 'weeks_on_market',\n",
       "       'expose_content_text_tokens', 'year_extracted',\n",
       "       'construction_yearfinished_plz'],\n",
       "      dtype='object')"
      ]
     },
     "execution_count": 27,
     "metadata": {},
     "output_type": "execute_result"
    }
   ],
   "source": [
    "all_cities_buy_new.columns"
   ]
  },
  {
   "cell_type": "markdown",
   "metadata": {},
   "source": [
    "# Postal Code Data"
   ]
  },
  {
   "cell_type": "code",
   "execution_count": 28,
   "metadata": {},
   "outputs": [],
   "source": [
    "plz_all = pd.read_excel(\"ultimate_data/plz_all.xlsx\")"
   ]
  },
  {
   "cell_type": "code",
   "execution_count": 29,
   "metadata": {},
   "outputs": [],
   "source": [
    "plz_all.columns = ['zip_city',\"zip_code\",\n",
    "                   \"zip_area_km2\",\"zip_lat\",\n",
    "                   \"zip_lng\",\"zip_population\",\n",
    "                   \"zip_population_density\",\n",
    "                  \"city_lng\",\"city_lat\"]\n",
    "\n"
   ]
  },
  {
   "cell_type": "code",
   "execution_count": 38,
   "metadata": {},
   "outputs": [],
   "source": [
    "plz_all.zip_code = plz_all.zip_code.astype(str)"
   ]
  },
  {
   "cell_type": "code",
   "execution_count": 40,
   "metadata": {},
   "outputs": [],
   "source": [
    "import re\n",
    "plz_all.zip_code = plz_all.zip_code.apply(lambda x: re.sub(\"X\",\"\",x))\n",
    "\n",
    "\n"
   ]
  },
  {
   "cell_type": "code",
   "execution_count": 41,
   "metadata": {},
   "outputs": [
    {
     "data": {
      "text/html": [
       "<div>\n",
       "<style scoped>\n",
       "    .dataframe tbody tr th:only-of-type {\n",
       "        vertical-align: middle;\n",
       "    }\n",
       "\n",
       "    .dataframe tbody tr th {\n",
       "        vertical-align: top;\n",
       "    }\n",
       "\n",
       "    .dataframe thead th {\n",
       "        text-align: right;\n",
       "    }\n",
       "</style>\n",
       "<table border=\"1\" class=\"dataframe\">\n",
       "  <thead>\n",
       "    <tr style=\"text-align: right;\">\n",
       "      <th></th>\n",
       "      <th>zip_city</th>\n",
       "      <th>zip_code</th>\n",
       "      <th>zip_area_km2</th>\n",
       "      <th>zip_lat</th>\n",
       "      <th>zip_lng</th>\n",
       "      <th>zip_population</th>\n",
       "      <th>zip_population_density</th>\n",
       "      <th>city_lng</th>\n",
       "      <th>city_lat</th>\n",
       "    </tr>\n",
       "  </thead>\n",
       "  <tbody>\n",
       "    <tr>\n",
       "      <th>0</th>\n",
       "      <td>Ã–hningen</td>\n",
       "      <td>78337</td>\n",
       "      <td>28.179802</td>\n",
       "      <td>47.678529</td>\n",
       "      <td>8.902334</td>\n",
       "      <td>3509</td>\n",
       "      <td>124.521814</td>\n",
       "      <td>8.902334</td>\n",
       "      <td>47.678529</td>\n",
       "    </tr>\n",
       "    <tr>\n",
       "      <th>1</th>\n",
       "      <td>Ã–hringen</td>\n",
       "      <td>74613</td>\n",
       "      <td>67.821120</td>\n",
       "      <td>49.210470</td>\n",
       "      <td>9.501625</td>\n",
       "      <td>22513</td>\n",
       "      <td>331.946745</td>\n",
       "      <td>9.501625</td>\n",
       "      <td>49.210470</td>\n",
       "    </tr>\n",
       "    <tr>\n",
       "      <th>2</th>\n",
       "      <td>Ã–lbronn-DÃ¼rrn</td>\n",
       "      <td>75248</td>\n",
       "      <td>15.620030</td>\n",
       "      <td>48.969068</td>\n",
       "      <td>8.754797</td>\n",
       "      <td>3392</td>\n",
       "      <td>217.157080</td>\n",
       "      <td>8.754797</td>\n",
       "      <td>48.969068</td>\n",
       "    </tr>\n",
       "    <tr>\n",
       "      <th>3</th>\n",
       "      <td>Ã–pfingen</td>\n",
       "      <td>89614</td>\n",
       "      <td>8.870305</td>\n",
       "      <td>48.289420</td>\n",
       "      <td>9.807230</td>\n",
       "      <td>2260</td>\n",
       "      <td>254.782667</td>\n",
       "      <td>9.807230</td>\n",
       "      <td>48.289420</td>\n",
       "    </tr>\n",
       "    <tr>\n",
       "      <th>4</th>\n",
       "      <td>Ã–stringen</td>\n",
       "      <td>76684</td>\n",
       "      <td>53.281234</td>\n",
       "      <td>49.189841</td>\n",
       "      <td>8.752244</td>\n",
       "      <td>12518</td>\n",
       "      <td>234.942006</td>\n",
       "      <td>8.752244</td>\n",
       "      <td>49.189841</td>\n",
       "    </tr>\n",
       "    <tr>\n",
       "      <th>5</th>\n",
       "      <td>Ã–tigheim</td>\n",
       "      <td>76470</td>\n",
       "      <td>10.950756</td>\n",
       "      <td>48.886503</td>\n",
       "      <td>8.239226</td>\n",
       "      <td>4471</td>\n",
       "      <td>408.282325</td>\n",
       "      <td>8.239226</td>\n",
       "      <td>48.886503</td>\n",
       "    </tr>\n",
       "    <tr>\n",
       "      <th>6</th>\n",
       "      <td>Ã–tisheim</td>\n",
       "      <td>75443</td>\n",
       "      <td>14.257361</td>\n",
       "      <td>48.963278</td>\n",
       "      <td>8.800028</td>\n",
       "      <td>4728</td>\n",
       "      <td>331.618177</td>\n",
       "      <td>8.800028</td>\n",
       "      <td>48.963278</td>\n",
       "    </tr>\n",
       "    <tr>\n",
       "      <th>7</th>\n",
       "      <td>Ã–tzingen</td>\n",
       "      <td>56244</td>\n",
       "      <td>97.560057</td>\n",
       "      <td>50.578030</td>\n",
       "      <td>7.764133</td>\n",
       "      <td>12836</td>\n",
       "      <td>131.570239</td>\n",
       "      <td>7.764133</td>\n",
       "      <td>50.578030</td>\n",
       "    </tr>\n",
       "    <tr>\n",
       "      <th>8</th>\n",
       "      <td>Aach</td>\n",
       "      <td>78267</td>\n",
       "      <td>10.657357</td>\n",
       "      <td>47.843673</td>\n",
       "      <td>8.858195</td>\n",
       "      <td>2179</td>\n",
       "      <td>204.459708</td>\n",
       "      <td>8.858195</td>\n",
       "      <td>47.843673</td>\n",
       "    </tr>\n",
       "    <tr>\n",
       "      <th>9</th>\n",
       "      <td>Aachen</td>\n",
       "      <td>52068</td>\n",
       "      <td>5.442057</td>\n",
       "      <td>50.779753</td>\n",
       "      <td>6.125915</td>\n",
       "      <td>15378</td>\n",
       "      <td>2825.769530</td>\n",
       "      <td>6.104830</td>\n",
       "      <td>50.773188</td>\n",
       "    </tr>\n",
       "    <tr>\n",
       "      <th>10</th>\n",
       "      <td>Aachen</td>\n",
       "      <td>52066</td>\n",
       "      <td>7.682700</td>\n",
       "      <td>50.757629</td>\n",
       "      <td>6.104424</td>\n",
       "      <td>31839</td>\n",
       "      <td>4144.246054</td>\n",
       "      <td>6.104830</td>\n",
       "      <td>50.773188</td>\n",
       "    </tr>\n",
       "    <tr>\n",
       "      <th>11</th>\n",
       "      <td>Aachen</td>\n",
       "      <td>52072</td>\n",
       "      <td>19.397840</td>\n",
       "      <td>50.821919</td>\n",
       "      <td>6.049716</td>\n",
       "      <td>21256</td>\n",
       "      <td>1095.792101</td>\n",
       "      <td>6.104830</td>\n",
       "      <td>50.773188</td>\n",
       "    </tr>\n",
       "    <tr>\n",
       "      <th>12</th>\n",
       "      <td>Aachen</td>\n",
       "      <td>52070</td>\n",
       "      <td>9.168347</td>\n",
       "      <td>50.793842</td>\n",
       "      <td>6.096248</td>\n",
       "      <td>22563</td>\n",
       "      <td>2460.967020</td>\n",
       "      <td>6.104830</td>\n",
       "      <td>50.773188</td>\n",
       "    </tr>\n",
       "    <tr>\n",
       "      <th>13</th>\n",
       "      <td>Aachen</td>\n",
       "      <td>52062</td>\n",
       "      <td>1.639510</td>\n",
       "      <td>50.777078</td>\n",
       "      <td>6.086448</td>\n",
       "      <td>15989</td>\n",
       "      <td>9752.305508</td>\n",
       "      <td>6.104830</td>\n",
       "      <td>50.773188</td>\n",
       "    </tr>\n",
       "    <tr>\n",
       "      <th>14</th>\n",
       "      <td>Aachen</td>\n",
       "      <td>52078</td>\n",
       "      <td>12.491533</td>\n",
       "      <td>50.757035</td>\n",
       "      <td>6.161340</td>\n",
       "      <td>29730</td>\n",
       "      <td>2380.012077</td>\n",
       "      <td>6.104830</td>\n",
       "      <td>50.773188</td>\n",
       "    </tr>\n",
       "    <tr>\n",
       "      <th>15</th>\n",
       "      <td>Aachen</td>\n",
       "      <td>52080</td>\n",
       "      <td>15.079612</td>\n",
       "      <td>50.787902</td>\n",
       "      <td>6.159662</td>\n",
       "      <td>26232</td>\n",
       "      <td>1739.567334</td>\n",
       "      <td>6.104830</td>\n",
       "      <td>50.773188</td>\n",
       "    </tr>\n",
       "    <tr>\n",
       "      <th>16</th>\n",
       "      <td>Aachen</td>\n",
       "      <td>52064</td>\n",
       "      <td>2.184724</td>\n",
       "      <td>50.767758</td>\n",
       "      <td>6.078266</td>\n",
       "      <td>22594</td>\n",
       "      <td>10341.808248</td>\n",
       "      <td>6.104830</td>\n",
       "      <td>50.773188</td>\n",
       "    </tr>\n",
       "    <tr>\n",
       "      <th>17</th>\n",
       "      <td>Aachen</td>\n",
       "      <td>52074</td>\n",
       "      <td>32.630990</td>\n",
       "      <td>50.773765</td>\n",
       "      <td>6.036342</td>\n",
       "      <td>30606</td>\n",
       "      <td>937.942726</td>\n",
       "      <td>6.104830</td>\n",
       "      <td>50.773188</td>\n",
       "    </tr>\n",
       "    <tr>\n",
       "      <th>18</th>\n",
       "      <td>Aachen</td>\n",
       "      <td>52076</td>\n",
       "      <td>55.191545</td>\n",
       "      <td>50.715196</td>\n",
       "      <td>6.149938</td>\n",
       "      <td>20248</td>\n",
       "      <td>366.867787</td>\n",
       "      <td>6.104830</td>\n",
       "      <td>50.773188</td>\n",
       "    </tr>\n",
       "    <tr>\n",
       "      <th>19</th>\n",
       "      <td>Aalen</td>\n",
       "      <td>73432</td>\n",
       "      <td>70.550891</td>\n",
       "      <td>48.816081</td>\n",
       "      <td>10.176108</td>\n",
       "      <td>10698</td>\n",
       "      <td>151.635222</td>\n",
       "      <td>10.097213</td>\n",
       "      <td>48.842654</td>\n",
       "    </tr>\n",
       "    <tr>\n",
       "      <th>20</th>\n",
       "      <td>Aalen</td>\n",
       "      <td>73430</td>\n",
       "      <td>5.533658</td>\n",
       "      <td>48.842876</td>\n",
       "      <td>10.081841</td>\n",
       "      <td>11700</td>\n",
       "      <td>2114.333935</td>\n",
       "      <td>10.097213</td>\n",
       "      <td>48.842654</td>\n",
       "    </tr>\n",
       "    <tr>\n",
       "      <th>21</th>\n",
       "      <td>Aalen</td>\n",
       "      <td>73434</td>\n",
       "      <td>31.021832</td>\n",
       "      <td>48.860514</td>\n",
       "      <td>10.028685</td>\n",
       "      <td>15794</td>\n",
       "      <td>509.125310</td>\n",
       "      <td>10.097213</td>\n",
       "      <td>48.842654</td>\n",
       "    </tr>\n",
       "    <tr>\n",
       "      <th>22</th>\n",
       "      <td>Aalen</td>\n",
       "      <td>73431</td>\n",
       "      <td>15.234785</td>\n",
       "      <td>48.824936</td>\n",
       "      <td>10.090766</td>\n",
       "      <td>14512</td>\n",
       "      <td>952.556956</td>\n",
       "      <td>10.097213</td>\n",
       "      <td>48.842654</td>\n",
       "    </tr>\n",
       "    <tr>\n",
       "      <th>23</th>\n",
       "      <td>Aalen</td>\n",
       "      <td>73433</td>\n",
       "      <td>24.305859</td>\n",
       "      <td>48.868864</td>\n",
       "      <td>10.108665</td>\n",
       "      <td>13654</td>\n",
       "      <td>561.757567</td>\n",
       "      <td>10.097213</td>\n",
       "      <td>48.842654</td>\n",
       "    </tr>\n",
       "    <tr>\n",
       "      <th>24</th>\n",
       "      <td>Aarbergen</td>\n",
       "      <td>65326</td>\n",
       "      <td>34.097477</td>\n",
       "      <td>50.249365</td>\n",
       "      <td>8.083887</td>\n",
       "      <td>6023</td>\n",
       "      <td>176.640633</td>\n",
       "      <td>8.083887</td>\n",
       "      <td>50.249365</td>\n",
       "    </tr>\n",
       "    <tr>\n",
       "      <th>25</th>\n",
       "      <td>AÃŸlar</td>\n",
       "      <td>35614</td>\n",
       "      <td>43.984942</td>\n",
       "      <td>50.613789</td>\n",
       "      <td>8.443687</td>\n",
       "      <td>13616</td>\n",
       "      <td>309.560482</td>\n",
       "      <td>8.443687</td>\n",
       "      <td>50.613789</td>\n",
       "    </tr>\n",
       "    <tr>\n",
       "      <th>26</th>\n",
       "      <td>AÃŸling</td>\n",
       "      <td>85617</td>\n",
       "      <td>31.296221</td>\n",
       "      <td>47.991377</td>\n",
       "      <td>11.993190</td>\n",
       "      <td>4266</td>\n",
       "      <td>136.310389</td>\n",
       "      <td>11.993190</td>\n",
       "      <td>47.991377</td>\n",
       "    </tr>\n",
       "    <tr>\n",
       "      <th>27</th>\n",
       "      <td>Abenberg</td>\n",
       "      <td>91183</td>\n",
       "      <td>51.550485</td>\n",
       "      <td>49.234540</td>\n",
       "      <td>10.935305</td>\n",
       "      <td>5425</td>\n",
       "      <td>105.236644</td>\n",
       "      <td>10.935305</td>\n",
       "      <td>49.234540</td>\n",
       "    </tr>\n",
       "    <tr>\n",
       "      <th>28</th>\n",
       "      <td>Abensberg</td>\n",
       "      <td>93326</td>\n",
       "      <td>60.294593</td>\n",
       "      <td>48.830026</td>\n",
       "      <td>11.858287</td>\n",
       "      <td>12774</td>\n",
       "      <td>211.859793</td>\n",
       "      <td>11.858287</td>\n",
       "      <td>48.830026</td>\n",
       "    </tr>\n",
       "    <tr>\n",
       "      <th>29</th>\n",
       "      <td>Absberg</td>\n",
       "      <td>91720</td>\n",
       "      <td>18.955307</td>\n",
       "      <td>49.158210</td>\n",
       "      <td>10.860948</td>\n",
       "      <td>1330</td>\n",
       "      <td>70.165047</td>\n",
       "      <td>10.860948</td>\n",
       "      <td>49.158210</td>\n",
       "    </tr>\n",
       "    <tr>\n",
       "      <th>30</th>\n",
       "      <td>Abstatt</td>\n",
       "      <td>74232</td>\n",
       "      <td>8.857349</td>\n",
       "      <td>49.072894</td>\n",
       "      <td>9.304485</td>\n",
       "      <td>4421</td>\n",
       "      <td>499.133560</td>\n",
       "      <td>9.304485</td>\n",
       "      <td>49.072894</td>\n",
       "    </tr>\n",
       "    <tr>\n",
       "      <th>31</th>\n",
       "      <td>AbtsgmÃ¼nd</td>\n",
       "      <td>73453</td>\n",
       "      <td>71.796563</td>\n",
       "      <td>48.912256</td>\n",
       "      <td>9.961806</td>\n",
       "      <td>7337</td>\n",
       "      <td>102.191522</td>\n",
       "      <td>9.961806</td>\n",
       "      <td>48.912256</td>\n",
       "    </tr>\n",
       "    <tr>\n",
       "      <th>32</th>\n",
       "      <td>Abtsteinach</td>\n",
       "      <td>69518</td>\n",
       "      <td>11.058436</td>\n",
       "      <td>49.539483</td>\n",
       "      <td>8.787248</td>\n",
       "      <td>2455</td>\n",
       "      <td>222.002467</td>\n",
       "      <td>8.787248</td>\n",
       "      <td>49.539483</td>\n",
       "    </tr>\n",
       "    <tr>\n",
       "      <th>33</th>\n",
       "      <td>Achberg</td>\n",
       "      <td>88147</td>\n",
       "      <td>12.904874</td>\n",
       "      <td>47.622371</td>\n",
       "      <td>9.713981</td>\n",
       "      <td>1683</td>\n",
       "      <td>130.415844</td>\n",
       "      <td>9.713981</td>\n",
       "      <td>47.622371</td>\n",
       "    </tr>\n",
       "    <tr>\n",
       "      <th>34</th>\n",
       "      <td>Achern</td>\n",
       "      <td>77855</td>\n",
       "      <td>70.427854</td>\n",
       "      <td>48.634009</td>\n",
       "      <td>8.037331</td>\n",
       "      <td>24535</td>\n",
       "      <td>348.370688</td>\n",
       "      <td>8.037331</td>\n",
       "      <td>48.634009</td>\n",
       "    </tr>\n",
       "    <tr>\n",
       "      <th>35</th>\n",
       "      <td>Achim</td>\n",
       "      <td>28832</td>\n",
       "      <td>68.064684</td>\n",
       "      <td>53.020600</td>\n",
       "      <td>9.040000</td>\n",
       "      <td>29539</td>\n",
       "      <td>433.984237</td>\n",
       "      <td>9.040000</td>\n",
       "      <td>53.020600</td>\n",
       "    </tr>\n",
       "    <tr>\n",
       "      <th>36</th>\n",
       "      <td>Achslach</td>\n",
       "      <td>94250</td>\n",
       "      <td>30.115406</td>\n",
       "      <td>48.973719</td>\n",
       "      <td>12.910759</td>\n",
       "      <td>935</td>\n",
       "      <td>31.047232</td>\n",
       "      <td>12.910759</td>\n",
       "      <td>48.973719</td>\n",
       "    </tr>\n",
       "    <tr>\n",
       "      <th>37</th>\n",
       "      <td>Achstetten</td>\n",
       "      <td>88480</td>\n",
       "      <td>23.327335</td>\n",
       "      <td>48.264317</td>\n",
       "      <td>9.901947</td>\n",
       "      <td>4184</td>\n",
       "      <td>179.360394</td>\n",
       "      <td>9.901947</td>\n",
       "      <td>48.264317</td>\n",
       "    </tr>\n",
       "    <tr>\n",
       "      <th>38</th>\n",
       "      <td>Achterwehr</td>\n",
       "      <td>24239</td>\n",
       "      <td>13.885568</td>\n",
       "      <td>54.302866</td>\n",
       "      <td>9.986222</td>\n",
       "      <td>986</td>\n",
       "      <td>71.008976</td>\n",
       "      <td>9.986222</td>\n",
       "      <td>54.302866</td>\n",
       "    </tr>\n",
       "    <tr>\n",
       "      <th>39</th>\n",
       "      <td>Adelberg</td>\n",
       "      <td>73099</td>\n",
       "      <td>9.473609</td>\n",
       "      <td>48.761750</td>\n",
       "      <td>9.596231</td>\n",
       "      <td>1972</td>\n",
       "      <td>208.157198</td>\n",
       "      <td>9.596231</td>\n",
       "      <td>48.761750</td>\n",
       "    </tr>\n",
       "    <tr>\n",
       "      <th>40</th>\n",
       "      <td>Adelebsen</td>\n",
       "      <td>37139</td>\n",
       "      <td>76.612581</td>\n",
       "      <td>51.568267</td>\n",
       "      <td>9.749149</td>\n",
       "      <td>6571</td>\n",
       "      <td>85.769203</td>\n",
       "      <td>9.749149</td>\n",
       "      <td>51.568267</td>\n",
       "    </tr>\n",
       "    <tr>\n",
       "      <th>41</th>\n",
       "      <td>Adelheidsdorf</td>\n",
       "      <td>29352</td>\n",
       "      <td>33.360854</td>\n",
       "      <td>52.560557</td>\n",
       "      <td>10.030642</td>\n",
       "      <td>2482</td>\n",
       "      <td>74.398575</td>\n",
       "      <td>10.030642</td>\n",
       "      <td>52.560557</td>\n",
       "    </tr>\n",
       "    <tr>\n",
       "      <th>42</th>\n",
       "      <td>Adelmannsfelden</td>\n",
       "      <td>73486</td>\n",
       "      <td>22.899940</td>\n",
       "      <td>48.960260</td>\n",
       "      <td>9.968343</td>\n",
       "      <td>1797</td>\n",
       "      <td>78.471822</td>\n",
       "      <td>9.968343</td>\n",
       "      <td>48.960260</td>\n",
       "    </tr>\n",
       "    <tr>\n",
       "      <th>43</th>\n",
       "      <td>Adelschlag</td>\n",
       "      <td>85111</td>\n",
       "      <td>51.875142</td>\n",
       "      <td>48.844239</td>\n",
       "      <td>11.203769</td>\n",
       "      <td>2802</td>\n",
       "      <td>54.014310</td>\n",
       "      <td>11.203769</td>\n",
       "      <td>48.844239</td>\n",
       "    </tr>\n",
       "    <tr>\n",
       "      <th>44</th>\n",
       "      <td>Adelsdorf</td>\n",
       "      <td>91325</td>\n",
       "      <td>31.706330</td>\n",
       "      <td>49.709494</td>\n",
       "      <td>10.899738</td>\n",
       "      <td>7301</td>\n",
       "      <td>230.269473</td>\n",
       "      <td>10.899738</td>\n",
       "      <td>49.709494</td>\n",
       "    </tr>\n",
       "    <tr>\n",
       "      <th>45</th>\n",
       "      <td>Adelsheim</td>\n",
       "      <td>74740</td>\n",
       "      <td>43.834262</td>\n",
       "      <td>49.390301</td>\n",
       "      <td>9.395265</td>\n",
       "      <td>4931</td>\n",
       "      <td>112.491912</td>\n",
       "      <td>9.395265</td>\n",
       "      <td>49.390301</td>\n",
       "    </tr>\n",
       "    <tr>\n",
       "      <th>46</th>\n",
       "      <td>Adelshofen</td>\n",
       "      <td>82276</td>\n",
       "      <td>13.294466</td>\n",
       "      <td>48.192529</td>\n",
       "      <td>11.104563</td>\n",
       "      <td>1571</td>\n",
       "      <td>118.169473</td>\n",
       "      <td>10.626843</td>\n",
       "      <td>48.822060</td>\n",
       "    </tr>\n",
       "    <tr>\n",
       "      <th>47</th>\n",
       "      <td>Adelshofen</td>\n",
       "      <td>91587</td>\n",
       "      <td>27.217551</td>\n",
       "      <td>49.451592</td>\n",
       "      <td>10.149124</td>\n",
       "      <td>972</td>\n",
       "      <td>35.712250</td>\n",
       "      <td>10.626843</td>\n",
       "      <td>48.822060</td>\n",
       "    </tr>\n",
       "    <tr>\n",
       "      <th>48</th>\n",
       "      <td>Adelsried</td>\n",
       "      <td>86477</td>\n",
       "      <td>9.665970</td>\n",
       "      <td>48.425457</td>\n",
       "      <td>10.718323</td>\n",
       "      <td>2166</td>\n",
       "      <td>224.085122</td>\n",
       "      <td>10.718323</td>\n",
       "      <td>48.425457</td>\n",
       "    </tr>\n",
       "    <tr>\n",
       "      <th>49</th>\n",
       "      <td>Adelzhausen</td>\n",
       "      <td>86559</td>\n",
       "      <td>16.922019</td>\n",
       "      <td>48.356630</td>\n",
       "      <td>11.128244</td>\n",
       "      <td>1574</td>\n",
       "      <td>93.014903</td>\n",
       "      <td>11.128244</td>\n",
       "      <td>48.356630</td>\n",
       "    </tr>\n",
       "    <tr>\n",
       "      <th>50</th>\n",
       "      <td>Adenau</td>\n",
       "      <td>53518</td>\n",
       "      <td>58.856754</td>\n",
       "      <td>50.380021</td>\n",
       "      <td>6.944135</td>\n",
       "      <td>4706</td>\n",
       "      <td>79.956839</td>\n",
       "      <td>6.944135</td>\n",
       "      <td>50.380021</td>\n",
       "    </tr>\n",
       "    <tr>\n",
       "      <th>51</th>\n",
       "      <td>AdenbÃ¼ttel</td>\n",
       "      <td>38528</td>\n",
       "      <td>13.709659</td>\n",
       "      <td>52.388899</td>\n",
       "      <td>10.451513</td>\n",
       "      <td>1774</td>\n",
       "      <td>129.397822</td>\n",
       "      <td>10.451513</td>\n",
       "      <td>52.388899</td>\n",
       "    </tr>\n",
       "    <tr>\n",
       "      <th>52</th>\n",
       "      <td>Adendorf</td>\n",
       "      <td>21365</td>\n",
       "      <td>16.095382</td>\n",
       "      <td>53.286440</td>\n",
       "      <td>10.454709</td>\n",
       "      <td>10126</td>\n",
       "      <td>629.124538</td>\n",
       "      <td>10.454709</td>\n",
       "      <td>53.286440</td>\n",
       "    </tr>\n",
       "    <tr>\n",
       "      <th>53</th>\n",
       "      <td>Adlkofen</td>\n",
       "      <td>84166</td>\n",
       "      <td>47.853163</td>\n",
       "      <td>48.536348</td>\n",
       "      <td>12.282316</td>\n",
       "      <td>3830</td>\n",
       "      <td>80.036507</td>\n",
       "      <td>12.282316</td>\n",
       "      <td>48.536348</td>\n",
       "    </tr>\n",
       "    <tr>\n",
       "      <th>54</th>\n",
       "      <td>Adorf</td>\n",
       "      <td>08626</td>\n",
       "      <td>105.804169</td>\n",
       "      <td>50.343162</td>\n",
       "      <td>12.225866</td>\n",
       "      <td>7713</td>\n",
       "      <td>72.898829</td>\n",
       "      <td>12.225866</td>\n",
       "      <td>50.343162</td>\n",
       "    </tr>\n",
       "    <tr>\n",
       "      <th>55</th>\n",
       "      <td>Aerzen</td>\n",
       "      <td>31855</td>\n",
       "      <td>105.348170</td>\n",
       "      <td>52.056434</td>\n",
       "      <td>9.244617</td>\n",
       "      <td>10969</td>\n",
       "      <td>104.121410</td>\n",
       "      <td>9.244617</td>\n",
       "      <td>52.056434</td>\n",
       "    </tr>\n",
       "    <tr>\n",
       "      <th>56</th>\n",
       "      <td>Affalterbach</td>\n",
       "      <td>71563</td>\n",
       "      <td>10.149946</td>\n",
       "      <td>48.919125</td>\n",
       "      <td>9.338031</td>\n",
       "      <td>4483</td>\n",
       "      <td>441.677233</td>\n",
       "      <td>9.338031</td>\n",
       "      <td>48.919125</td>\n",
       "    </tr>\n",
       "    <tr>\n",
       "      <th>57</th>\n",
       "      <td>Affing</td>\n",
       "      <td>86444</td>\n",
       "      <td>44.348114</td>\n",
       "      <td>48.449316</td>\n",
       "      <td>10.964035</td>\n",
       "      <td>5248</td>\n",
       "      <td>118.336487</td>\n",
       "      <td>10.964035</td>\n",
       "      <td>48.449316</td>\n",
       "    </tr>\n",
       "    <tr>\n",
       "      <th>58</th>\n",
       "      <td>Aglasterhausen</td>\n",
       "      <td>74858</td>\n",
       "      <td>22.806785</td>\n",
       "      <td>49.362541</td>\n",
       "      <td>8.992669</td>\n",
       "      <td>4836</td>\n",
       "      <td>212.042162</td>\n",
       "      <td>8.992669</td>\n",
       "      <td>49.362541</td>\n",
       "    </tr>\n",
       "    <tr>\n",
       "      <th>59</th>\n",
       "      <td>Aham</td>\n",
       "      <td>84168</td>\n",
       "      <td>37.920395</td>\n",
       "      <td>48.525983</td>\n",
       "      <td>12.465212</td>\n",
       "      <td>1932</td>\n",
       "      <td>50.948837</td>\n",
       "      <td>12.465212</td>\n",
       "      <td>48.525983</td>\n",
       "    </tr>\n",
       "    <tr>\n",
       "      <th>60</th>\n",
       "      <td>Ahaus</td>\n",
       "      <td>48683</td>\n",
       "      <td>151.572320</td>\n",
       "      <td>52.097810</td>\n",
       "      <td>6.962971</td>\n",
       "      <td>38426</td>\n",
       "      <td>253.515946</td>\n",
       "      <td>6.962971</td>\n",
       "      <td>52.097810</td>\n",
       "    </tr>\n",
       "    <tr>\n",
       "      <th>61</th>\n",
       "      <td>Ahlbeck</td>\n",
       "      <td>17419</td>\n",
       "      <td>66.426427</td>\n",
       "      <td>53.898325</td>\n",
       "      <td>14.136505</td>\n",
       "      <td>5376</td>\n",
       "      <td>80.931644</td>\n",
       "      <td>14.136505</td>\n",
       "      <td>53.898325</td>\n",
       "    </tr>\n",
       "    <tr>\n",
       "      <th>62</th>\n",
       "      <td>Ahlen</td>\n",
       "      <td>59229</td>\n",
       "      <td>42.976815</td>\n",
       "      <td>51.738166</td>\n",
       "      <td>7.924044</td>\n",
       "      <td>27262</td>\n",
       "      <td>634.342027</td>\n",
       "      <td>7.904173</td>\n",
       "      <td>51.761162</td>\n",
       "    </tr>\n",
       "    <tr>\n",
       "      <th>63</th>\n",
       "      <td>Ahlen</td>\n",
       "      <td>59227</td>\n",
       "      <td>80.113049</td>\n",
       "      <td>51.784158</td>\n",
       "      <td>7.884303</td>\n",
       "      <td>25076</td>\n",
       "      <td>313.007683</td>\n",
       "      <td>7.904173</td>\n",
       "      <td>51.761162</td>\n",
       "    </tr>\n",
       "    <tr>\n",
       "      <th>64</th>\n",
       "      <td>Ahlerstedt</td>\n",
       "      <td>21702</td>\n",
       "      <td>62.286327</td>\n",
       "      <td>53.391877</td>\n",
       "      <td>9.439955</td>\n",
       "      <td>5053</td>\n",
       "      <td>81.125349</td>\n",
       "      <td>9.439955</td>\n",
       "      <td>53.391877</td>\n",
       "    </tr>\n",
       "    <tr>\n",
       "      <th>65</th>\n",
       "      <td>Ahnatal</td>\n",
       "      <td>34292</td>\n",
       "      <td>18.005168</td>\n",
       "      <td>51.364729</td>\n",
       "      <td>9.399008</td>\n",
       "      <td>8028</td>\n",
       "      <td>445.871993</td>\n",
       "      <td>9.399008</td>\n",
       "      <td>51.364729</td>\n",
       "    </tr>\n",
       "    <tr>\n",
       "      <th>66</th>\n",
       "      <td>Ahnsbeck</td>\n",
       "      <td>29353</td>\n",
       "      <td>20.751402</td>\n",
       "      <td>52.608187</td>\n",
       "      <td>10.294021</td>\n",
       "      <td>1672</td>\n",
       "      <td>80.572868</td>\n",
       "      <td>10.294021</td>\n",
       "      <td>52.608187</td>\n",
       "    </tr>\n",
       "    <tr>\n",
       "      <th>67</th>\n",
       "      <td>Ahnsen</td>\n",
       "      <td>31708</td>\n",
       "      <td>3.448244</td>\n",
       "      <td>52.257285</td>\n",
       "      <td>9.097412</td>\n",
       "      <td>1176</td>\n",
       "      <td>341.043194</td>\n",
       "      <td>9.097412</td>\n",
       "      <td>52.257285</td>\n",
       "    </tr>\n",
       "    <tr>\n",
       "      <th>68</th>\n",
       "      <td>Aholfing</td>\n",
       "      <td>94345</td>\n",
       "      <td>21.658012</td>\n",
       "      <td>48.937135</td>\n",
       "      <td>12.477434</td>\n",
       "      <td>1712</td>\n",
       "      <td>79.046961</td>\n",
       "      <td>12.477434</td>\n",
       "      <td>48.937135</td>\n",
       "    </tr>\n",
       "    <tr>\n",
       "      <th>69</th>\n",
       "      <td>Aholming</td>\n",
       "      <td>94527</td>\n",
       "      <td>29.463883</td>\n",
       "      <td>48.736518</td>\n",
       "      <td>12.896238</td>\n",
       "      <td>2278</td>\n",
       "      <td>77.314996</td>\n",
       "      <td>12.896238</td>\n",
       "      <td>48.736518</td>\n",
       "    </tr>\n",
       "    <tr>\n",
       "      <th>70</th>\n",
       "      <td>Ahorn</td>\n",
       "      <td>74744</td>\n",
       "      <td>53.924063</td>\n",
       "      <td>49.492056</td>\n",
       "      <td>9.546079</td>\n",
       "      <td>2221</td>\n",
       "      <td>41.187549</td>\n",
       "      <td>10.235141</td>\n",
       "      <td>49.857593</td>\n",
       "    </tr>\n",
       "    <tr>\n",
       "      <th>71</th>\n",
       "      <td>Ahorn</td>\n",
       "      <td>96482</td>\n",
       "      <td>19.893672</td>\n",
       "      <td>50.223129</td>\n",
       "      <td>10.924203</td>\n",
       "      <td>4282</td>\n",
       "      <td>215.244327</td>\n",
       "      <td>10.235141</td>\n",
       "      <td>49.857593</td>\n",
       "    </tr>\n",
       "    <tr>\n",
       "      <th>72</th>\n",
       "      <td>Ahorntal</td>\n",
       "      <td>95491</td>\n",
       "      <td>61.993704</td>\n",
       "      <td>49.847428</td>\n",
       "      <td>11.441442</td>\n",
       "      <td>2261</td>\n",
       "      <td>36.471446</td>\n",
       "      <td>11.441442</td>\n",
       "      <td>49.847428</td>\n",
       "    </tr>\n",
       "    <tr>\n",
       "      <th>73</th>\n",
       "      <td>AhrbrÃ¼ck</td>\n",
       "      <td>53506</td>\n",
       "      <td>98.870369</td>\n",
       "      <td>50.469130</td>\n",
       "      <td>7.009607</td>\n",
       "      <td>4274</td>\n",
       "      <td>43.228320</td>\n",
       "      <td>7.009607</td>\n",
       "      <td>50.469130</td>\n",
       "    </tr>\n",
       "    <tr>\n",
       "      <th>74</th>\n",
       "      <td>AhrensbÃ¶k</td>\n",
       "      <td>23623</td>\n",
       "      <td>94.299871</td>\n",
       "      <td>54.002160</td>\n",
       "      <td>10.566971</td>\n",
       "      <td>8449</td>\n",
       "      <td>89.597154</td>\n",
       "      <td>10.566971</td>\n",
       "      <td>54.002160</td>\n",
       "    </tr>\n",
       "    <tr>\n",
       "      <th>75</th>\n",
       "      <td>Ahrensburg</td>\n",
       "      <td>22926</td>\n",
       "      <td>35.292113</td>\n",
       "      <td>53.668509</td>\n",
       "      <td>10.236855</td>\n",
       "      <td>31365</td>\n",
       "      <td>888.725472</td>\n",
       "      <td>10.236855</td>\n",
       "      <td>53.668509</td>\n",
       "    </tr>\n",
       "    <tr>\n",
       "      <th>76</th>\n",
       "      <td>Aicha vorm Wald</td>\n",
       "      <td>94529</td>\n",
       "      <td>20.365816</td>\n",
       "      <td>48.681597</td>\n",
       "      <td>13.309763</td>\n",
       "      <td>2410</td>\n",
       "      <td>118.335547</td>\n",
       "      <td>13.309763</td>\n",
       "      <td>48.681597</td>\n",
       "    </tr>\n",
       "    <tr>\n",
       "      <th>77</th>\n",
       "      <td>Aichach</td>\n",
       "      <td>86551</td>\n",
       "      <td>92.801559</td>\n",
       "      <td>48.445411</td>\n",
       "      <td>11.123639</td>\n",
       "      <td>20253</td>\n",
       "      <td>218.239868</td>\n",
       "      <td>11.123639</td>\n",
       "      <td>48.445411</td>\n",
       "    </tr>\n",
       "    <tr>\n",
       "      <th>78</th>\n",
       "      <td>Aichelberg</td>\n",
       "      <td>73101</td>\n",
       "      <td>4.030192</td>\n",
       "      <td>48.631891</td>\n",
       "      <td>9.564658</td>\n",
       "      <td>1252</td>\n",
       "      <td>310.655163</td>\n",
       "      <td>9.564658</td>\n",
       "      <td>48.631891</td>\n",
       "    </tr>\n",
       "    <tr>\n",
       "      <th>79</th>\n",
       "      <td>Aichen</td>\n",
       "      <td>86479</td>\n",
       "      <td>17.704344</td>\n",
       "      <td>48.232678</td>\n",
       "      <td>10.539802</td>\n",
       "      <td>1164</td>\n",
       "      <td>65.746575</td>\n",
       "      <td>10.539802</td>\n",
       "      <td>48.232678</td>\n",
       "    </tr>\n",
       "    <tr>\n",
       "      <th>80</th>\n",
       "      <td>Aichhalden</td>\n",
       "      <td>78733</td>\n",
       "      <td>25.789085</td>\n",
       "      <td>48.279406</td>\n",
       "      <td>8.412120</td>\n",
       "      <td>4055</td>\n",
       "      <td>157.237066</td>\n",
       "      <td>8.412120</td>\n",
       "      <td>48.279406</td>\n",
       "    </tr>\n",
       "    <tr>\n",
       "      <th>81</th>\n",
       "      <td>Aichstetten</td>\n",
       "      <td>88317</td>\n",
       "      <td>33.749951</td>\n",
       "      <td>47.894228</td>\n",
       "      <td>10.060568</td>\n",
       "      <td>2701</td>\n",
       "      <td>80.029745</td>\n",
       "      <td>10.060568</td>\n",
       "      <td>47.894228</td>\n",
       "    </tr>\n",
       "    <tr>\n",
       "      <th>82</th>\n",
       "      <td>Aichtal</td>\n",
       "      <td>72631</td>\n",
       "      <td>23.619711</td>\n",
       "      <td>48.625211</td>\n",
       "      <td>9.218629</td>\n",
       "      <td>9547</td>\n",
       "      <td>404.196313</td>\n",
       "      <td>9.218629</td>\n",
       "      <td>48.625211</td>\n",
       "    </tr>\n",
       "    <tr>\n",
       "      <th>83</th>\n",
       "      <td>Aichwald</td>\n",
       "      <td>73773</td>\n",
       "      <td>14.653255</td>\n",
       "      <td>48.762890</td>\n",
       "      <td>9.387554</td>\n",
       "      <td>7451</td>\n",
       "      <td>508.487694</td>\n",
       "      <td>9.387554</td>\n",
       "      <td>48.762890</td>\n",
       "    </tr>\n",
       "    <tr>\n",
       "      <th>84</th>\n",
       "      <td>Aidhausen</td>\n",
       "      <td>97491</td>\n",
       "      <td>37.286264</td>\n",
       "      <td>50.158177</td>\n",
       "      <td>10.457281</td>\n",
       "      <td>1802</td>\n",
       "      <td>48.328789</td>\n",
       "      <td>10.457281</td>\n",
       "      <td>50.158177</td>\n",
       "    </tr>\n",
       "    <tr>\n",
       "      <th>85</th>\n",
       "      <td>Aidlingen</td>\n",
       "      <td>71134</td>\n",
       "      <td>26.565488</td>\n",
       "      <td>48.678745</td>\n",
       "      <td>8.878890</td>\n",
       "      <td>8731</td>\n",
       "      <td>328.659505</td>\n",
       "      <td>8.878890</td>\n",
       "      <td>48.678745</td>\n",
       "    </tr>\n",
       "    <tr>\n",
       "      <th>86</th>\n",
       "      <td>Aiglsbach</td>\n",
       "      <td>84089</td>\n",
       "      <td>39.756440</td>\n",
       "      <td>48.692689</td>\n",
       "      <td>11.712718</td>\n",
       "      <td>1662</td>\n",
       "      <td>41.804548</td>\n",
       "      <td>11.712718</td>\n",
       "      <td>48.692689</td>\n",
       "    </tr>\n",
       "    <tr>\n",
       "      <th>87</th>\n",
       "      <td>Aindling</td>\n",
       "      <td>86447</td>\n",
       "      <td>51.595007</td>\n",
       "      <td>48.511860</td>\n",
       "      <td>10.950372</td>\n",
       "      <td>5631</td>\n",
       "      <td>109.138467</td>\n",
       "      <td>10.950372</td>\n",
       "      <td>48.511860</td>\n",
       "    </tr>\n",
       "    <tr>\n",
       "      <th>88</th>\n",
       "      <td>Ainring</td>\n",
       "      <td>83404</td>\n",
       "      <td>32.910217</td>\n",
       "      <td>47.819713</td>\n",
       "      <td>12.927228</td>\n",
       "      <td>9536</td>\n",
       "      <td>289.758039</td>\n",
       "      <td>12.927228</td>\n",
       "      <td>47.819713</td>\n",
       "    </tr>\n",
       "    <tr>\n",
       "      <th>89</th>\n",
       "      <td>Aislingen</td>\n",
       "      <td>89344</td>\n",
       "      <td>19.225499</td>\n",
       "      <td>48.508339</td>\n",
       "      <td>10.450163</td>\n",
       "      <td>1349</td>\n",
       "      <td>70.167230</td>\n",
       "      <td>10.450163</td>\n",
       "      <td>48.508339</td>\n",
       "    </tr>\n",
       "    <tr>\n",
       "      <th>90</th>\n",
       "      <td>Aiterhofen</td>\n",
       "      <td>94330</td>\n",
       "      <td>64.742549</td>\n",
       "      <td>48.841777</td>\n",
       "      <td>12.628186</td>\n",
       "      <td>5668</td>\n",
       "      <td>87.546754</td>\n",
       "      <td>12.628186</td>\n",
       "      <td>48.841777</td>\n",
       "    </tr>\n",
       "    <tr>\n",
       "      <th>91</th>\n",
       "      <td>Aitrach</td>\n",
       "      <td>88319</td>\n",
       "      <td>30.198547</td>\n",
       "      <td>47.936431</td>\n",
       "      <td>10.061116</td>\n",
       "      <td>2495</td>\n",
       "      <td>82.619870</td>\n",
       "      <td>10.061116</td>\n",
       "      <td>47.936431</td>\n",
       "    </tr>\n",
       "    <tr>\n",
       "      <th>92</th>\n",
       "      <td>Aitrang</td>\n",
       "      <td>87648</td>\n",
       "      <td>31.071117</td>\n",
       "      <td>47.836445</td>\n",
       "      <td>10.530279</td>\n",
       "      <td>1990</td>\n",
       "      <td>64.046620</td>\n",
       "      <td>10.530279</td>\n",
       "      <td>47.836445</td>\n",
       "    </tr>\n",
       "    <tr>\n",
       "      <th>93</th>\n",
       "      <td>Albaching</td>\n",
       "      <td>83544</td>\n",
       "      <td>18.133426</td>\n",
       "      <td>48.107269</td>\n",
       "      <td>12.114351</td>\n",
       "      <td>1654</td>\n",
       "      <td>91.212768</td>\n",
       "      <td>12.114351</td>\n",
       "      <td>48.107269</td>\n",
       "    </tr>\n",
       "    <tr>\n",
       "      <th>94</th>\n",
       "      <td>Albbruck</td>\n",
       "      <td>79774</td>\n",
       "      <td>39.705359</td>\n",
       "      <td>47.622307</td>\n",
       "      <td>8.121635</td>\n",
       "      <td>7240</td>\n",
       "      <td>182.343143</td>\n",
       "      <td>8.121635</td>\n",
       "      <td>47.622307</td>\n",
       "    </tr>\n",
       "    <tr>\n",
       "      <th>95</th>\n",
       "      <td>Albersdorf</td>\n",
       "      <td>25767</td>\n",
       "      <td>94.266517</td>\n",
       "      <td>54.152630</td>\n",
       "      <td>9.311968</td>\n",
       "      <td>6198</td>\n",
       "      <td>65.749751</td>\n",
       "      <td>9.311968</td>\n",
       "      <td>54.152630</td>\n",
       "    </tr>\n",
       "    <tr>\n",
       "      <th>96</th>\n",
       "      <td>Albershausen</td>\n",
       "      <td>73095</td>\n",
       "      <td>6.485936</td>\n",
       "      <td>48.689088</td>\n",
       "      <td>9.558709</td>\n",
       "      <td>4254</td>\n",
       "      <td>655.880692</td>\n",
       "      <td>9.558709</td>\n",
       "      <td>48.689088</td>\n",
       "    </tr>\n",
       "    <tr>\n",
       "      <th>97</th>\n",
       "      <td>Albersweiler</td>\n",
       "      <td>76857</td>\n",
       "      <td>123.135327</td>\n",
       "      <td>49.229022</td>\n",
       "      <td>7.945321</td>\n",
       "      <td>9715</td>\n",
       "      <td>78.896936</td>\n",
       "      <td>7.945321</td>\n",
       "      <td>49.229022</td>\n",
       "    </tr>\n",
       "    <tr>\n",
       "      <th>98</th>\n",
       "      <td>Albertshofen</td>\n",
       "      <td>97320</td>\n",
       "      <td>39.210658</td>\n",
       "      <td>49.744451</td>\n",
       "      <td>10.167135</td>\n",
       "      <td>8122</td>\n",
       "      <td>207.137559</td>\n",
       "      <td>10.167135</td>\n",
       "      <td>49.744451</td>\n",
       "    </tr>\n",
       "    <tr>\n",
       "      <th>99</th>\n",
       "      <td>Albig</td>\n",
       "      <td>55234</td>\n",
       "      <td>149.002514</td>\n",
       "      <td>49.739606</td>\n",
       "      <td>8.077400</td>\n",
       "      <td>18661</td>\n",
       "      <td>125.239498</td>\n",
       "      <td>8.077400</td>\n",
       "      <td>49.739606</td>\n",
       "    </tr>\n",
       "  </tbody>\n",
       "</table>\n",
       "</div>"
      ],
      "text/plain": [
       "           zip_city zip_code  zip_area_km2    zip_lat    zip_lng  \\\n",
       "0         Ã–hningen    78337     28.179802  47.678529   8.902334   \n",
       "1         Ã–hringen    74613     67.821120  49.210470   9.501625   \n",
       "2   Ã–lbronn-DÃ¼rrn    75248     15.620030  48.969068   8.754797   \n",
       "3         Ã–pfingen    89614      8.870305  48.289420   9.807230   \n",
       "4        Ã–stringen    76684     53.281234  49.189841   8.752244   \n",
       "5         Ã–tigheim    76470     10.950756  48.886503   8.239226   \n",
       "6         Ã–tisheim    75443     14.257361  48.963278   8.800028   \n",
       "7         Ã–tzingen    56244     97.560057  50.578030   7.764133   \n",
       "8              Aach    78267     10.657357  47.843673   8.858195   \n",
       "9            Aachen    52068      5.442057  50.779753   6.125915   \n",
       "10           Aachen    52066      7.682700  50.757629   6.104424   \n",
       "11           Aachen    52072     19.397840  50.821919   6.049716   \n",
       "12           Aachen    52070      9.168347  50.793842   6.096248   \n",
       "13           Aachen    52062      1.639510  50.777078   6.086448   \n",
       "14           Aachen    52078     12.491533  50.757035   6.161340   \n",
       "15           Aachen    52080     15.079612  50.787902   6.159662   \n",
       "16           Aachen    52064      2.184724  50.767758   6.078266   \n",
       "17           Aachen    52074     32.630990  50.773765   6.036342   \n",
       "18           Aachen    52076     55.191545  50.715196   6.149938   \n",
       "19            Aalen    73432     70.550891  48.816081  10.176108   \n",
       "20            Aalen    73430      5.533658  48.842876  10.081841   \n",
       "21            Aalen    73434     31.021832  48.860514  10.028685   \n",
       "22            Aalen    73431     15.234785  48.824936  10.090766   \n",
       "23            Aalen    73433     24.305859  48.868864  10.108665   \n",
       "24        Aarbergen    65326     34.097477  50.249365   8.083887   \n",
       "25           AÃŸlar    35614     43.984942  50.613789   8.443687   \n",
       "26          AÃŸling    85617     31.296221  47.991377  11.993190   \n",
       "27         Abenberg    91183     51.550485  49.234540  10.935305   \n",
       "28        Abensberg    93326     60.294593  48.830026  11.858287   \n",
       "29          Absberg    91720     18.955307  49.158210  10.860948   \n",
       "30          Abstatt    74232      8.857349  49.072894   9.304485   \n",
       "31       AbtsgmÃ¼nd    73453     71.796563  48.912256   9.961806   \n",
       "32      Abtsteinach    69518     11.058436  49.539483   8.787248   \n",
       "33          Achberg    88147     12.904874  47.622371   9.713981   \n",
       "34           Achern    77855     70.427854  48.634009   8.037331   \n",
       "35            Achim    28832     68.064684  53.020600   9.040000   \n",
       "36         Achslach    94250     30.115406  48.973719  12.910759   \n",
       "37       Achstetten    88480     23.327335  48.264317   9.901947   \n",
       "38       Achterwehr    24239     13.885568  54.302866   9.986222   \n",
       "39         Adelberg    73099      9.473609  48.761750   9.596231   \n",
       "40        Adelebsen    37139     76.612581  51.568267   9.749149   \n",
       "41    Adelheidsdorf    29352     33.360854  52.560557  10.030642   \n",
       "42  Adelmannsfelden    73486     22.899940  48.960260   9.968343   \n",
       "43       Adelschlag    85111     51.875142  48.844239  11.203769   \n",
       "44        Adelsdorf    91325     31.706330  49.709494  10.899738   \n",
       "45        Adelsheim    74740     43.834262  49.390301   9.395265   \n",
       "46       Adelshofen    82276     13.294466  48.192529  11.104563   \n",
       "47       Adelshofen    91587     27.217551  49.451592  10.149124   \n",
       "48        Adelsried    86477      9.665970  48.425457  10.718323   \n",
       "49      Adelzhausen    86559     16.922019  48.356630  11.128244   \n",
       "50           Adenau    53518     58.856754  50.380021   6.944135   \n",
       "51      AdenbÃ¼ttel    38528     13.709659  52.388899  10.451513   \n",
       "52         Adendorf    21365     16.095382  53.286440  10.454709   \n",
       "53         Adlkofen    84166     47.853163  48.536348  12.282316   \n",
       "54            Adorf    08626    105.804169  50.343162  12.225866   \n",
       "55           Aerzen    31855    105.348170  52.056434   9.244617   \n",
       "56     Affalterbach    71563     10.149946  48.919125   9.338031   \n",
       "57           Affing    86444     44.348114  48.449316  10.964035   \n",
       "58   Aglasterhausen    74858     22.806785  49.362541   8.992669   \n",
       "59             Aham    84168     37.920395  48.525983  12.465212   \n",
       "60            Ahaus    48683    151.572320  52.097810   6.962971   \n",
       "61          Ahlbeck    17419     66.426427  53.898325  14.136505   \n",
       "62            Ahlen    59229     42.976815  51.738166   7.924044   \n",
       "63            Ahlen    59227     80.113049  51.784158   7.884303   \n",
       "64       Ahlerstedt    21702     62.286327  53.391877   9.439955   \n",
       "65          Ahnatal    34292     18.005168  51.364729   9.399008   \n",
       "66         Ahnsbeck    29353     20.751402  52.608187  10.294021   \n",
       "67           Ahnsen    31708      3.448244  52.257285   9.097412   \n",
       "68         Aholfing    94345     21.658012  48.937135  12.477434   \n",
       "69         Aholming    94527     29.463883  48.736518  12.896238   \n",
       "70            Ahorn    74744     53.924063  49.492056   9.546079   \n",
       "71            Ahorn    96482     19.893672  50.223129  10.924203   \n",
       "72         Ahorntal    95491     61.993704  49.847428  11.441442   \n",
       "73        AhrbrÃ¼ck    53506     98.870369  50.469130   7.009607   \n",
       "74       AhrensbÃ¶k    23623     94.299871  54.002160  10.566971   \n",
       "75       Ahrensburg    22926     35.292113  53.668509  10.236855   \n",
       "76  Aicha vorm Wald    94529     20.365816  48.681597  13.309763   \n",
       "77          Aichach    86551     92.801559  48.445411  11.123639   \n",
       "78       Aichelberg    73101      4.030192  48.631891   9.564658   \n",
       "79           Aichen    86479     17.704344  48.232678  10.539802   \n",
       "80       Aichhalden    78733     25.789085  48.279406   8.412120   \n",
       "81      Aichstetten    88317     33.749951  47.894228  10.060568   \n",
       "82          Aichtal    72631     23.619711  48.625211   9.218629   \n",
       "83         Aichwald    73773     14.653255  48.762890   9.387554   \n",
       "84        Aidhausen    97491     37.286264  50.158177  10.457281   \n",
       "85        Aidlingen    71134     26.565488  48.678745   8.878890   \n",
       "86        Aiglsbach    84089     39.756440  48.692689  11.712718   \n",
       "87         Aindling    86447     51.595007  48.511860  10.950372   \n",
       "88          Ainring    83404     32.910217  47.819713  12.927228   \n",
       "89        Aislingen    89344     19.225499  48.508339  10.450163   \n",
       "90       Aiterhofen    94330     64.742549  48.841777  12.628186   \n",
       "91          Aitrach    88319     30.198547  47.936431  10.061116   \n",
       "92          Aitrang    87648     31.071117  47.836445  10.530279   \n",
       "93        Albaching    83544     18.133426  48.107269  12.114351   \n",
       "94         Albbruck    79774     39.705359  47.622307   8.121635   \n",
       "95       Albersdorf    25767     94.266517  54.152630   9.311968   \n",
       "96     Albershausen    73095      6.485936  48.689088   9.558709   \n",
       "97     Albersweiler    76857    123.135327  49.229022   7.945321   \n",
       "98     Albertshofen    97320     39.210658  49.744451  10.167135   \n",
       "99            Albig    55234    149.002514  49.739606   8.077400   \n",
       "\n",
       "    zip_population  zip_population_density   city_lng   city_lat  \n",
       "0             3509              124.521814   8.902334  47.678529  \n",
       "1            22513              331.946745   9.501625  49.210470  \n",
       "2             3392              217.157080   8.754797  48.969068  \n",
       "3             2260              254.782667   9.807230  48.289420  \n",
       "4            12518              234.942006   8.752244  49.189841  \n",
       "5             4471              408.282325   8.239226  48.886503  \n",
       "6             4728              331.618177   8.800028  48.963278  \n",
       "7            12836              131.570239   7.764133  50.578030  \n",
       "8             2179              204.459708   8.858195  47.843673  \n",
       "9            15378             2825.769530   6.104830  50.773188  \n",
       "10           31839             4144.246054   6.104830  50.773188  \n",
       "11           21256             1095.792101   6.104830  50.773188  \n",
       "12           22563             2460.967020   6.104830  50.773188  \n",
       "13           15989             9752.305508   6.104830  50.773188  \n",
       "14           29730             2380.012077   6.104830  50.773188  \n",
       "15           26232             1739.567334   6.104830  50.773188  \n",
       "16           22594            10341.808248   6.104830  50.773188  \n",
       "17           30606              937.942726   6.104830  50.773188  \n",
       "18           20248              366.867787   6.104830  50.773188  \n",
       "19           10698              151.635222  10.097213  48.842654  \n",
       "20           11700             2114.333935  10.097213  48.842654  \n",
       "21           15794              509.125310  10.097213  48.842654  \n",
       "22           14512              952.556956  10.097213  48.842654  \n",
       "23           13654              561.757567  10.097213  48.842654  \n",
       "24            6023              176.640633   8.083887  50.249365  \n",
       "25           13616              309.560482   8.443687  50.613789  \n",
       "26            4266              136.310389  11.993190  47.991377  \n",
       "27            5425              105.236644  10.935305  49.234540  \n",
       "28           12774              211.859793  11.858287  48.830026  \n",
       "29            1330               70.165047  10.860948  49.158210  \n",
       "30            4421              499.133560   9.304485  49.072894  \n",
       "31            7337              102.191522   9.961806  48.912256  \n",
       "32            2455              222.002467   8.787248  49.539483  \n",
       "33            1683              130.415844   9.713981  47.622371  \n",
       "34           24535              348.370688   8.037331  48.634009  \n",
       "35           29539              433.984237   9.040000  53.020600  \n",
       "36             935               31.047232  12.910759  48.973719  \n",
       "37            4184              179.360394   9.901947  48.264317  \n",
       "38             986               71.008976   9.986222  54.302866  \n",
       "39            1972              208.157198   9.596231  48.761750  \n",
       "40            6571               85.769203   9.749149  51.568267  \n",
       "41            2482               74.398575  10.030642  52.560557  \n",
       "42            1797               78.471822   9.968343  48.960260  \n",
       "43            2802               54.014310  11.203769  48.844239  \n",
       "44            7301              230.269473  10.899738  49.709494  \n",
       "45            4931              112.491912   9.395265  49.390301  \n",
       "46            1571              118.169473  10.626843  48.822060  \n",
       "47             972               35.712250  10.626843  48.822060  \n",
       "48            2166              224.085122  10.718323  48.425457  \n",
       "49            1574               93.014903  11.128244  48.356630  \n",
       "50            4706               79.956839   6.944135  50.380021  \n",
       "51            1774              129.397822  10.451513  52.388899  \n",
       "52           10126              629.124538  10.454709  53.286440  \n",
       "53            3830               80.036507  12.282316  48.536348  \n",
       "54            7713               72.898829  12.225866  50.343162  \n",
       "55           10969              104.121410   9.244617  52.056434  \n",
       "56            4483              441.677233   9.338031  48.919125  \n",
       "57            5248              118.336487  10.964035  48.449316  \n",
       "58            4836              212.042162   8.992669  49.362541  \n",
       "59            1932               50.948837  12.465212  48.525983  \n",
       "60           38426              253.515946   6.962971  52.097810  \n",
       "61            5376               80.931644  14.136505  53.898325  \n",
       "62           27262              634.342027   7.904173  51.761162  \n",
       "63           25076              313.007683   7.904173  51.761162  \n",
       "64            5053               81.125349   9.439955  53.391877  \n",
       "65            8028              445.871993   9.399008  51.364729  \n",
       "66            1672               80.572868  10.294021  52.608187  \n",
       "67            1176              341.043194   9.097412  52.257285  \n",
       "68            1712               79.046961  12.477434  48.937135  \n",
       "69            2278               77.314996  12.896238  48.736518  \n",
       "70            2221               41.187549  10.235141  49.857593  \n",
       "71            4282              215.244327  10.235141  49.857593  \n",
       "72            2261               36.471446  11.441442  49.847428  \n",
       "73            4274               43.228320   7.009607  50.469130  \n",
       "74            8449               89.597154  10.566971  54.002160  \n",
       "75           31365              888.725472  10.236855  53.668509  \n",
       "76            2410              118.335547  13.309763  48.681597  \n",
       "77           20253              218.239868  11.123639  48.445411  \n",
       "78            1252              310.655163   9.564658  48.631891  \n",
       "79            1164               65.746575  10.539802  48.232678  \n",
       "80            4055              157.237066   8.412120  48.279406  \n",
       "81            2701               80.029745  10.060568  47.894228  \n",
       "82            9547              404.196313   9.218629  48.625211  \n",
       "83            7451              508.487694   9.387554  48.762890  \n",
       "84            1802               48.328789  10.457281  50.158177  \n",
       "85            8731              328.659505   8.878890  48.678745  \n",
       "86            1662               41.804548  11.712718  48.692689  \n",
       "87            5631              109.138467  10.950372  48.511860  \n",
       "88            9536              289.758039  12.927228  47.819713  \n",
       "89            1349               70.167230  10.450163  48.508339  \n",
       "90            5668               87.546754  12.628186  48.841777  \n",
       "91            2495               82.619870  10.061116  47.936431  \n",
       "92            1990               64.046620  10.530279  47.836445  \n",
       "93            1654               91.212768  12.114351  48.107269  \n",
       "94            7240              182.343143   8.121635  47.622307  \n",
       "95            6198               65.749751   9.311968  54.152630  \n",
       "96            4254              655.880692   9.558709  48.689088  \n",
       "97            9715               78.896936   7.945321  49.229022  \n",
       "98            8122              207.137559  10.167135  49.744451  \n",
       "99           18661              125.239498   8.077400  49.739606  "
      ]
     },
     "execution_count": 41,
     "metadata": {},
     "output_type": "execute_result"
    }
   ],
   "source": [
    "plz_all.head(100)"
   ]
  },
  {
   "cell_type": "code",
   "execution_count": 59,
   "metadata": {},
   "outputs": [],
   "source": [
    "all_cities_buy_pop = pd.merge(all_cities_buy_new, plz_all, how=\"left\", left_on=\"address_geocoded_postalcode\",\n",
    "                             right_on = \"zip_code\")"
   ]
  },
  {
   "cell_type": "code",
   "execution_count": 60,
   "metadata": {},
   "outputs": [],
   "source": [
    "all_cities_buy_pop=all_cities_buy_pop[~all_cities_buy_pop.zip_code.isna()]"
   ]
  },
  {
   "cell_type": "code",
   "execution_count": 61,
   "metadata": {},
   "outputs": [
    {
     "data": {
      "text/plain": [
       "(1410667, 29)"
      ]
     },
     "execution_count": 61,
     "metadata": {},
     "output_type": "execute_result"
    }
   ],
   "source": [
    "all_cities_buy_pop.shape"
   ]
  },
  {
   "cell_type": "code",
   "execution_count": 62,
   "metadata": {},
   "outputs": [],
   "source": [
    "all_cities_buy_pop.zip_code = all_cities_buy_pop.zip_code.astype(str)"
   ]
  },
  {
   "cell_type": "code",
   "execution_count": 63,
   "metadata": {},
   "outputs": [
    {
     "data": {
      "text/plain": [
       "<matplotlib.axes._subplots.AxesSubplot at 0x7fbb647327b8>"
      ]
     },
     "execution_count": 63,
     "metadata": {},
     "output_type": "execute_result"
    },
    {
     "data": {
      "image/png": "[encoded data removed]",
      "text/plain": [
       "<Figure size 432x288 with 1 Axes>"
      ]
     },
     "metadata": {},
     "output_type": "display_data"
    }
   ],
   "source": [
    "all_cities_buy_pop.zip_population_density.hist()"
   ]
  },
  {
   "cell_type": "code",
   "execution_count": 64,
   "metadata": {},
   "outputs": [],
   "source": [
    "market_size = all_cities_buy_pop[[\"address_geocoded_postalcode\",'obj_unique_id_clus']].groupby(\"address_geocoded_postalcode\").count()"
   ]
  },
  {
   "cell_type": "code",
   "execution_count": 65,
   "metadata": {},
   "outputs": [],
   "source": [
    "market_size=market_size.reset_index(\"address_geocoded_postalcode\")\n",
    "market_size.columns = [\"address_geocoded_postalcode\",\"zip_market_size\"]\n",
    "\n"
   ]
  },
  {
   "cell_type": "code",
   "execution_count": 66,
   "metadata": {},
   "outputs": [],
   "source": [
    "all_cities_buy_pop = pd.merge(all_cities_buy_pop,market_size,on = \"address_geocoded_postalcode\")"
   ]
  },
  {
   "cell_type": "code",
   "execution_count": 67,
   "metadata": {},
   "outputs": [
    {
     "data": {
      "text/plain": [
       "Index(['source_record_id', 'obj_unique_id_clus', 'address_geocoded_city',\n",
       "       'address_geocoded_postalcode', 'address_lat', 'address_lng',\n",
       "       'balcony_available', 'construction_yearfinished',\n",
       "       'investment_rent_active', 'object_category', 'parking_available',\n",
       "       'structure_area_living', 'structure_rooms_living', 'expose_price_sqm',\n",
       "       'offline_corrected', 'online_corrected', 'weeks_on_market',\n",
       "       'expose_content_text_tokens', 'year_extracted',\n",
       "       'construction_yearfinished_plz', 'zip_city', 'zip_code', 'zip_area_km2',\n",
       "       'zip_lat', 'zip_lng', 'zip_population', 'zip_population_density',\n",
       "       'city_lng', 'city_lat', 'zip_market_size'],\n",
       "      dtype='object')"
      ]
     },
     "execution_count": 67,
     "metadata": {},
     "output_type": "execute_result"
    }
   ],
   "source": [
    "all_cities_buy_pop.columns"
   ]
  },
  {
   "cell_type": "code",
   "execution_count": 68,
   "metadata": {},
   "outputs": [],
   "source": [
    "city_lat_deviance = all_cities_buy_pop[\"address_lat\"] - all_cities_buy_pop[\"city_lat\"]\n",
    "city_lon_deviance = all_cities_buy_pop[\"address_lng\"] - all_cities_buy_pop[\"city_lng\"]\n",
    "all_cities_buy_pop[\"city_distance\"] = np.sqrt(city_lat_deviance**2 + city_lon_deviance**2)"
   ]
  },
  {
   "cell_type": "code",
   "execution_count": 69,
   "metadata": {},
   "outputs": [],
   "source": [
    "nans=[]\n",
    "col_name=[]\n",
    "for column in all_cities_buy_pop.columns:\n",
    "    nans.append(np.sum(pd.isna(all_cities_buy_pop[[column]]))[0] / all_cities_buy_pop.shape[0] )\n",
    "    col_name.append(column)\n",
    "\n",
    "missing = pd.DataFrame(np.array([col_name,nans]).T, columns = [\"column\", \"miss_ratio\"])\n",
    "missing.miss_ratio = missing.miss_ratio.astype(\"float\")"
   ]
  },
  {
   "cell_type": "code",
   "execution_count": 70,
   "metadata": {},
   "outputs": [
    {
     "data": {
      "text/html": [
       "<div>\n",
       "<style scoped>\n",
       "    .dataframe tbody tr th:only-of-type {\n",
       "        vertical-align: middle;\n",
       "    }\n",
       "\n",
       "    .dataframe tbody tr th {\n",
       "        vertical-align: top;\n",
       "    }\n",
       "\n",
       "    .dataframe thead th {\n",
       "        text-align: right;\n",
       "    }\n",
       "</style>\n",
       "<table border=\"1\" class=\"dataframe\">\n",
       "  <thead>\n",
       "    <tr style=\"text-align: right;\">\n",
       "      <th></th>\n",
       "      <th>column</th>\n",
       "      <th>miss_ratio</th>\n",
       "    </tr>\n",
       "  </thead>\n",
       "  <tbody>\n",
       "    <tr>\n",
       "      <th>18</th>\n",
       "      <td>year_extracted</td>\n",
       "      <td>0.974258</td>\n",
       "    </tr>\n",
       "    <tr>\n",
       "      <th>20</th>\n",
       "      <td>zip_city</td>\n",
       "      <td>0.000296</td>\n",
       "    </tr>\n",
       "  </tbody>\n",
       "</table>\n",
       "</div>"
      ],
      "text/plain": [
       "            column  miss_ratio\n",
       "18  year_extracted    0.974258\n",
       "20        zip_city    0.000296"
      ]
     },
     "execution_count": 70,
     "metadata": {},
     "output_type": "execute_result"
    }
   ],
   "source": [
    "missing[missing.miss_ratio > 0.0].sort_values(by=['miss_ratio'],ascending =False)"
   ]
  },
  {
   "cell_type": "code",
   "execution_count": 55,
   "metadata": {},
   "outputs": [],
   "source": [
    "all_cities_buy_pop = all_cities_buy_pop[~all_cities_buy_pop.zip_city.isna()]"
   ]
  },
  {
   "cell_type": "code",
   "execution_count": 71,
   "metadata": {},
   "outputs": [],
   "source": [
    "all_cities_buy_pop = all_cities_buy_pop.drop([\"year_extracted\",\"zip_city\",\"zip_code\"], axis = 1)"
   ]
  },
  {
   "cell_type": "code",
   "execution_count": 72,
   "metadata": {},
   "outputs": [
    {
     "data": {
      "text/html": [
       "<div>\n",
       "<style scoped>\n",
       "    .dataframe tbody tr th:only-of-type {\n",
       "        vertical-align: middle;\n",
       "    }\n",
       "\n",
       "    .dataframe tbody tr th {\n",
       "        vertical-align: top;\n",
       "    }\n",
       "\n",
       "    .dataframe thead th {\n",
       "        text-align: right;\n",
       "    }\n",
       "</style>\n",
       "<table border=\"1\" class=\"dataframe\">\n",
       "  <thead>\n",
       "    <tr style=\"text-align: right;\">\n",
       "      <th></th>\n",
       "      <th>source_record_id</th>\n",
       "      <th>obj_unique_id_clus</th>\n",
       "      <th>address_geocoded_city</th>\n",
       "      <th>address_geocoded_postalcode</th>\n",
       "      <th>address_lat</th>\n",
       "      <th>address_lng</th>\n",
       "      <th>balcony_available</th>\n",
       "      <th>construction_yearfinished</th>\n",
       "      <th>investment_rent_active</th>\n",
       "      <th>object_category</th>\n",
       "      <th>parking_available</th>\n",
       "      <th>structure_area_living</th>\n",
       "      <th>structure_rooms_living</th>\n",
       "      <th>expose_price_sqm</th>\n",
       "      <th>offline_corrected</th>\n",
       "      <th>online_corrected</th>\n",
       "      <th>weeks_on_market</th>\n",
       "      <th>expose_content_text_tokens</th>\n",
       "      <th>construction_yearfinished_plz</th>\n",
       "      <th>zip_area_km2</th>\n",
       "      <th>zip_lat</th>\n",
       "      <th>zip_lng</th>\n",
       "      <th>zip_population</th>\n",
       "      <th>zip_population_density</th>\n",
       "      <th>city_lng</th>\n",
       "      <th>city_lat</th>\n",
       "      <th>zip_market_size</th>\n",
       "      <th>city_distance</th>\n",
       "    </tr>\n",
       "  </thead>\n",
       "  <tbody>\n",
       "    <tr>\n",
       "      <th>0</th>\n",
       "      <td>dNED+BBBShbdRNqYaBYyhkusfUk=</td>\n",
       "      <td>dNED+BBBShbdRNqYaBYyhkusfUk=clu0</td>\n",
       "      <td>Dresden</td>\n",
       "      <td>01067</td>\n",
       "      <td>51.060257</td>\n",
       "      <td>13.717804</td>\n",
       "      <td>True</td>\n",
       "      <td>2013.0</td>\n",
       "      <td>False</td>\n",
       "      <td>APARTMENT</td>\n",
       "      <td>True</td>\n",
       "      <td>147.77</td>\n",
       "      <td>5.0</td>\n",
       "      <td>4053.596806</td>\n",
       "      <td>2018-09-10</td>\n",
       "      <td>2018-01-01</td>\n",
       "      <td>37.0</td>\n",
       "      <td>objektbeschreib wohntraum befindet 2 obergesch...</td>\n",
       "      <td>1993.316667</td>\n",
       "      <td>6.853574</td>\n",
       "      <td>51.060257</td>\n",
       "      <td>13.717804</td>\n",
       "      <td>11957.0</td>\n",
       "      <td>1744.637097</td>\n",
       "      <td>13.766437</td>\n",
       "      <td>51.04909</td>\n",
       "      <td>132</td>\n",
       "      <td>0.049898</td>\n",
       "    </tr>\n",
       "    <tr>\n",
       "      <th>1</th>\n",
       "      <td>UWoXjGpsVk/9nhqVsp0JABXYj4M=</td>\n",
       "      <td>UWoXjGpsVk/9nhqVsp0JABXYj4M=</td>\n",
       "      <td>Dresden</td>\n",
       "      <td>01067</td>\n",
       "      <td>51.060257</td>\n",
       "      <td>13.717804</td>\n",
       "      <td>False</td>\n",
       "      <td>1900.0</td>\n",
       "      <td>False</td>\n",
       "      <td>APARTMENT</td>\n",
       "      <td>False</td>\n",
       "      <td>60.00</td>\n",
       "      <td>3.0</td>\n",
       "      <td>2033.333333</td>\n",
       "      <td>2018-04-16</td>\n",
       "      <td>2018-02-19</td>\n",
       "      <td>9.0</td>\n",
       "      <td>objekt mehrfamilienhaus befindet in seitenstra...</td>\n",
       "      <td>1993.316667</td>\n",
       "      <td>6.853574</td>\n",
       "      <td>51.060257</td>\n",
       "      <td>13.717804</td>\n",
       "      <td>11957.0</td>\n",
       "      <td>1744.637097</td>\n",
       "      <td>13.766437</td>\n",
       "      <td>51.04909</td>\n",
       "      <td>132</td>\n",
       "      <td>0.049898</td>\n",
       "    </tr>\n",
       "    <tr>\n",
       "      <th>2</th>\n",
       "      <td>4361933</td>\n",
       "      <td>4361933</td>\n",
       "      <td>Dresden</td>\n",
       "      <td>01067</td>\n",
       "      <td>51.057290</td>\n",
       "      <td>13.719990</td>\n",
       "      <td>True</td>\n",
       "      <td>2019.0</td>\n",
       "      <td>False</td>\n",
       "      <td>APARTMENT</td>\n",
       "      <td>True</td>\n",
       "      <td>43.00</td>\n",
       "      <td>2.0</td>\n",
       "      <td>4511.627930</td>\n",
       "      <td>2019-03-25</td>\n",
       "      <td>2019-02-11</td>\n",
       "      <td>7.0</td>\n",
       "      <td>absolut stadtnah umgeb fusslauf erreichbar idy...</td>\n",
       "      <td>1993.316667</td>\n",
       "      <td>6.853574</td>\n",
       "      <td>51.060257</td>\n",
       "      <td>13.717804</td>\n",
       "      <td>11957.0</td>\n",
       "      <td>1744.637097</td>\n",
       "      <td>13.766437</td>\n",
       "      <td>51.04909</td>\n",
       "      <td>132</td>\n",
       "      <td>0.047165</td>\n",
       "    </tr>\n",
       "    <tr>\n",
       "      <th>3</th>\n",
       "      <td>7471690</td>\n",
       "      <td>7471690</td>\n",
       "      <td>Dresden</td>\n",
       "      <td>01067</td>\n",
       "      <td>51.057790</td>\n",
       "      <td>13.714460</td>\n",
       "      <td>True</td>\n",
       "      <td>1995.0</td>\n",
       "      <td>True</td>\n",
       "      <td>APARTMENT</td>\n",
       "      <td>True</td>\n",
       "      <td>36.00</td>\n",
       "      <td>1.0</td>\n",
       "      <td>1916.666626</td>\n",
       "      <td>2019-08-05</td>\n",
       "      <td>2019-08-05</td>\n",
       "      <td>1.0</td>\n",
       "      <td>schon apartment befindet im 1995 neu erbaut vo...</td>\n",
       "      <td>1993.316667</td>\n",
       "      <td>6.853574</td>\n",
       "      <td>51.060257</td>\n",
       "      <td>13.717804</td>\n",
       "      <td>11957.0</td>\n",
       "      <td>1744.637097</td>\n",
       "      <td>13.766437</td>\n",
       "      <td>51.04909</td>\n",
       "      <td>132</td>\n",
       "      <td>0.052700</td>\n",
       "    </tr>\n",
       "    <tr>\n",
       "      <th>4</th>\n",
       "      <td>3633260</td>\n",
       "      <td>4361933</td>\n",
       "      <td>Dresden</td>\n",
       "      <td>01067</td>\n",
       "      <td>51.057290</td>\n",
       "      <td>13.719990</td>\n",
       "      <td>True</td>\n",
       "      <td>2019.0</td>\n",
       "      <td>False</td>\n",
       "      <td>APARTMENT</td>\n",
       "      <td>True</td>\n",
       "      <td>43.00</td>\n",
       "      <td>2.0</td>\n",
       "      <td>4511.629883</td>\n",
       "      <td>2019-01-28</td>\n",
       "      <td>2018-12-24</td>\n",
       "      <td>6.0</td>\n",
       "      <td>absolut stadtnah umgeb fusslauf erreichbar idy...</td>\n",
       "      <td>1993.316667</td>\n",
       "      <td>6.853574</td>\n",
       "      <td>51.060257</td>\n",
       "      <td>13.717804</td>\n",
       "      <td>11957.0</td>\n",
       "      <td>1744.637097</td>\n",
       "      <td>13.766437</td>\n",
       "      <td>51.04909</td>\n",
       "      <td>132</td>\n",
       "      <td>0.047165</td>\n",
       "    </tr>\n",
       "  </tbody>\n",
       "</table>\n",
       "</div>"
      ],
      "text/plain": [
       "               source_record_id                obj_unique_id_clus  \\\n",
       "0  dNED+BBBShbdRNqYaBYyhkusfUk=  dNED+BBBShbdRNqYaBYyhkusfUk=clu0   \n",
       "1  UWoXjGpsVk/9nhqVsp0JABXYj4M=      UWoXjGpsVk/9nhqVsp0JABXYj4M=   \n",
       "2                       4361933                           4361933   \n",
       "3                       7471690                           7471690   \n",
       "4                       3633260                           4361933   \n",
       "\n",
       "  address_geocoded_city address_geocoded_postalcode  address_lat  address_lng  \\\n",
       "0               Dresden                       01067    51.060257    13.717804   \n",
       "1               Dresden                       01067    51.060257    13.717804   \n",
       "2               Dresden                       01067    51.057290    13.719990   \n",
       "3               Dresden                       01067    51.057790    13.714460   \n",
       "4               Dresden                       01067    51.057290    13.719990   \n",
       "\n",
       "   balcony_available  construction_yearfinished  investment_rent_active  \\\n",
       "0               True                     2013.0                   False   \n",
       "1              False                     1900.0                   False   \n",
       "2               True                     2019.0                   False   \n",
       "3               True                     1995.0                    True   \n",
       "4               True                     2019.0                   False   \n",
       "\n",
       "  object_category  parking_available  structure_area_living  \\\n",
       "0       APARTMENT               True                 147.77   \n",
       "1       APARTMENT              False                  60.00   \n",
       "2       APARTMENT               True                  43.00   \n",
       "3       APARTMENT               True                  36.00   \n",
       "4       APARTMENT               True                  43.00   \n",
       "\n",
       "   structure_rooms_living  expose_price_sqm offline_corrected  \\\n",
       "0                     5.0       4053.596806        2018-09-10   \n",
       "1                     3.0       2033.333333        2018-04-16   \n",
       "2                     2.0       4511.627930        2019-03-25   \n",
       "3                     1.0       1916.666626        2019-08-05   \n",
       "4                     2.0       4511.629883        2019-01-28   \n",
       "\n",
       "  online_corrected  weeks_on_market  \\\n",
       "0       2018-01-01             37.0   \n",
       "1       2018-02-19              9.0   \n",
       "2       2019-02-11              7.0   \n",
       "3       2019-08-05              1.0   \n",
       "4       2018-12-24              6.0   \n",
       "\n",
       "                          expose_content_text_tokens  \\\n",
       "0  objektbeschreib wohntraum befindet 2 obergesch...   \n",
       "1  objekt mehrfamilienhaus befindet in seitenstra...   \n",
       "2  absolut stadtnah umgeb fusslauf erreichbar idy...   \n",
       "3  schon apartment befindet im 1995 neu erbaut vo...   \n",
       "4  absolut stadtnah umgeb fusslauf erreichbar idy...   \n",
       "\n",
       "   construction_yearfinished_plz  zip_area_km2    zip_lat    zip_lng  \\\n",
       "0                    1993.316667      6.853574  51.060257  13.717804   \n",
       "1                    1993.316667      6.853574  51.060257  13.717804   \n",
       "2                    1993.316667      6.853574  51.060257  13.717804   \n",
       "3                    1993.316667      6.853574  51.060257  13.717804   \n",
       "4                    1993.316667      6.853574  51.060257  13.717804   \n",
       "\n",
       "   zip_population  zip_population_density   city_lng  city_lat  \\\n",
       "0         11957.0             1744.637097  13.766437  51.04909   \n",
       "1         11957.0             1744.637097  13.766437  51.04909   \n",
       "2         11957.0             1744.637097  13.766437  51.04909   \n",
       "3         11957.0             1744.637097  13.766437  51.04909   \n",
       "4         11957.0             1744.637097  13.766437  51.04909   \n",
       "\n",
       "   zip_market_size  city_distance  \n",
       "0              132       0.049898  \n",
       "1              132       0.049898  \n",
       "2              132       0.047165  \n",
       "3              132       0.052700  \n",
       "4              132       0.047165  "
      ]
     },
     "execution_count": 72,
     "metadata": {},
     "output_type": "execute_result"
    }
   ],
   "source": [
    "all_cities_buy_pop.head()"
   ]
  },
  {
   "cell_type": "code",
   "execution_count": 73,
   "metadata": {},
   "outputs": [],
   "source": [
    "all_cities_buy_pop.address_geocoded_postalcode = all_cities_buy_pop.address_geocoded_postalcode.astype(str)"
   ]
  },
  {
   "cell_type": "code",
   "execution_count": 84,
   "metadata": {},
   "outputs": [
    {
     "data": {
      "text/html": [
       "<div>\n",
       "<style scoped>\n",
       "    .dataframe tbody tr th:only-of-type {\n",
       "        vertical-align: middle;\n",
       "    }\n",
       "\n",
       "    .dataframe tbody tr th {\n",
       "        vertical-align: top;\n",
       "    }\n",
       "\n",
       "    .dataframe thead th {\n",
       "        text-align: right;\n",
       "    }\n",
       "</style>\n",
       "<table border=\"1\" class=\"dataframe\">\n",
       "  <thead>\n",
       "    <tr style=\"text-align: right;\">\n",
       "      <th></th>\n",
       "      <th>source_record_id</th>\n",
       "      <th>obj_unique_id_clus</th>\n",
       "      <th>address_geocoded_city</th>\n",
       "      <th>address_geocoded_postalcode</th>\n",
       "      <th>address_lat</th>\n",
       "      <th>address_lng</th>\n",
       "      <th>balcony_available</th>\n",
       "      <th>construction_yearfinished</th>\n",
       "      <th>investment_rent_active</th>\n",
       "      <th>object_category</th>\n",
       "      <th>parking_available</th>\n",
       "      <th>structure_area_living</th>\n",
       "      <th>structure_rooms_living</th>\n",
       "      <th>expose_price_sqm</th>\n",
       "      <th>offline_corrected</th>\n",
       "      <th>online_corrected</th>\n",
       "      <th>weeks_on_market</th>\n",
       "      <th>expose_content_text_tokens</th>\n",
       "      <th>construction_yearfinished_plz</th>\n",
       "      <th>zip_area_km2</th>\n",
       "      <th>zip_lat</th>\n",
       "      <th>zip_lng</th>\n",
       "      <th>zip_population</th>\n",
       "      <th>zip_population_density</th>\n",
       "      <th>city_lng</th>\n",
       "      <th>city_lat</th>\n",
       "      <th>zip_market_size</th>\n",
       "      <th>city_distance</th>\n",
       "    </tr>\n",
       "  </thead>\n",
       "  <tbody>\n",
       "    <tr>\n",
       "      <th>0</th>\n",
       "      <td>dNED+BBBShbdRNqYaBYyhkusfUk=</td>\n",
       "      <td>dNED+BBBShbdRNqYaBYyhkusfUk=clu0</td>\n",
       "      <td>Dresden</td>\n",
       "      <td>01067</td>\n",
       "      <td>51.060257</td>\n",
       "      <td>13.717804</td>\n",
       "      <td>True</td>\n",
       "      <td>2013.0</td>\n",
       "      <td>False</td>\n",
       "      <td>APARTMENT</td>\n",
       "      <td>True</td>\n",
       "      <td>147.77</td>\n",
       "      <td>5.0</td>\n",
       "      <td>4053.596806</td>\n",
       "      <td>2018-09-10</td>\n",
       "      <td>2018-01-01</td>\n",
       "      <td>37.0</td>\n",
       "      <td>objektbeschreib wohntraum befindet 2 obergesch...</td>\n",
       "      <td>1993.316667</td>\n",
       "      <td>6.853574</td>\n",
       "      <td>51.060257</td>\n",
       "      <td>13.717804</td>\n",
       "      <td>11957.0</td>\n",
       "      <td>1744.637097</td>\n",
       "      <td>13.766437</td>\n",
       "      <td>51.04909</td>\n",
       "      <td>132</td>\n",
       "      <td>0.049898</td>\n",
       "    </tr>\n",
       "    <tr>\n",
       "      <th>1</th>\n",
       "      <td>UWoXjGpsVk/9nhqVsp0JABXYj4M=</td>\n",
       "      <td>UWoXjGpsVk/9nhqVsp0JABXYj4M=</td>\n",
       "      <td>Dresden</td>\n",
       "      <td>01067</td>\n",
       "      <td>51.060257</td>\n",
       "      <td>13.717804</td>\n",
       "      <td>False</td>\n",
       "      <td>1900.0</td>\n",
       "      <td>False</td>\n",
       "      <td>APARTMENT</td>\n",
       "      <td>False</td>\n",
       "      <td>60.00</td>\n",
       "      <td>3.0</td>\n",
       "      <td>2033.333333</td>\n",
       "      <td>2018-04-16</td>\n",
       "      <td>2018-02-19</td>\n",
       "      <td>9.0</td>\n",
       "      <td>objekt mehrfamilienhaus befindet in seitenstra...</td>\n",
       "      <td>1993.316667</td>\n",
       "      <td>6.853574</td>\n",
       "      <td>51.060257</td>\n",
       "      <td>13.717804</td>\n",
       "      <td>11957.0</td>\n",
       "      <td>1744.637097</td>\n",
       "      <td>13.766437</td>\n",
       "      <td>51.04909</td>\n",
       "      <td>132</td>\n",
       "      <td>0.049898</td>\n",
       "    </tr>\n",
       "    <tr>\n",
       "      <th>2</th>\n",
       "      <td>4361933</td>\n",
       "      <td>4361933</td>\n",
       "      <td>Dresden</td>\n",
       "      <td>01067</td>\n",
       "      <td>51.057290</td>\n",
       "      <td>13.719990</td>\n",
       "      <td>True</td>\n",
       "      <td>2019.0</td>\n",
       "      <td>False</td>\n",
       "      <td>APARTMENT</td>\n",
       "      <td>True</td>\n",
       "      <td>43.00</td>\n",
       "      <td>2.0</td>\n",
       "      <td>4511.627930</td>\n",
       "      <td>2019-03-25</td>\n",
       "      <td>2019-02-11</td>\n",
       "      <td>7.0</td>\n",
       "      <td>absolut stadtnah umgeb fusslauf erreichbar idy...</td>\n",
       "      <td>1993.316667</td>\n",
       "      <td>6.853574</td>\n",
       "      <td>51.060257</td>\n",
       "      <td>13.717804</td>\n",
       "      <td>11957.0</td>\n",
       "      <td>1744.637097</td>\n",
       "      <td>13.766437</td>\n",
       "      <td>51.04909</td>\n",
       "      <td>132</td>\n",
       "      <td>0.047165</td>\n",
       "    </tr>\n",
       "    <tr>\n",
       "      <th>3</th>\n",
       "      <td>7471690</td>\n",
       "      <td>7471690</td>\n",
       "      <td>Dresden</td>\n",
       "      <td>01067</td>\n",
       "      <td>51.057790</td>\n",
       "      <td>13.714460</td>\n",
       "      <td>True</td>\n",
       "      <td>1995.0</td>\n",
       "      <td>True</td>\n",
       "      <td>APARTMENT</td>\n",
       "      <td>True</td>\n",
       "      <td>36.00</td>\n",
       "      <td>1.0</td>\n",
       "      <td>1916.666626</td>\n",
       "      <td>2019-08-05</td>\n",
       "      <td>2019-08-05</td>\n",
       "      <td>1.0</td>\n",
       "      <td>schon apartment befindet im 1995 neu erbaut vo...</td>\n",
       "      <td>1993.316667</td>\n",
       "      <td>6.853574</td>\n",
       "      <td>51.060257</td>\n",
       "      <td>13.717804</td>\n",
       "      <td>11957.0</td>\n",
       "      <td>1744.637097</td>\n",
       "      <td>13.766437</td>\n",
       "      <td>51.04909</td>\n",
       "      <td>132</td>\n",
       "      <td>0.052700</td>\n",
       "    </tr>\n",
       "    <tr>\n",
       "      <th>4</th>\n",
       "      <td>3633260</td>\n",
       "      <td>4361933</td>\n",
       "      <td>Dresden</td>\n",
       "      <td>01067</td>\n",
       "      <td>51.057290</td>\n",
       "      <td>13.719990</td>\n",
       "      <td>True</td>\n",
       "      <td>2019.0</td>\n",
       "      <td>False</td>\n",
       "      <td>APARTMENT</td>\n",
       "      <td>True</td>\n",
       "      <td>43.00</td>\n",
       "      <td>2.0</td>\n",
       "      <td>4511.629883</td>\n",
       "      <td>2019-01-28</td>\n",
       "      <td>2018-12-24</td>\n",
       "      <td>6.0</td>\n",
       "      <td>absolut stadtnah umgeb fusslauf erreichbar idy...</td>\n",
       "      <td>1993.316667</td>\n",
       "      <td>6.853574</td>\n",
       "      <td>51.060257</td>\n",
       "      <td>13.717804</td>\n",
       "      <td>11957.0</td>\n",
       "      <td>1744.637097</td>\n",
       "      <td>13.766437</td>\n",
       "      <td>51.04909</td>\n",
       "      <td>132</td>\n",
       "      <td>0.047165</td>\n",
       "    </tr>\n",
       "  </tbody>\n",
       "</table>\n",
       "</div>"
      ],
      "text/plain": [
       "               source_record_id                obj_unique_id_clus  \\\n",
       "0  dNED+BBBShbdRNqYaBYyhkusfUk=  dNED+BBBShbdRNqYaBYyhkusfUk=clu0   \n",
       "1  UWoXjGpsVk/9nhqVsp0JABXYj4M=      UWoXjGpsVk/9nhqVsp0JABXYj4M=   \n",
       "2                       4361933                           4361933   \n",
       "3                       7471690                           7471690   \n",
       "4                       3633260                           4361933   \n",
       "\n",
       "  address_geocoded_city address_geocoded_postalcode  address_lat  address_lng  \\\n",
       "0               Dresden                       01067    51.060257    13.717804   \n",
       "1               Dresden                       01067    51.060257    13.717804   \n",
       "2               Dresden                       01067    51.057290    13.719990   \n",
       "3               Dresden                       01067    51.057790    13.714460   \n",
       "4               Dresden                       01067    51.057290    13.719990   \n",
       "\n",
       "   balcony_available  construction_yearfinished  investment_rent_active  \\\n",
       "0               True                     2013.0                   False   \n",
       "1              False                     1900.0                   False   \n",
       "2               True                     2019.0                   False   \n",
       "3               True                     1995.0                    True   \n",
       "4               True                     2019.0                   False   \n",
       "\n",
       "  object_category  parking_available  structure_area_living  \\\n",
       "0       APARTMENT               True                 147.77   \n",
       "1       APARTMENT              False                  60.00   \n",
       "2       APARTMENT               True                  43.00   \n",
       "3       APARTMENT               True                  36.00   \n",
       "4       APARTMENT               True                  43.00   \n",
       "\n",
       "   structure_rooms_living  expose_price_sqm offline_corrected  \\\n",
       "0                     5.0       4053.596806        2018-09-10   \n",
       "1                     3.0       2033.333333        2018-04-16   \n",
       "2                     2.0       4511.627930        2019-03-25   \n",
       "3                     1.0       1916.666626        2019-08-05   \n",
       "4                     2.0       4511.629883        2019-01-28   \n",
       "\n",
       "  online_corrected  weeks_on_market  \\\n",
       "0       2018-01-01             37.0   \n",
       "1       2018-02-19              9.0   \n",
       "2       2019-02-11              7.0   \n",
       "3       2019-08-05              1.0   \n",
       "4       2018-12-24              6.0   \n",
       "\n",
       "                          expose_content_text_tokens  \\\n",
       "0  objektbeschreib wohntraum befindet 2 obergesch...   \n",
       "1  objekt mehrfamilienhaus befindet in seitenstra...   \n",
       "2  absolut stadtnah umgeb fusslauf erreichbar idy...   \n",
       "3  schon apartment befindet im 1995 neu erbaut vo...   \n",
       "4  absolut stadtnah umgeb fusslauf erreichbar idy...   \n",
       "\n",
       "   construction_yearfinished_plz  zip_area_km2    zip_lat    zip_lng  \\\n",
       "0                    1993.316667      6.853574  51.060257  13.717804   \n",
       "1                    1993.316667      6.853574  51.060257  13.717804   \n",
       "2                    1993.316667      6.853574  51.060257  13.717804   \n",
       "3                    1993.316667      6.853574  51.060257  13.717804   \n",
       "4                    1993.316667      6.853574  51.060257  13.717804   \n",
       "\n",
       "   zip_population  zip_population_density   city_lng  city_lat  \\\n",
       "0         11957.0             1744.637097  13.766437  51.04909   \n",
       "1         11957.0             1744.637097  13.766437  51.04909   \n",
       "2         11957.0             1744.637097  13.766437  51.04909   \n",
       "3         11957.0             1744.637097  13.766437  51.04909   \n",
       "4         11957.0             1744.637097  13.766437  51.04909   \n",
       "\n",
       "   zip_market_size  city_distance  \n",
       "0              132       0.049898  \n",
       "1              132       0.049898  \n",
       "2              132       0.047165  \n",
       "3              132       0.052700  \n",
       "4              132       0.047165  "
      ]
     },
     "execution_count": 84,
     "metadata": {},
     "output_type": "execute_result"
    }
   ],
   "source": [
    "all_cities_buy_pop.head()"
   ]
  },
  {
   "cell_type": "code",
   "execution_count": null,
   "metadata": {},
   "outputs": [],
   "source": [
    "all_cities_buy_pop = all_cities_buy_pop[all_cities_buy_pop.zip_population > 0]"
   ]
  },
  {
   "cell_type": "code",
   "execution_count": 74,
   "metadata": {},
   "outputs": [],
   "source": [
    "#all_cities_buy_pop.to_pickle(\"data_final/all_cities_buy_geo.pkl\")"
   ]
  },
  {
   "cell_type": "markdown",
   "metadata": {},
   "source": [
    "# Remove Repeated Listings"
   ]
  },
  {
   "cell_type": "code",
   "execution_count": 119,
   "metadata": {},
   "outputs": [],
   "source": [
    "def select_records(data):\n",
    "    data = data.reset_index(drop=True)\n",
    "    result = data.iloc[0].copy()\n",
    "    result[\"repeated\"] = data.shape[0]\n",
    "    return(result)\n",
    " "
   ]
  },
  {
   "cell_type": "code",
   "execution_count": 120,
   "metadata": {},
   "outputs": [
    {
     "data": {
      "application/vnd.jupyter.widget-view+json": {
       "model_id": "4485e9c3e72c44e7b6e0382600cd0883",
       "version_major": 2,
       "version_minor": 0
      },
      "text/plain": [
       "HBox(children=(IntProgress(value=0, max=842059), HTML(value='')))"
      ]
     },
     "metadata": {},
     "output_type": "display_data"
    },
    {
     "name": "stdout",
     "output_type": "stream",
     "text": [
      "\n"
     ]
    }
   ],
   "source": [
    "from tqdm.auto import tqdm\n",
    "tqdm.pandas()\n",
    "all_cities_buy_clean = all_cities_buy_pop.groupby([\"obj_unique_id_clus\"]).progress_apply(select_records)"
   ]
  },
  {
   "cell_type": "code",
   "execution_count": 127,
   "metadata": {},
   "outputs": [],
   "source": [
    "all_cities_buy_clean[\"status\"] = np.where(all_cities_buy_clean[\"repeated\"] > 1, 0,1)"
   ]
  },
  {
   "cell_type": "code",
   "execution_count": 128,
   "metadata": {},
   "outputs": [],
   "source": [
    "all_cities_buy_clean.weeks_on_market = all_cities_buy_clean.weeks_on_market.astype(int)"
   ]
  },
  {
   "cell_type": "code",
   "execution_count": 129,
   "metadata": {},
   "outputs": [
    {
     "data": {
      "text/plain": [
       "(250846, 1)"
      ]
     },
     "execution_count": 129,
     "metadata": {},
     "output_type": "execute_result"
    },
    {
     "data": {
      "image/png": "[encoded data removed]",
      "text/plain": [
       "<Figure size 432x288 with 1 Axes>"
      ]
     },
     "metadata": {},
     "output_type": "display_data"
    }
   ],
   "source": [
    "all_cities_buy_clean.loc[all_cities_buy_clean.status == 0,[\"weeks_on_market\"]].hist()\n",
    "all_cities_buy_clean.loc[all_cities_buy_clean.status == 0,[\"weeks_on_market\"]].shape"
   ]
  },
  {
   "cell_type": "code",
   "execution_count": 130,
   "metadata": {},
   "outputs": [
    {
     "data": {
      "text/plain": [
       "(591213, 1)"
      ]
     },
     "execution_count": 130,
     "metadata": {},
     "output_type": "execute_result"
    },
    {
     "data": {
      "image/png": "[encoded data removed]",
      "text/plain": [
       "<Figure size 432x288 with 1 Axes>"
      ]
     },
     "metadata": {},
     "output_type": "display_data"
    }
   ],
   "source": [
    "all_cities_buy_clean.loc[all_cities_buy_clean.status == 1,[\"weeks_on_market\"]].hist()\n",
    "all_cities_buy_clean.loc[all_cities_buy_clean.status == 1,[\"weeks_on_market\"]].shape"
   ]
  },
  {
   "cell_type": "code",
   "execution_count": 132,
   "metadata": {},
   "outputs": [],
   "source": [
    "all_cities_buy_clean = all_cities_buy_clean.reset_index(drop=True)"
   ]
  },
  {
   "cell_type": "code",
   "execution_count": 134,
   "metadata": {},
   "outputs": [],
   "source": [
    "all_cities_buy_clean.address_geocoded_postalcode = all_cities_buy_clean.address_geocoded_postalcode.astype(str)"
   ]
  },
  {
   "cell_type": "code",
   "execution_count": 135,
   "metadata": {},
   "outputs": [],
   "source": [
    "cond = all_cities_buy_clean.address_geocoded_postalcode.str.len() == 4\n",
    "all_cities_buy_clean.loc[cond,\"address_geocoded_postalcode\" ] = \"0\" + all_cities_buy_clean.loc[cond,\"address_geocoded_postalcode\" ]"
   ]
  },
  {
   "cell_type": "code",
   "execution_count": 136,
   "metadata": {},
   "outputs": [],
   "source": [
    "all_cities_buy_clean[\"time_online\"]=(all_cities_buy_clean[\"online_corrected\"].dt.normalize().astype(int)/1e+11)"
   ]
  },
  {
   "cell_type": "code",
   "execution_count": 9,
   "metadata": {},
   "outputs": [
    {
     "data": {
      "text/html": [
       "<div>\n",
       "<style scoped>\n",
       "    .dataframe tbody tr th:only-of-type {\n",
       "        vertical-align: middle;\n",
       "    }\n",
       "\n",
       "    .dataframe tbody tr th {\n",
       "        vertical-align: top;\n",
       "    }\n",
       "\n",
       "    .dataframe thead th {\n",
       "        text-align: right;\n",
       "    }\n",
       "</style>\n",
       "<table border=\"1\" class=\"dataframe\">\n",
       "  <thead>\n",
       "    <tr style=\"text-align: right;\">\n",
       "      <th></th>\n",
       "      <th>source_record_id</th>\n",
       "      <th>obj_unique_id_clus</th>\n",
       "      <th>address_geocoded_city</th>\n",
       "      <th>address_geocoded_postalcode</th>\n",
       "      <th>address_lat</th>\n",
       "      <th>address_lng</th>\n",
       "      <th>balcony_available</th>\n",
       "      <th>construction_yearfinished</th>\n",
       "      <th>investment_rent_active</th>\n",
       "      <th>object_category</th>\n",
       "      <th>parking_available</th>\n",
       "      <th>structure_area_living</th>\n",
       "      <th>structure_rooms_living</th>\n",
       "      <th>expose_price_sqm</th>\n",
       "      <th>offline_corrected</th>\n",
       "      <th>online_corrected</th>\n",
       "      <th>weeks_on_market</th>\n",
       "      <th>expose_content_text_tokens</th>\n",
       "      <th>construction_yearfinished_plz</th>\n",
       "      <th>zip_area_km2</th>\n",
       "      <th>zip_lat</th>\n",
       "      <th>zip_lng</th>\n",
       "      <th>zip_population</th>\n",
       "      <th>zip_population_density</th>\n",
       "      <th>city_lng</th>\n",
       "      <th>city_lat</th>\n",
       "      <th>zip_market_size</th>\n",
       "      <th>city_distance</th>\n",
       "      <th>repeated</th>\n",
       "      <th>status</th>\n",
       "      <th>time_online</th>\n",
       "    </tr>\n",
       "  </thead>\n",
       "  <tbody>\n",
       "    <tr>\n",
       "      <th>0</th>\n",
       "      <td>+++eomt1qbpF2qKAQUspyzfrCrI=</td>\n",
       "      <td>+++eomt1qbpF2qKAQUspyzfrCrI=</td>\n",
       "      <td>Tamm</td>\n",
       "      <td>71732</td>\n",
       "      <td>48.924760</td>\n",
       "      <td>9.118310</td>\n",
       "      <td>True</td>\n",
       "      <td>1974.000000</td>\n",
       "      <td>False</td>\n",
       "      <td>APARTMENT</td>\n",
       "      <td>True</td>\n",
       "      <td>85.97</td>\n",
       "      <td>3.0</td>\n",
       "      <td>3012.678841</td>\n",
       "      <td>2018-05-14</td>\n",
       "      <td>2018-04-09</td>\n",
       "      <td>6</td>\n",
       "      <td>objekt objekt ist 1974 gebaut bezog in gut lau...</td>\n",
       "      <td>2000.790191</td>\n",
       "      <td>8.512862</td>\n",
       "      <td>48.924123</td>\n",
       "      <td>9.124472</td>\n",
       "      <td>12037.0</td>\n",
       "      <td>1413.978047</td>\n",
       "      <td>9.124472</td>\n",
       "      <td>48.924123</td>\n",
       "      <td>368</td>\n",
       "      <td>0.006195</td>\n",
       "      <td>1</td>\n",
       "      <td>1</td>\n",
       "      <td>15232320.0</td>\n",
       "    </tr>\n",
       "    <tr>\n",
       "      <th>1</th>\n",
       "      <td>++/V2h+LLOegxbGDhdr/ltDNYgU=</td>\n",
       "      <td>++/V2h+LLOegxbGDhdr/ltDNYgU=</td>\n",
       "      <td>Köditz</td>\n",
       "      <td>95189</td>\n",
       "      <td>50.346824</td>\n",
       "      <td>11.834231</td>\n",
       "      <td>True</td>\n",
       "      <td>1995.000000</td>\n",
       "      <td>False</td>\n",
       "      <td>APARTMENT</td>\n",
       "      <td>True</td>\n",
       "      <td>65.00</td>\n",
       "      <td>2.0</td>\n",
       "      <td>1069.230769</td>\n",
       "      <td>2018-07-30</td>\n",
       "      <td>2018-04-30</td>\n",
       "      <td>14</td>\n",
       "      <td>objekt exklusiv angebot wohnung handelt ca 65 ...</td>\n",
       "      <td>1960.500000</td>\n",
       "      <td>31.424002</td>\n",
       "      <td>50.346779</td>\n",
       "      <td>11.834030</td>\n",
       "      <td>2571.0</td>\n",
       "      <td>81.816442</td>\n",
       "      <td>11.834030</td>\n",
       "      <td>50.346779</td>\n",
       "      <td>38</td>\n",
       "      <td>0.000206</td>\n",
       "      <td>1</td>\n",
       "      <td>1</td>\n",
       "      <td>15250464.0</td>\n",
       "    </tr>\n",
       "    <tr>\n",
       "      <th>2</th>\n",
       "      <td>++0sIeDr/I+q8NqpVXA8msKQJvo=</td>\n",
       "      <td>++0sIeDr/I+q8NqpVXA8msKQJvo=</td>\n",
       "      <td>Stuttgart</td>\n",
       "      <td>70180</td>\n",
       "      <td>48.764730</td>\n",
       "      <td>9.171050</td>\n",
       "      <td>False</td>\n",
       "      <td>1898.000000</td>\n",
       "      <td>False</td>\n",
       "      <td>APARTMENT</td>\n",
       "      <td>False</td>\n",
       "      <td>108.62</td>\n",
       "      <td>3.5</td>\n",
       "      <td>6398.453324</td>\n",
       "      <td>2018-05-14</td>\n",
       "      <td>2018-04-09</td>\n",
       "      <td>6</td>\n",
       "      <td>objektbeschreib wohnung befindet in zentral la...</td>\n",
       "      <td>1946.539906</td>\n",
       "      <td>1.348814</td>\n",
       "      <td>48.762775</td>\n",
       "      <td>9.175018</td>\n",
       "      <td>15149.0</td>\n",
       "      <td>11231.351389</td>\n",
       "      <td>9.176605</td>\n",
       "      <td>48.777428</td>\n",
       "      <td>227</td>\n",
       "      <td>0.013860</td>\n",
       "      <td>1</td>\n",
       "      <td>1</td>\n",
       "      <td>15232320.0</td>\n",
       "    </tr>\n",
       "    <tr>\n",
       "      <th>3</th>\n",
       "      <td>++5ib/BSsUvCTGEECLEoCGjD114=</td>\n",
       "      <td>++5ib/BSsUvCTGEECLEoCGjD114=</td>\n",
       "      <td>Dresden</td>\n",
       "      <td>01328</td>\n",
       "      <td>51.056054</td>\n",
       "      <td>13.885785</td>\n",
       "      <td>False</td>\n",
       "      <td>2000.000000</td>\n",
       "      <td>False</td>\n",
       "      <td>HOUSE</td>\n",
       "      <td>True</td>\n",
       "      <td>184.35</td>\n",
       "      <td>5.0</td>\n",
       "      <td>1621.914836</td>\n",
       "      <td>2018-05-14</td>\n",
       "      <td>2018-03-26</td>\n",
       "      <td>8</td>\n",
       "      <td>objektbeschreib bieterverfahr angegeb kaufprei...</td>\n",
       "      <td>1999.626692</td>\n",
       "      <td>41.149005</td>\n",
       "      <td>51.042173</td>\n",
       "      <td>13.907670</td>\n",
       "      <td>12342.0</td>\n",
       "      <td>299.934350</td>\n",
       "      <td>13.766437</td>\n",
       "      <td>51.049090</td>\n",
       "      <td>544</td>\n",
       "      <td>0.119551</td>\n",
       "      <td>1</td>\n",
       "      <td>1</td>\n",
       "      <td>15220224.0</td>\n",
       "    </tr>\n",
       "    <tr>\n",
       "      <th>4</th>\n",
       "      <td>++6AlhTk/dX3l6MZIHOu/d7ZqnI=</td>\n",
       "      <td>++6AlhTk/dX3l6MZIHOu/d7ZqnI=</td>\n",
       "      <td>Limburgerhof</td>\n",
       "      <td>67117</td>\n",
       "      <td>49.415265</td>\n",
       "      <td>8.393108</td>\n",
       "      <td>False</td>\n",
       "      <td>1982.545455</td>\n",
       "      <td>False</td>\n",
       "      <td>APARTMENT</td>\n",
       "      <td>True</td>\n",
       "      <td>68.00</td>\n",
       "      <td>2.0</td>\n",
       "      <td>2250.000000</td>\n",
       "      <td>2018-03-12</td>\n",
       "      <td>2018-03-05</td>\n",
       "      <td>2</td>\n",
       "      <td>objektbeschreib wohnung befindet in gepflegt m...</td>\n",
       "      <td>1982.545455</td>\n",
       "      <td>8.905767</td>\n",
       "      <td>49.415205</td>\n",
       "      <td>8.393127</td>\n",
       "      <td>10779.0</td>\n",
       "      <td>1210.339267</td>\n",
       "      <td>8.393127</td>\n",
       "      <td>49.415205</td>\n",
       "      <td>240</td>\n",
       "      <td>0.000063</td>\n",
       "      <td>1</td>\n",
       "      <td>1</td>\n",
       "      <td>15202080.0</td>\n",
       "    </tr>\n",
       "  </tbody>\n",
       "</table>\n",
       "</div>"
      ],
      "text/plain": [
       "0              source_record_id            obj_unique_id_clus  \\\n",
       "0  +++eomt1qbpF2qKAQUspyzfrCrI=  +++eomt1qbpF2qKAQUspyzfrCrI=   \n",
       "1  ++/V2h+LLOegxbGDhdr/ltDNYgU=  ++/V2h+LLOegxbGDhdr/ltDNYgU=   \n",
       "2  ++0sIeDr/I+q8NqpVXA8msKQJvo=  ++0sIeDr/I+q8NqpVXA8msKQJvo=   \n",
       "3  ++5ib/BSsUvCTGEECLEoCGjD114=  ++5ib/BSsUvCTGEECLEoCGjD114=   \n",
       "4  ++6AlhTk/dX3l6MZIHOu/d7ZqnI=  ++6AlhTk/dX3l6MZIHOu/d7ZqnI=   \n",
       "\n",
       "0 address_geocoded_city address_geocoded_postalcode  address_lat  address_lng  \\\n",
       "0                  Tamm                       71732    48.924760     9.118310   \n",
       "1                Köditz                       95189    50.346824    11.834231   \n",
       "2             Stuttgart                       70180    48.764730     9.171050   \n",
       "3               Dresden                       01328    51.056054    13.885785   \n",
       "4          Limburgerhof                       67117    49.415265     8.393108   \n",
       "\n",
       "0  balcony_available  construction_yearfinished  investment_rent_active  \\\n",
       "0               True                1974.000000                   False   \n",
       "1               True                1995.000000                   False   \n",
       "2              False                1898.000000                   False   \n",
       "3              False                2000.000000                   False   \n",
       "4              False                1982.545455                   False   \n",
       "\n",
       "0 object_category  parking_available  structure_area_living  \\\n",
       "0       APARTMENT               True                  85.97   \n",
       "1       APARTMENT               True                  65.00   \n",
       "2       APARTMENT              False                 108.62   \n",
       "3           HOUSE               True                 184.35   \n",
       "4       APARTMENT               True                  68.00   \n",
       "\n",
       "0  structure_rooms_living  expose_price_sqm offline_corrected  \\\n",
       "0                     3.0       3012.678841        2018-05-14   \n",
       "1                     2.0       1069.230769        2018-07-30   \n",
       "2                     3.5       6398.453324        2018-05-14   \n",
       "3                     5.0       1621.914836        2018-05-14   \n",
       "4                     2.0       2250.000000        2018-03-12   \n",
       "\n",
       "0 online_corrected  weeks_on_market  \\\n",
       "0       2018-04-09                6   \n",
       "1       2018-04-30               14   \n",
       "2       2018-04-09                6   \n",
       "3       2018-03-26                8   \n",
       "4       2018-03-05                2   \n",
       "\n",
       "0                         expose_content_text_tokens  \\\n",
       "0  objekt objekt ist 1974 gebaut bezog in gut lau...   \n",
       "1  objekt exklusiv angebot wohnung handelt ca 65 ...   \n",
       "2  objektbeschreib wohnung befindet in zentral la...   \n",
       "3  objektbeschreib bieterverfahr angegeb kaufprei...   \n",
       "4  objektbeschreib wohnung befindet in gepflegt m...   \n",
       "\n",
       "0  construction_yearfinished_plz  zip_area_km2    zip_lat    zip_lng  \\\n",
       "0                    2000.790191      8.512862  48.924123   9.124472   \n",
       "1                    1960.500000     31.424002  50.346779  11.834030   \n",
       "2                    1946.539906      1.348814  48.762775   9.175018   \n",
       "3                    1999.626692     41.149005  51.042173  13.907670   \n",
       "4                    1982.545455      8.905767  49.415205   8.393127   \n",
       "\n",
       "0  zip_population  zip_population_density   city_lng   city_lat  \\\n",
       "0         12037.0             1413.978047   9.124472  48.924123   \n",
       "1          2571.0               81.816442  11.834030  50.346779   \n",
       "2         15149.0            11231.351389   9.176605  48.777428   \n",
       "3         12342.0              299.934350  13.766437  51.049090   \n",
       "4         10779.0             1210.339267   8.393127  49.415205   \n",
       "\n",
       "0  zip_market_size  city_distance  repeated  status  time_online  \n",
       "0              368       0.006195         1       1   15232320.0  \n",
       "1               38       0.000206         1       1   15250464.0  \n",
       "2              227       0.013860         1       1   15232320.0  \n",
       "3              544       0.119551         1       1   15220224.0  \n",
       "4              240       0.000063         1       1   15202080.0  "
      ]
     },
     "execution_count": 9,
     "metadata": {},
     "output_type": "execute_result"
    }
   ],
   "source": [
    "all_cities_buy_clean.head()"
   ]
  },
  {
   "cell_type": "code",
   "execution_count": 10,
   "metadata": {},
   "outputs": [
    {
     "data": {
      "text/plain": [
       "(841916, 31)"
      ]
     },
     "execution_count": 10,
     "metadata": {},
     "output_type": "execute_result"
    }
   ],
   "source": [
    "all_cities_buy_clean.shape"
   ]
  },
  {
   "cell_type": "code",
   "execution_count": 32,
   "metadata": {},
   "outputs": [],
   "source": [
    "#all_cities_buy_clean.to_pickle(\"data_final/all_cities_buy_clean.pkl\")"
   ]
  },
  {
   "cell_type": "markdown",
   "metadata": {},
   "source": [
    "# Data Selection"
   ]
  },
  {
   "cell_type": "code",
   "execution_count": 2,
   "metadata": {},
   "outputs": [],
   "source": [
    "all_cities_buy = pd.read_pickle(\"all_cities_buy_clean.pkl\")"
   ]
  },
  {
   "cell_type": "code",
   "execution_count": 3,
   "metadata": {
    "scrolled": false
   },
   "outputs": [
    {
     "data": {
      "text/plain": [
       "(949818, 45)"
      ]
     },
     "execution_count": 3,
     "metadata": {},
     "output_type": "execute_result"
    }
   ],
   "source": [
    "all_cities_buy.shape"
   ]
  },
  {
   "cell_type": "code",
   "execution_count": 4,
   "metadata": {},
   "outputs": [
    {
     "data": {
      "text/plain": [
       "Timestamp('2019-09-16 00:00:00')"
      ]
     },
     "execution_count": 4,
     "metadata": {},
     "output_type": "execute_result"
    }
   ],
   "source": [
    "all_cities_buy.online_corrected.max()"
   ]
  },
  {
   "cell_type": "code",
   "execution_count": 5,
   "metadata": {},
   "outputs": [],
   "source": [
    "tmp =tmp[tmp.index < \"2019-08-01\"]\n",
    "\n",
    "all_cities_buy = all_cities_buy[all_cities_buy.online_corrected.isin(tmp.index)]\n",
    "\n",
    "all_cities_buy.shape\n",
    "\n",
    "all_cities_buy.online_corrected.min()\n",
    "\n",
    "all_cities_buy.online_corrected.max()\n",
    "\n",
    "all_cities_buy.columns\n",
    "\n",
    "all_cities_buy.address_geocoded_city = all_cities_buy.address_geocoded_city.str.strip()\n",
    "\n",
    "city_counts = all_cities_buy[[\"address_geocoded_city\",\"unique_obj_id_clus\"]].groupby(\"address_geocoded_city\").count()\n",
    "\n",
    "city_counts.columns = [\"counts\"]\n",
    "\n",
    "city_counts.sort_values(\"counts\",ascending = False).head(100)\n",
    "\n",
    "all_cities_buy = pd.merge(all_cities_buy, city_counts,how=\"left\", on= \"address_geocoded_city\")\n",
    "\n",
    "all_cities_buy[all_cities_buy.expose_offline_since.isna()][\"status\"]\n",
    "\n",
    "all_cities_buy.loc[all_cities_buy.expose_offline_since.isna(),\"status\"] = 0\n",
    "\n",
    "# Remove cities with less than 100 records\n",
    "\n",
    "all_cities_buy = all_cities_buy[all_cities_buy.counts > 100]\n",
    "\n",
    "all_cities_buy= all_cities_buy[all_cities_buy.construction_yearfinished >= 1850]\n",
    "all_cities_buy= all_cities_buy[all_cities_buy.construction_yearfinished <= 2030]\n",
    "\n",
    "\n",
    "all_cities_buy.shapetmp = all_cities_buy.set_index('online_corrected')"
   ]
  },
  {
   "cell_type": "code",
   "execution_count": 6,
   "metadata": {
    "scrolled": false
   },
   "outputs": [],
   "source": [
    "tmp =tmp[tmp.index < \"2019-08-01\"]"
   ]
  },
  {
   "cell_type": "code",
   "execution_count": 7,
   "metadata": {},
   "outputs": [],
   "source": [
    "all_cities_buy = all_cities_buy[all_cities_buy.online_corrected.isin(tmp.index)]"
   ]
  },
  {
   "cell_type": "code",
   "execution_count": 8,
   "metadata": {},
   "outputs": [
    {
     "data": {
      "text/plain": [
       "(915347, 45)"
      ]
     },
     "execution_count": 8,
     "metadata": {},
     "output_type": "execute_result"
    }
   ],
   "source": [
    "all_cities_buy.shape"
   ]
  },
  {
   "cell_type": "code",
   "execution_count": 9,
   "metadata": {},
   "outputs": [
    {
     "data": {
      "text/plain": [
       "Timestamp('2018-01-01 00:00:00')"
      ]
     },
     "execution_count": 9,
     "metadata": {},
     "output_type": "execute_result"
    }
   ],
   "source": [
    "all_cities_buy.online_corrected.min()"
   ]
  },
  {
   "cell_type": "code",
   "execution_count": 10,
   "metadata": {},
   "outputs": [
    {
     "data": {
      "text/plain": [
       "Timestamp('2019-07-29 00:00:00')"
      ]
     },
     "execution_count": 10,
     "metadata": {},
     "output_type": "execute_result"
    }
   ],
   "source": [
    "all_cities_buy.online_corrected.max()"
   ]
  },
  {
   "cell_type": "code",
   "execution_count": 11,
   "metadata": {
    "scrolled": true
   },
   "outputs": [
    {
     "data": {
      "text/plain": [
       "Index(['dw_created_at', 'dw_modified_at', 'dw_is_active', 'source_record_id', 'source_type', 'address_geocoded_city', 'address_geocoded_postalcode', 'address_lat', 'address_lng', 'balcony_available', 'construction_yearfinished', 'investment_rent_active', 'object_category', 'object_type', 'parking_available', 'structure_area_living', 'structure_rooms_living', 'expose_price_sqm', 'expose_price_total', 'expose_offline_since', 'expose_online_since', 'expose_online_until', 'expose_type', 'offline_corrected', 'online_corrected', 'weeks_on_market', 'month_advertised', 'year_advertised', 'expose_content_text_tokens', 'unique_obj_id_clus', 'zip_city', 'zip_code', 'zip_area_km2', 'zip_lat', 'zip_lng', 'zip_population', 'zip_population_density', 'city_lng', 'city_lat', 'zip_market_size', 'city_lat_deviance', 'city_lon_deviance', 'city_distance', 'repeated', 'status'], dtype='object')"
      ]
     },
     "execution_count": 11,
     "metadata": {},
     "output_type": "execute_result"
    }
   ],
   "source": [
    "all_cities_buy.columns"
   ]
  },
  {
   "cell_type": "code",
   "execution_count": 12,
   "metadata": {},
   "outputs": [],
   "source": [
    "all_cities_buy.address_geocoded_city = all_cities_buy.address_geocoded_city.str.strip()"
   ]
  },
  {
   "cell_type": "code",
   "execution_count": 13,
   "metadata": {},
   "outputs": [],
   "source": [
    "city_counts = all_cities_buy[[\"address_geocoded_city\",\"unique_obj_id_clus\"]].groupby(\"address_geocoded_city\").count()"
   ]
  },
  {
   "cell_type": "code",
   "execution_count": 14,
   "metadata": {},
   "outputs": [],
   "source": [
    "city_counts.columns = [\"counts\"]"
   ]
  },
  {
   "cell_type": "code",
   "execution_count": 15,
   "metadata": {
    "scrolled": true
   },
   "outputs": [
    {
     "data": {
      "text/html": [
       "<div>\n",
       "<style scoped>\n",
       "    .dataframe tbody tr th:only-of-type {\n",
       "        vertical-align: middle;\n",
       "    }\n",
       "\n",
       "    .dataframe tbody tr th {\n",
       "        vertical-align: top;\n",
       "    }\n",
       "\n",
       "    .dataframe thead th {\n",
       "        text-align: right;\n",
       "    }\n",
       "</style>\n",
       "<table border=\"1\" class=\"dataframe\">\n",
       "  <thead>\n",
       "    <tr style=\"text-align: right;\">\n",
       "      <th></th>\n",
       "      <th>counts</th>\n",
       "    </tr>\n",
       "    <tr>\n",
       "      <th>address_geocoded_city</th>\n",
       "      <th></th>\n",
       "    </tr>\n",
       "  </thead>\n",
       "  <tbody>\n",
       "    <tr>\n",
       "      <th>Berlin</th>\n",
       "      <td>37906</td>\n",
       "    </tr>\n",
       "    <tr>\n",
       "      <th>Hamburg</th>\n",
       "      <td>14480</td>\n",
       "    </tr>\n",
       "    <tr>\n",
       "      <th>München</th>\n",
       "      <td>14164</td>\n",
       "    </tr>\n",
       "    <tr>\n",
       "      <th>Köln</th>\n",
       "      <td>8797</td>\n",
       "    </tr>\n",
       "    <tr>\n",
       "      <th>Leipzig</th>\n",
       "      <td>7885</td>\n",
       "    </tr>\n",
       "    <tr>\n",
       "      <th>Frankfurt am Main</th>\n",
       "      <td>6499</td>\n",
       "    </tr>\n",
       "    <tr>\n",
       "      <th>Dresden</th>\n",
       "      <td>6372</td>\n",
       "    </tr>\n",
       "    <tr>\n",
       "      <th>Bremen</th>\n",
       "      <td>6081</td>\n",
       "    </tr>\n",
       "    <tr>\n",
       "      <th>Düsseldorf</th>\n",
       "      <td>5966</td>\n",
       "    </tr>\n",
       "    <tr>\n",
       "      <th>Stuttgart</th>\n",
       "      <td>5845</td>\n",
       "    </tr>\n",
       "    <tr>\n",
       "      <th>Hannover</th>\n",
       "      <td>5381</td>\n",
       "    </tr>\n",
       "    <tr>\n",
       "      <th>Essen</th>\n",
       "      <td>4868</td>\n",
       "    </tr>\n",
       "    <tr>\n",
       "      <th>Nürnberg</th>\n",
       "      <td>4776</td>\n",
       "    </tr>\n",
       "    <tr>\n",
       "      <th>Dortmund</th>\n",
       "      <td>4538</td>\n",
       "    </tr>\n",
       "    <tr>\n",
       "      <th>Wuppertal</th>\n",
       "      <td>4250</td>\n",
       "    </tr>\n",
       "    <tr>\n",
       "      <th>Duisburg</th>\n",
       "      <td>3825</td>\n",
       "    </tr>\n",
       "    <tr>\n",
       "      <th>Wiesbaden</th>\n",
       "      <td>3723</td>\n",
       "    </tr>\n",
       "    <tr>\n",
       "      <th>Augsburg</th>\n",
       "      <td>3613</td>\n",
       "    </tr>\n",
       "    <tr>\n",
       "      <th>Chemnitz</th>\n",
       "      <td>3354</td>\n",
       "    </tr>\n",
       "    <tr>\n",
       "      <th>Bonn</th>\n",
       "      <td>3092</td>\n",
       "    </tr>\n",
       "    <tr>\n",
       "      <th>Mönchengladbach</th>\n",
       "      <td>3068</td>\n",
       "    </tr>\n",
       "    <tr>\n",
       "      <th>Mannheim</th>\n",
       "      <td>3037</td>\n",
       "    </tr>\n",
       "    <tr>\n",
       "      <th>Bielefeld</th>\n",
       "      <td>2849</td>\n",
       "    </tr>\n",
       "    <tr>\n",
       "      <th>Krefeld</th>\n",
       "      <td>2669</td>\n",
       "    </tr>\n",
       "    <tr>\n",
       "      <th>Münster</th>\n",
       "      <td>2419</td>\n",
       "    </tr>\n",
       "    <tr>\n",
       "      <th>Magdeburg</th>\n",
       "      <td>2401</td>\n",
       "    </tr>\n",
       "    <tr>\n",
       "      <th>Mainz</th>\n",
       "      <td>2399</td>\n",
       "    </tr>\n",
       "    <tr>\n",
       "      <th>Bochum</th>\n",
       "      <td>2340</td>\n",
       "    </tr>\n",
       "    <tr>\n",
       "      <th>Braunschweig</th>\n",
       "      <td>2313</td>\n",
       "    </tr>\n",
       "    <tr>\n",
       "      <th>Karlsruhe</th>\n",
       "      <td>2259</td>\n",
       "    </tr>\n",
       "    <tr>\n",
       "      <th>Ingolstadt</th>\n",
       "      <td>2236</td>\n",
       "    </tr>\n",
       "    <tr>\n",
       "      <th>Ludwigshafen am Rhein</th>\n",
       "      <td>2226</td>\n",
       "    </tr>\n",
       "    <tr>\n",
       "      <th>Solingen</th>\n",
       "      <td>2060</td>\n",
       "    </tr>\n",
       "    <tr>\n",
       "      <th>Potsdam</th>\n",
       "      <td>1914</td>\n",
       "    </tr>\n",
       "    <tr>\n",
       "      <th>Aachen</th>\n",
       "      <td>1904</td>\n",
       "    </tr>\n",
       "    <tr>\n",
       "      <th>Gelsenkirchen</th>\n",
       "      <td>1898</td>\n",
       "    </tr>\n",
       "    <tr>\n",
       "      <th>Lübeck</th>\n",
       "      <td>1891</td>\n",
       "    </tr>\n",
       "    <tr>\n",
       "      <th>Kiel</th>\n",
       "      <td>1796</td>\n",
       "    </tr>\n",
       "    <tr>\n",
       "      <th>Saarbrücken</th>\n",
       "      <td>1772</td>\n",
       "    </tr>\n",
       "    <tr>\n",
       "      <th>Mülheim an der Ruhr</th>\n",
       "      <td>1680</td>\n",
       "    </tr>\n",
       "    <tr>\n",
       "      <th>Oldenburg</th>\n",
       "      <td>1674</td>\n",
       "    </tr>\n",
       "    <tr>\n",
       "      <th>Regensburg</th>\n",
       "      <td>1656</td>\n",
       "    </tr>\n",
       "    <tr>\n",
       "      <th>Pforzheim</th>\n",
       "      <td>1653</td>\n",
       "    </tr>\n",
       "    <tr>\n",
       "      <th>Freiburg im Breisgau</th>\n",
       "      <td>1651</td>\n",
       "    </tr>\n",
       "    <tr>\n",
       "      <th>Fürth</th>\n",
       "      <td>1640</td>\n",
       "    </tr>\n",
       "    <tr>\n",
       "      <th>Oberhausen</th>\n",
       "      <td>1601</td>\n",
       "    </tr>\n",
       "    <tr>\n",
       "      <th>Heilbronn</th>\n",
       "      <td>1562</td>\n",
       "    </tr>\n",
       "    <tr>\n",
       "      <th>Hagen</th>\n",
       "      <td>1529</td>\n",
       "    </tr>\n",
       "    <tr>\n",
       "      <th>Neuss</th>\n",
       "      <td>1513</td>\n",
       "    </tr>\n",
       "    <tr>\n",
       "      <th>Halle (Saale)</th>\n",
       "      <td>1443</td>\n",
       "    </tr>\n",
       "    <tr>\n",
       "      <th>Offenbach am Main</th>\n",
       "      <td>1433</td>\n",
       "    </tr>\n",
       "    <tr>\n",
       "      <th>Remscheid</th>\n",
       "      <td>1419</td>\n",
       "    </tr>\n",
       "    <tr>\n",
       "      <th>Leverkusen</th>\n",
       "      <td>1393</td>\n",
       "    </tr>\n",
       "    <tr>\n",
       "      <th>Bergisch Gladbach</th>\n",
       "      <td>1369</td>\n",
       "    </tr>\n",
       "    <tr>\n",
       "      <th>Kassel</th>\n",
       "      <td>1348</td>\n",
       "    </tr>\n",
       "    <tr>\n",
       "      <th>Wolfsburg</th>\n",
       "      <td>1329</td>\n",
       "    </tr>\n",
       "    <tr>\n",
       "      <th>Reutlingen</th>\n",
       "      <td>1323</td>\n",
       "    </tr>\n",
       "    <tr>\n",
       "      <th>Hanau</th>\n",
       "      <td>1308</td>\n",
       "    </tr>\n",
       "    <tr>\n",
       "      <th>Baden-Baden</th>\n",
       "      <td>1301</td>\n",
       "    </tr>\n",
       "    <tr>\n",
       "      <th>Bremerhaven</th>\n",
       "      <td>1252</td>\n",
       "    </tr>\n",
       "    <tr>\n",
       "      <th>Paderborn</th>\n",
       "      <td>1231</td>\n",
       "    </tr>\n",
       "    <tr>\n",
       "      <th>Worms</th>\n",
       "      <td>1201</td>\n",
       "    </tr>\n",
       "    <tr>\n",
       "      <th>Kaiserslautern</th>\n",
       "      <td>1194</td>\n",
       "    </tr>\n",
       "    <tr>\n",
       "      <th>Erfurt</th>\n",
       "      <td>1192</td>\n",
       "    </tr>\n",
       "    <tr>\n",
       "      <th>Osnabrück</th>\n",
       "      <td>1180</td>\n",
       "    </tr>\n",
       "    <tr>\n",
       "      <th>Salzgitter</th>\n",
       "      <td>1175</td>\n",
       "    </tr>\n",
       "    <tr>\n",
       "      <th>Ratingen</th>\n",
       "      <td>1169</td>\n",
       "    </tr>\n",
       "    <tr>\n",
       "      <th>Moers</th>\n",
       "      <td>1142</td>\n",
       "    </tr>\n",
       "    <tr>\n",
       "      <th>Herne</th>\n",
       "      <td>1111</td>\n",
       "    </tr>\n",
       "    <tr>\n",
       "      <th>Heidelberg</th>\n",
       "      <td>1096</td>\n",
       "    </tr>\n",
       "    <tr>\n",
       "      <th>Düren</th>\n",
       "      <td>1076</td>\n",
       "    </tr>\n",
       "    <tr>\n",
       "      <th>Ludwigsburg</th>\n",
       "      <td>1048</td>\n",
       "    </tr>\n",
       "    <tr>\n",
       "      <th>Esslingen am Neckar</th>\n",
       "      <td>1046</td>\n",
       "    </tr>\n",
       "    <tr>\n",
       "      <th>Koblenz</th>\n",
       "      <td>1006</td>\n",
       "    </tr>\n",
       "    <tr>\n",
       "      <th>Viersen</th>\n",
       "      <td>1005</td>\n",
       "    </tr>\n",
       "    <tr>\n",
       "      <th>Erlangen</th>\n",
       "      <td>1004</td>\n",
       "    </tr>\n",
       "    <tr>\n",
       "      <th>Norderstedt</th>\n",
       "      <td>1000</td>\n",
       "    </tr>\n",
       "    <tr>\n",
       "      <th>Darmstadt</th>\n",
       "      <td>974</td>\n",
       "    </tr>\n",
       "    <tr>\n",
       "      <th>Meerbusch</th>\n",
       "      <td>973</td>\n",
       "    </tr>\n",
       "    <tr>\n",
       "      <th>Cuxhaven</th>\n",
       "      <td>970</td>\n",
       "    </tr>\n",
       "    <tr>\n",
       "      <th>Rostock</th>\n",
       "      <td>955</td>\n",
       "    </tr>\n",
       "    <tr>\n",
       "      <th>Ulm</th>\n",
       "      <td>954</td>\n",
       "    </tr>\n",
       "    <tr>\n",
       "      <th>Celle</th>\n",
       "      <td>945</td>\n",
       "    </tr>\n",
       "    <tr>\n",
       "      <th>Marl</th>\n",
       "      <td>925</td>\n",
       "    </tr>\n",
       "    <tr>\n",
       "      <th>Recklinghausen</th>\n",
       "      <td>911</td>\n",
       "    </tr>\n",
       "    <tr>\n",
       "      <th>Detmold</th>\n",
       "      <td>903</td>\n",
       "    </tr>\n",
       "    <tr>\n",
       "      <th>Hamm</th>\n",
       "      <td>900</td>\n",
       "    </tr>\n",
       "    <tr>\n",
       "      <th>Falkensee</th>\n",
       "      <td>899</td>\n",
       "    </tr>\n",
       "    <tr>\n",
       "      <th>Trier</th>\n",
       "      <td>888</td>\n",
       "    </tr>\n",
       "    <tr>\n",
       "      <th>Zwickau</th>\n",
       "      <td>878</td>\n",
       "    </tr>\n",
       "    <tr>\n",
       "      <th>Minden</th>\n",
       "      <td>876</td>\n",
       "    </tr>\n",
       "    <tr>\n",
       "      <th>Albstadt</th>\n",
       "      <td>866</td>\n",
       "    </tr>\n",
       "    <tr>\n",
       "      <th>Delmenhorst</th>\n",
       "      <td>862</td>\n",
       "    </tr>\n",
       "    <tr>\n",
       "      <th>Bergheim</th>\n",
       "      <td>850</td>\n",
       "    </tr>\n",
       "    <tr>\n",
       "      <th>Garbsen</th>\n",
       "      <td>844</td>\n",
       "    </tr>\n",
       "    <tr>\n",
       "      <th>Bottrop</th>\n",
       "      <td>843</td>\n",
       "    </tr>\n",
       "    <tr>\n",
       "      <th>Landshut</th>\n",
       "      <td>833</td>\n",
       "    </tr>\n",
       "    <tr>\n",
       "      <th>Bad Kreuznach</th>\n",
       "      <td>823</td>\n",
       "    </tr>\n",
       "    <tr>\n",
       "      <th>Flensburg</th>\n",
       "      <td>821</td>\n",
       "    </tr>\n",
       "    <tr>\n",
       "      <th>Emden</th>\n",
       "      <td>819</td>\n",
       "    </tr>\n",
       "  </tbody>\n",
       "</table>\n",
       "</div>"
      ],
      "text/plain": [
       "                       counts\n",
       "address_geocoded_city        \n",
       "Berlin                  37906\n",
       "Hamburg                 14480\n",
       "München                 14164\n",
       "Köln                     8797\n",
       "Leipzig                  7885\n",
       "Frankfurt am Main        6499\n",
       "Dresden                  6372\n",
       "Bremen                   6081\n",
       "Düsseldorf               5966\n",
       "Stuttgart                5845\n",
       "Hannover                 5381\n",
       "Essen                    4868\n",
       "Nürnberg                 4776\n",
       "Dortmund                 4538\n",
       "Wuppertal                4250\n",
       "Duisburg                 3825\n",
       "Wiesbaden                3723\n",
       "Augsburg                 3613\n",
       "Chemnitz                 3354\n",
       "Bonn                     3092\n",
       "Mönchengladbach          3068\n",
       "Mannheim                 3037\n",
       "Bielefeld                2849\n",
       "Krefeld                  2669\n",
       "Münster                  2419\n",
       "Magdeburg                2401\n",
       "Mainz                    2399\n",
       "Bochum                   2340\n",
       "Braunschweig             2313\n",
       "Karlsruhe                2259\n",
       "Ingolstadt               2236\n",
       "Ludwigshafen am Rhein    2226\n",
       "Solingen                 2060\n",
       "Potsdam                  1914\n",
       "Aachen                   1904\n",
       "Gelsenkirchen            1898\n",
       "Lübeck                   1891\n",
       "Kiel                     1796\n",
       "Saarbrücken              1772\n",
       "Mülheim an der Ruhr      1680\n",
       "Oldenburg                1674\n",
       "Regensburg               1656\n",
       "Pforzheim                1653\n",
       "Freiburg im Breisgau     1651\n",
       "Fürth                    1640\n",
       "Oberhausen               1601\n",
       "Heilbronn                1562\n",
       "Hagen                    1529\n",
       "Neuss                    1513\n",
       "Halle (Saale)            1443\n",
       "Offenbach am Main        1433\n",
       "Remscheid                1419\n",
       "Leverkusen               1393\n",
       "Bergisch Gladbach        1369\n",
       "Kassel                   1348\n",
       "Wolfsburg                1329\n",
       "Reutlingen               1323\n",
       "Hanau                    1308\n",
       "Baden-Baden              1301\n",
       "Bremerhaven              1252\n",
       "Paderborn                1231\n",
       "Worms                    1201\n",
       "Kaiserslautern           1194\n",
       "Erfurt                   1192\n",
       "Osnabrück                1180\n",
       "Salzgitter               1175\n",
       "Ratingen                 1169\n",
       "Moers                    1142\n",
       "Herne                    1111\n",
       "Heidelberg               1096\n",
       "Düren                    1076\n",
       "Ludwigsburg              1048\n",
       "Esslingen am Neckar      1046\n",
       "Koblenz                  1006\n",
       "Viersen                  1005\n",
       "Erlangen                 1004\n",
       "Norderstedt              1000\n",
       "Darmstadt                 974\n",
       "Meerbusch                 973\n",
       "Cuxhaven                  970\n",
       "Rostock                   955\n",
       "Ulm                       954\n",
       "Celle                     945\n",
       "Marl                      925\n",
       "Recklinghausen            911\n",
       "Detmold                   903\n",
       "Hamm                      900\n",
       "Falkensee                 899\n",
       "Trier                     888\n",
       "Zwickau                   878\n",
       "Minden                    876\n",
       "Albstadt                  866\n",
       "Delmenhorst               862\n",
       "Bergheim                  850\n",
       "Garbsen                   844\n",
       "Bottrop                   843\n",
       "Landshut                  833\n",
       "Bad Kreuznach             823\n",
       "Flensburg                 821\n",
       "Emden                     819"
      ]
     },
     "execution_count": 15,
     "metadata": {},
     "output_type": "execute_result"
    }
   ],
   "source": [
    "city_counts.sort_values(\"counts\",ascending = False).head(100)"
   ]
  },
  {
   "cell_type": "code",
   "execution_count": 16,
   "metadata": {},
   "outputs": [],
   "source": [
    "all_cities_buy = pd.merge(all_cities_buy, city_counts,how=\"left\", on= \"address_geocoded_city\")"
   ]
  },
  {
   "cell_type": "code",
   "execution_count": 17,
   "metadata": {
    "scrolled": false
   },
   "outputs": [
    {
     "data": {
      "text/plain": [
       "2         1\n",
       "4         1\n",
       "178       1\n",
       "236       0\n",
       "357       1\n",
       "         ..\n",
       "914468    1\n",
       "914747    0\n",
       "914858    1\n",
       "914859    0\n",
       "915085    1\n",
       "Name: status, Length: 74661, dtype: int64"
      ]
     },
     "execution_count": 17,
     "metadata": {},
     "output_type": "execute_result"
    }
   ],
   "source": [
    "all_cities_buy[all_cities_buy.expose_offline_since.isna()][\"status\"]"
   ]
  },
  {
   "cell_type": "code",
   "execution_count": 18,
   "metadata": {},
   "outputs": [],
   "source": [
    "all_cities_buy.loc[all_cities_buy.expose_offline_since.isna(),\"status\"] = 0"
   ]
  },
  {
   "cell_type": "markdown",
   "metadata": {},
   "source": [
    "# Remove cities with less than 100 records"
   ]
  },
  {
   "cell_type": "code",
   "execution_count": 19,
   "metadata": {},
   "outputs": [],
   "source": [
    "all_cities_buy = all_cities_buy[all_cities_buy.counts > 100]"
   ]
  },
  {
   "cell_type": "code",
   "execution_count": 20,
   "metadata": {},
   "outputs": [],
   "source": [
    "all_cities_buy= all_cities_buy[all_cities_buy.construction_yearfinished >= 1850]\n",
    "all_cities_buy= all_cities_buy[all_cities_buy.construction_yearfinished <= 2030]\n"
   ]
  },
  {
   "cell_type": "code",
   "execution_count": 20,
   "metadata": {
    "scrolled": true
   },
   "outputs": [
    {
     "data": {
      "text/plain": [
       "(915342, 46)"
      ]
     },
     "execution_count": 20,
     "metadata": {},
     "output_type": "execute_result"
    }
   ],
   "source": [
    "all_cities_buy.shape"
   ]
  },
  {
   "cell_type": "markdown",
   "metadata": {},
   "source": [
    "# Date of First Advertisement"
   ]
  },
  {
   "cell_type": "code",
   "execution_count": 21,
   "metadata": {},
   "outputs": [],
   "source": [
    "all_cities_buy[\"time_online\"] = all_cities_buy.online_corrected.apply(lambda x: pd.to_datetime(x).value)"
   ]
  },
  {
   "cell_type": "code",
   "execution_count": 22,
   "metadata": {},
   "outputs": [],
   "source": [
    "from sklearn.preprocessing import MinMaxScaler\n",
    "\n",
    "time_scaler = MinMaxScaler()\n",
    "all_cities_buy[\"time_online\"]=time_scaler.fit_transform(all_cities_buy[\"time_online\"].values.reshape(-1,1))"
   ]
  },
  {
   "cell_type": "code",
   "execution_count": 25,
   "metadata": {},
   "outputs": [],
   "source": [
    "import pickle\n",
    "\n",
    "with open(\"ultimate_data/time_scaler.pkl\",\"wb\") as handle:\n",
    "    pickle.dump(time_scaler, handle)"
   ]
  },
  {
   "cell_type": "markdown",
   "metadata": {},
   "source": [
    "# Object Type"
   ]
  },
  {
   "cell_type": "code",
   "execution_count": 26,
   "metadata": {
    "scrolled": false
   },
   "outputs": [
    {
     "data": {
      "text/plain": [
       "ONE_TWO_FAMILY_HOUSE    284833\n",
       "REGULAR_APARTMENT       222939\n",
       "HOUSE_UNKNOWN            94709\n",
       "APARTMENT_UNKNOWN        85127\n",
       "MULTI_FAMILY_HOUSE       55208\n",
       "SEMI_DETACHED_HOUSE      46193\n",
       "TERRACED_HOUSE           33639\n",
       "SPECIAL_BUILDING         31756\n",
       "BUNGALOW                 20484\n",
       "MAISONETTE               16722\n",
       "MANSION                   9523\n",
       "PENTHOUSE                 7582\n",
       "FARMHOUSE                 5652\n",
       "LOFT                       975\n",
       "Name: object_type, dtype: int64"
      ]
     },
     "execution_count": 26,
     "metadata": {},
     "output_type": "execute_result"
    }
   ],
   "source": [
    "all_cities_buy.object_type.value_counts()"
   ]
  },
  {
   "cell_type": "code",
   "execution_count": 27,
   "metadata": {},
   "outputs": [],
   "source": [
    "all_cities_buy.object_type=all_cities_buy.object_type.replace(\"APARTMENT_UNKNOWN\",\"REGULAR_APARTMENT\")"
   ]
  },
  {
   "cell_type": "code",
   "execution_count": 28,
   "metadata": {
    "scrolled": false
   },
   "outputs": [
    {
     "data": {
      "text/plain": [
       "OrdinalEncoder(categories=[['REGULAR_APARTMENT', 'ONE_TWO_FAMILY_HOUSE',\n",
       "                            'SEMI_DETACHED_HOUSE', 'HOUSE_UNKNOWN',\n",
       "                            'MULTI_FAMILY_HOUSE', 'TERRACED_HOUSE',\n",
       "                            'SPECIAL_BUILDING', 'MAISONETTE', 'BUNGALOW',\n",
       "                            'PENTHOUSE', 'MANSION', 'FARMHOUSE', 'LOFT']],\n",
       "               dtype=<class 'numpy.float64'>)"
      ]
     },
     "execution_count": 28,
     "metadata": {},
     "output_type": "execute_result"
    }
   ],
   "source": [
    "from sklearn.preprocessing import OrdinalEncoder\n",
    "enc_ot = OrdinalEncoder(categories=[[\"REGULAR_APARTMENT\", \"ONE_TWO_FAMILY_HOUSE\",\n",
    "                                    \"SEMI_DETACHED_HOUSE\",\"HOUSE_UNKNOWN\",\"MULTI_FAMILY_HOUSE\",\n",
    "                                     \"TERRACED_HOUSE\",\"SPECIAL_BUILDING\",\"MAISONETTE\",\n",
    "                                    \"BUNGALOW\",\"PENTHOUSE\",\"MANSION\",\"FARMHOUSE\",\"LOFT\"]])\n",
    "\n",
    "enc_ot.fit(all_cities_buy.object_type.values.reshape(-1,1))"
   ]
  },
  {
   "cell_type": "code",
   "execution_count": 29,
   "metadata": {},
   "outputs": [],
   "source": [
    "all_cities_buy[\"object_type_ordinal\"]=enc_ot.transform(all_cities_buy.object_type.values.reshape(-1,1))"
   ]
  },
  {
   "cell_type": "markdown",
   "metadata": {},
   "source": [
    "# Seasons"
   ]
  },
  {
   "cell_type": "code",
   "execution_count": 30,
   "metadata": {},
   "outputs": [],
   "source": [
    "seasons = all_cities_buy.online_corrected.dt.month.astype(str)"
   ]
  },
  {
   "cell_type": "code",
   "execution_count": 31,
   "metadata": {},
   "outputs": [],
   "source": [
    "seasons=seasons.replace([\"12\",\"1\",\"2\"],\"Winter\")\n",
    "seasons=seasons.replace([\"3\",\"4\",\"5\"],\"Spring\")\n",
    "seasons=seasons.replace([\"6\",\"7\",\"8\"], \"Summer\")\n",
    "seasons=seasons.replace([\"9\",\"10\",\"11\"],\"Fall\")"
   ]
  },
  {
   "cell_type": "code",
   "execution_count": 32,
   "metadata": {},
   "outputs": [],
   "source": [
    "all_cities_buy[\"season\"] = seasons"
   ]
  },
  {
   "cell_type": "markdown",
   "metadata": {},
   "source": [
    "# Select Columns"
   ]
  },
  {
   "cell_type": "code",
   "execution_count": 45,
   "metadata": {
    "scrolled": true
   },
   "outputs": [
    {
     "data": {
      "text/plain": [
       "Index(['dw_created_at', 'dw_modified_at', 'dw_is_active', 'source_record_id', 'source_type', 'address_geocoded_city', 'address_geocoded_postalcode', 'address_lat', 'address_lng', 'balcony_available', 'construction_yearfinished', 'investment_rent_active', 'object_category', 'object_type', 'parking_available', 'structure_area_living', 'structure_rooms_living', 'expose_price_sqm', 'expose_price_total', 'expose_offline_since', 'expose_online_since', 'expose_online_until', 'expose_type', 'offline_corrected', 'online_corrected', 'weeks_on_market', 'month_advertised', 'year_advertised', 'expose_content_text_tokens', 'unique_obj_id_clus', 'zip_city', 'zip_code', 'zip_area_km2', 'zip_lat', 'zip_lng', 'zip_population', 'zip_population_density', 'city_lng', 'city_lat', 'zip_market_size', 'city_lat_deviance', 'city_lon_deviance', 'city_distance', 'repeated', 'status', 'counts', 'time_online', 'object_type_ordinal', 'season', 'month_year'], dtype='object')"
      ]
     },
     "execution_count": 45,
     "metadata": {},
     "output_type": "execute_result"
    }
   ],
   "source": [
    "all_cities_buy.columns"
   ]
  },
  {
   "cell_type": "code",
   "execution_count": 46,
   "metadata": {},
   "outputs": [],
   "source": [
    "numeric_columns = ['address_lat','address_lng',\n",
    "                  'construction_yearfinished','structure_area_living',\n",
    "                  'structure_rooms_living',\n",
    "                  'zip_population_density',\"object_type_ordinal\",\n",
    "                  'zip_market_size','city_distance','time_online',\n",
    "                   'expose_price_sqm',\n",
    "                   'weeks_on_market','status']\n",
    "\n",
    "string_columns = ['balcony_available','investment_rent_active',\n",
    "                 'parking_available',\"object_type\",\"season\"]\n",
    "\n",
    "\n"
   ]
  },
  {
   "cell_type": "code",
   "execution_count": 47,
   "metadata": {},
   "outputs": [],
   "source": [
    "for col in all_cities_buy[string_columns]:\n",
    "    all_cities_buy[col] = all_cities_buy[col].astype(str) \n",
    "    \n",
    "for col in all_cities_buy[numeric_columns]:\n",
    "    all_cities_buy[col] = all_cities_buy[col].astype('float32') \n",
    "    \n",
    "    \n",
    "    \n",
    "    \n",
    "    \n",
    "    "
   ]
  },
  {
   "cell_type": "code",
   "execution_count": 48,
   "metadata": {},
   "outputs": [],
   "source": [
    "dummy_vars = pd.get_dummies(all_cities_buy[string_columns],\n",
    "                            drop_first =True)"
   ]
  },
  {
   "cell_type": "code",
   "execution_count": 49,
   "metadata": {},
   "outputs": [],
   "source": [
    "df = pd.concat([dummy_vars,all_cities_buy[numeric_columns]],axis=1)"
   ]
  },
  {
   "cell_type": "code",
   "execution_count": 50,
   "metadata": {},
   "outputs": [],
   "source": [
    "df_info = all_cities_buy[[\"unique_obj_id_clus\",\"address_geocoded_city\",\"address_geocoded_postalcode\",\n",
    "                         \"offline_corrected\", \"online_corrected\",\"season\",\"object_type\"]]"
   ]
  },
  {
   "cell_type": "code",
   "execution_count": 51,
   "metadata": {
    "scrolled": true
   },
   "outputs": [
    {
     "data": {
      "text/html": [
       "<div>\n",
       "<style scoped>\n",
       "    .dataframe tbody tr th:only-of-type {\n",
       "        vertical-align: middle;\n",
       "    }\n",
       "\n",
       "    .dataframe tbody tr th {\n",
       "        vertical-align: top;\n",
       "    }\n",
       "\n",
       "    .dataframe thead th {\n",
       "        text-align: right;\n",
       "    }\n",
       "</style>\n",
       "<table border=\"1\" class=\"dataframe\">\n",
       "  <thead>\n",
       "    <tr style=\"text-align: right;\">\n",
       "      <th></th>\n",
       "      <th>unique_obj_id_clus</th>\n",
       "      <th>address_geocoded_city</th>\n",
       "      <th>address_geocoded_postalcode</th>\n",
       "      <th>offline_corrected</th>\n",
       "      <th>online_corrected</th>\n",
       "      <th>season</th>\n",
       "      <th>object_type</th>\n",
       "    </tr>\n",
       "  </thead>\n",
       "  <tbody>\n",
       "    <tr>\n",
       "      <th>0</th>\n",
       "      <td>0clu0</td>\n",
       "      <td>München</td>\n",
       "      <td>81829</td>\n",
       "      <td>2018-05-07 00:00:00</td>\n",
       "      <td>2018-01-15 00:00:00</td>\n",
       "      <td>Winter</td>\n",
       "      <td>ONE_TWO_FAMILY_HOUSE</td>\n",
       "    </tr>\n",
       "    <tr>\n",
       "      <th>1</th>\n",
       "      <td>0clu1</td>\n",
       "      <td>München</td>\n",
       "      <td>81829</td>\n",
       "      <td>2018-05-07 00:00:00</td>\n",
       "      <td>2018-01-15 00:00:00</td>\n",
       "      <td>Winter</td>\n",
       "      <td>ONE_TWO_FAMILY_HOUSE</td>\n",
       "    </tr>\n",
       "    <tr>\n",
       "      <th>2</th>\n",
       "      <td>100</td>\n",
       "      <td>Essen</td>\n",
       "      <td>45257</td>\n",
       "      <td>2018-05-14 00:00:00</td>\n",
       "      <td>2018-05-14 00:00:00</td>\n",
       "      <td>Spring</td>\n",
       "      <td>MAISONETTE</td>\n",
       "    </tr>\n",
       "    <tr>\n",
       "      <th>3</th>\n",
       "      <td>1000</td>\n",
       "      <td>Verden (Aller)</td>\n",
       "      <td>27283</td>\n",
       "      <td>2018-04-09 00:00:00</td>\n",
       "      <td>2018-01-15 00:00:00</td>\n",
       "      <td>Winter</td>\n",
       "      <td>ONE_TWO_FAMILY_HOUSE</td>\n",
       "    </tr>\n",
       "    <tr>\n",
       "      <th>4</th>\n",
       "      <td>10000</td>\n",
       "      <td>Blankenfelde-Mahlow</td>\n",
       "      <td>15831</td>\n",
       "      <td>2018-05-14 00:00:00</td>\n",
       "      <td>2018-05-07 00:00:00</td>\n",
       "      <td>Spring</td>\n",
       "      <td>HOUSE_UNKNOWN</td>\n",
       "    </tr>\n",
       "  </tbody>\n",
       "</table>\n",
       "</div>"
      ],
      "text/plain": [
       "  unique_obj_id_clus address_geocoded_city address_geocoded_postalcode    offline_corrected     online_corrected  season           object_type\n",
       "0              0clu0               München                       81829  2018-05-07 00:00:00  2018-01-15 00:00:00  Winter  ONE_TWO_FAMILY_HOUSE\n",
       "1              0clu1               München                       81829  2018-05-07 00:00:00  2018-01-15 00:00:00  Winter  ONE_TWO_FAMILY_HOUSE\n",
       "2                100                 Essen                       45257  2018-05-14 00:00:00  2018-05-14 00:00:00  Spring            MAISONETTE\n",
       "3               1000        Verden (Aller)                       27283  2018-04-09 00:00:00  2018-01-15 00:00:00  Winter  ONE_TWO_FAMILY_HOUSE\n",
       "4              10000   Blankenfelde-Mahlow                       15831  2018-05-14 00:00:00  2018-05-07 00:00:00  Spring         HOUSE_UNKNOWN"
      ]
     },
     "execution_count": 51,
     "metadata": {},
     "output_type": "execute_result"
    }
   ],
   "source": [
    "df_info.head()"
   ]
  },
  {
   "cell_type": "code",
   "execution_count": 52,
   "metadata": {
    "scrolled": true
   },
   "outputs": [
    {
     "data": {
      "text/html": [
       "<div>\n",
       "<style scoped>\n",
       "    .dataframe tbody tr th:only-of-type {\n",
       "        vertical-align: middle;\n",
       "    }\n",
       "\n",
       "    .dataframe tbody tr th {\n",
       "        vertical-align: top;\n",
       "    }\n",
       "\n",
       "    .dataframe thead th {\n",
       "        text-align: right;\n",
       "    }\n",
       "</style>\n",
       "<table border=\"1\" class=\"dataframe\">\n",
       "  <thead>\n",
       "    <tr style=\"text-align: right;\">\n",
       "      <th></th>\n",
       "      <th>balcony_available_True</th>\n",
       "      <th>investment_rent_active_True</th>\n",
       "      <th>parking_available_True</th>\n",
       "      <th>object_type_FARMHOUSE</th>\n",
       "      <th>object_type_HOUSE_UNKNOWN</th>\n",
       "      <th>object_type_LOFT</th>\n",
       "      <th>object_type_MAISONETTE</th>\n",
       "      <th>object_type_MANSION</th>\n",
       "      <th>object_type_MULTI_FAMILY_HOUSE</th>\n",
       "      <th>object_type_ONE_TWO_FAMILY_HOUSE</th>\n",
       "      <th>object_type_PENTHOUSE</th>\n",
       "      <th>object_type_REGULAR_APARTMENT</th>\n",
       "      <th>object_type_SEMI_DETACHED_HOUSE</th>\n",
       "      <th>object_type_SPECIAL_BUILDING</th>\n",
       "      <th>object_type_TERRACED_HOUSE</th>\n",
       "      <th>season_Spring</th>\n",
       "      <th>season_Summer</th>\n",
       "      <th>season_Winter</th>\n",
       "      <th>address_lat</th>\n",
       "      <th>address_lng</th>\n",
       "      <th>construction_yearfinished</th>\n",
       "      <th>structure_area_living</th>\n",
       "      <th>structure_rooms_living</th>\n",
       "      <th>zip_population_density</th>\n",
       "      <th>object_type_ordinal</th>\n",
       "      <th>zip_market_size</th>\n",
       "      <th>city_distance</th>\n",
       "      <th>time_online</th>\n",
       "      <th>expose_price_sqm</th>\n",
       "      <th>weeks_on_market</th>\n",
       "      <th>status</th>\n",
       "    </tr>\n",
       "  </thead>\n",
       "  <tbody>\n",
       "    <tr>\n",
       "      <th>0</th>\n",
       "      <td>1</td>\n",
       "      <td>0</td>\n",
       "      <td>1</td>\n",
       "      <td>0</td>\n",
       "      <td>0</td>\n",
       "      <td>0</td>\n",
       "      <td>0</td>\n",
       "      <td>0</td>\n",
       "      <td>0</td>\n",
       "      <td>1</td>\n",
       "      <td>0</td>\n",
       "      <td>0</td>\n",
       "      <td>0</td>\n",
       "      <td>0</td>\n",
       "      <td>0</td>\n",
       "      <td>0</td>\n",
       "      <td>0</td>\n",
       "      <td>1</td>\n",
       "      <td>48.133854</td>\n",
       "      <td>11.688066</td>\n",
       "      <td>2018.0</td>\n",
       "      <td>127.0</td>\n",
       "      <td>6.0</td>\n",
       "      <td>2014.288696</td>\n",
       "      <td>1.0</td>\n",
       "      <td>346.0</td>\n",
       "      <td>0.129487</td>\n",
       "      <td>0.024390</td>\n",
       "      <td>6275.590332</td>\n",
       "      <td>17.0</td>\n",
       "      <td>0.0</td>\n",
       "    </tr>\n",
       "    <tr>\n",
       "      <th>1</th>\n",
       "      <td>1</td>\n",
       "      <td>0</td>\n",
       "      <td>1</td>\n",
       "      <td>0</td>\n",
       "      <td>0</td>\n",
       "      <td>0</td>\n",
       "      <td>0</td>\n",
       "      <td>0</td>\n",
       "      <td>0</td>\n",
       "      <td>1</td>\n",
       "      <td>0</td>\n",
       "      <td>0</td>\n",
       "      <td>0</td>\n",
       "      <td>0</td>\n",
       "      <td>0</td>\n",
       "      <td>0</td>\n",
       "      <td>0</td>\n",
       "      <td>1</td>\n",
       "      <td>48.133854</td>\n",
       "      <td>11.688066</td>\n",
       "      <td>2018.0</td>\n",
       "      <td>140.0</td>\n",
       "      <td>6.0</td>\n",
       "      <td>2014.288696</td>\n",
       "      <td>1.0</td>\n",
       "      <td>346.0</td>\n",
       "      <td>0.129487</td>\n",
       "      <td>0.024390</td>\n",
       "      <td>6900.000000</td>\n",
       "      <td>17.0</td>\n",
       "      <td>0.0</td>\n",
       "    </tr>\n",
       "    <tr>\n",
       "      <th>2</th>\n",
       "      <td>0</td>\n",
       "      <td>0</td>\n",
       "      <td>1</td>\n",
       "      <td>0</td>\n",
       "      <td>0</td>\n",
       "      <td>0</td>\n",
       "      <td>1</td>\n",
       "      <td>0</td>\n",
       "      <td>0</td>\n",
       "      <td>0</td>\n",
       "      <td>0</td>\n",
       "      <td>0</td>\n",
       "      <td>0</td>\n",
       "      <td>0</td>\n",
       "      <td>0</td>\n",
       "      <td>1</td>\n",
       "      <td>0</td>\n",
       "      <td>0</td>\n",
       "      <td>51.385792</td>\n",
       "      <td>7.085973</td>\n",
       "      <td>1982.0</td>\n",
       "      <td>120.0</td>\n",
       "      <td>4.5</td>\n",
       "      <td>906.219055</td>\n",
       "      <td>7.0</td>\n",
       "      <td>216.0</td>\n",
       "      <td>0.091109</td>\n",
       "      <td>0.231707</td>\n",
       "      <td>1791.666626</td>\n",
       "      <td>1.0</td>\n",
       "      <td>0.0</td>\n",
       "    </tr>\n",
       "    <tr>\n",
       "      <th>3</th>\n",
       "      <td>0</td>\n",
       "      <td>0</td>\n",
       "      <td>0</td>\n",
       "      <td>0</td>\n",
       "      <td>0</td>\n",
       "      <td>0</td>\n",
       "      <td>0</td>\n",
       "      <td>0</td>\n",
       "      <td>0</td>\n",
       "      <td>1</td>\n",
       "      <td>0</td>\n",
       "      <td>0</td>\n",
       "      <td>0</td>\n",
       "      <td>0</td>\n",
       "      <td>0</td>\n",
       "      <td>0</td>\n",
       "      <td>0</td>\n",
       "      <td>1</td>\n",
       "      <td>52.937435</td>\n",
       "      <td>9.236212</td>\n",
       "      <td>1954.0</td>\n",
       "      <td>110.0</td>\n",
       "      <td>5.0</td>\n",
       "      <td>370.996307</td>\n",
       "      <td>1.0</td>\n",
       "      <td>272.0</td>\n",
       "      <td>0.000116</td>\n",
       "      <td>0.024390</td>\n",
       "      <td>2036.363647</td>\n",
       "      <td>13.0</td>\n",
       "      <td>0.0</td>\n",
       "    </tr>\n",
       "    <tr>\n",
       "      <th>4</th>\n",
       "      <td>0</td>\n",
       "      <td>0</td>\n",
       "      <td>1</td>\n",
       "      <td>0</td>\n",
       "      <td>1</td>\n",
       "      <td>0</td>\n",
       "      <td>0</td>\n",
       "      <td>0</td>\n",
       "      <td>0</td>\n",
       "      <td>0</td>\n",
       "      <td>0</td>\n",
       "      <td>0</td>\n",
       "      <td>0</td>\n",
       "      <td>0</td>\n",
       "      <td>0</td>\n",
       "      <td>1</td>\n",
       "      <td>0</td>\n",
       "      <td>0</td>\n",
       "      <td>52.333286</td>\n",
       "      <td>13.414221</td>\n",
       "      <td>2015.0</td>\n",
       "      <td>179.0</td>\n",
       "      <td>5.0</td>\n",
       "      <td>393.366364</td>\n",
       "      <td>3.0</td>\n",
       "      <td>637.0</td>\n",
       "      <td>0.009717</td>\n",
       "      <td>0.219512</td>\n",
       "      <td>6983.240234</td>\n",
       "      <td>2.0</td>\n",
       "      <td>0.0</td>\n",
       "    </tr>\n",
       "  </tbody>\n",
       "</table>\n",
       "</div>"
      ],
      "text/plain": [
       "   balcony_available_True  investment_rent_active_True  parking_available_True  object_type_FARMHOUSE  object_type_HOUSE_UNKNOWN  object_type_LOFT  object_type_MAISONETTE  object_type_MANSION  object_type_MULTI_FAMILY_HOUSE  object_type_ONE_TWO_FAMILY_HOUSE  object_type_PENTHOUSE  object_type_REGULAR_APARTMENT  object_type_SEMI_DETACHED_HOUSE  object_type_SPECIAL_BUILDING  object_type_TERRACED_HOUSE  season_Spring  season_Summer  season_Winter  address_lat  address_lng  construction_yearfinished  structure_area_living  structure_rooms_living  zip_population_density  object_type_ordinal  zip_market_size  city_distance  time_online  expose_price_sqm  weeks_on_market  status\n",
       "0                       1                            0                       1                      0                          0                 0                       0                    0                               0                                 1                      0                              0                                0                             0                           0              0              0              1    48.133854    11.688066                     2018.0                  127.0                     6.0             2014.288696                  1.0            346.0       0.129487     0.024390       6275.590332             17.0     0.0\n",
       "1                       1                            0                       1                      0                          0                 0                       0                    0                               0                                 1                      0                              0                                0                             0                           0              0              0              1    48.133854    11.688066                     2018.0                  140.0                     6.0             2014.288696                  1.0            346.0       0.129487     0.024390       6900.000000             17.0     0.0\n",
       "2                       0                            0                       1                      0                          0                 0                       1                    0                               0                                 0                      0                              0                                0                             0                           0              1              0              0    51.385792     7.085973                     1982.0                  120.0                     4.5              906.219055                  7.0            216.0       0.091109     0.231707       1791.666626              1.0     0.0\n",
       "3                       0                            0                       0                      0                          0                 0                       0                    0                               0                                 1                      0                              0                                0                             0                           0              0              0              1    52.937435     9.236212                     1954.0                  110.0                     5.0              370.996307                  1.0            272.0       0.000116     0.024390       2036.363647             13.0     0.0\n",
       "4                       0                            0                       1                      0                          1                 0                       0                    0                               0                                 0                      0                              0                                0                             0                           0              1              0              0    52.333286    13.414221                     2015.0                  179.0                     5.0              393.366364                  3.0            637.0       0.009717     0.219512       6983.240234              2.0     0.0"
      ]
     },
     "execution_count": 52,
     "metadata": {},
     "output_type": "execute_result"
    }
   ],
   "source": [
    "df.head()"
   ]
  },
  {
   "cell_type": "code",
   "execution_count": null,
   "metadata": {},
   "outputs": [],
   "source": [
    "all_cities_buy.columns\n",
    "\n",
    "numeric_columns = ['address_lat','address_lng',\n",
    "                  'construction_yearfinished','structure_area_living',\n",
    "                  'structure_rooms_living',\n",
    "                  'zip_population_density',\"object_type_ordinal\",\n",
    "                  'zip_market_size','city_distance','time_online',\n",
    "                   'expose_price_sqm',\n",
    "                   'weeks_on_market','status']\n",
    "\n",
    "string_columns = ['balcony_available','investment_rent_active',\n",
    "                 'parking_available',\"object_type\",\"season\"]\n",
    "\n",
    "for col in all_cities_buy[string_columns]:\n",
    "    all_cities_buy[col] = all_cities_buy[col].astype(str) \n",
    "    \n",
    "for col in all_cities_buy[numeric_columns]:\n",
    "    all_cities_buy[col] = all_cities_buy[col].astype('float32') \n",
    "\n",
    "dummy_vars = pd.get_dummies(all_cities_buy[string_columns],\n",
    "                            drop_first =True)\n",
    "\n",
    "df = pd.concat([dummy_vars,all_cities_buy[numeric_columns]],axis=1)\n",
    "\n",
    "df_info = all_cities_buy[[\"unique_obj_id_clus\",\"address_geocoded_city\",\"address_geocoded_postalcode\",\n",
    "                         \"offline_corrected\", \"online_corrected\",\"season\",\"object_type\"]]\n",
    "\n",
    "df_info.head()\n",
    "\n",
    "df.head()"
   ]
  },
  {
   "cell_type": "markdown",
   "metadata": {},
   "source": [
    "# Save the Data"
   ]
  },
  {
   "cell_type": "code",
   "execution_count": 61,
   "metadata": {},
   "outputs": [],
   "source": [
    "#df.to_pickle(\"ultimate_data/df_price_1901.pkl\")"
   ]
  },
  {
   "cell_type": "code",
   "execution_count": 62,
   "metadata": {},
   "outputs": [],
   "source": [
    "#df_info.to_pickle(\"ultimate_data/df_info_price_1901.pkl\")"
   ]
  }
 ],
 "metadata": {
  "kernelspec": {
   "display_name": "Python [conda env:mcmakler]",
   "language": "python",
   "name": "conda-env-mcmakler-py"
  },
  "language_info": {
   "codemirror_mode": {
    "name": "ipython",
    "version": 3
   },
   "file_extension": ".py",
   "mimetype": "text/x-python",
   "name": "python",
   "nbconvert_exporter": "python",
   "pygments_lexer": "ipython3",
   "version": "3.6.9"
  }
 },
 "nbformat": 4,
 "nbformat_minor": 2
}
